{
 "cells": [
  {
   "cell_type": "markdown",
   "metadata": {
    "id": "b8pyKSIeerIZ"
   },
   "source": [
    "#Funciones y Estructuras de Control: Bucles y condiciones.\n"
   ]
  },
  {
   "cell_type": "markdown",
   "metadata": {
    "id": "CeivFPjFerIm"
   },
   "source": [
    "### Funciones, argumentos y retorno"
   ]
  },
  {
   "cell_type": "markdown",
   "metadata": {
    "id": "k2xB2HSLerIm"
   },
   "source": [
    "Las funciones tienen al menos 3 elementos:\n",
    "* El nombre de la función\n",
    "* Cero o más argumentos (variables de entrada)\n",
    "* Un valor de retorno (salida de la función)"
   ]
  },
  {
   "cell_type": "code",
   "metadata": {
    "id": "Y8uQHtPferIm",
    "colab": {
     "base_uri": "https://localhost:8080/"
    },
    "executionInfo": {
     "status": "ok",
     "timestamp": 1658125010244,
     "user_tz": 300,
     "elapsed": 228,
     "user": {
      "displayName": "Zurishadday VM",
      "userId": "12087407617886995601"
     }
    },
    "outputId": "b76b0167-4f7c-499e-86f4-7b94ff552b14",
    "ExecuteTime": {
     "end_time": "2024-12-12T04:26:15.606082Z",
     "start_time": "2024-12-12T04:26:15.600470Z"
    }
   },
   "source": [
    "def suma(x, y):  # aquí definimos una función propia con argumentos x , y\n",
    "    z = x + y  # la función suma los valores x , y, también asigna resultado a z\n",
    "    return z  # el valor de retorno es z\n",
    "\n",
    "\n",
    "resultado = suma(2, 3)  # aplicamos la función definida a los números 2 y 3\n",
    "# y guardamos el resultado en res\n",
    "print(resultado)  # mostramos el resultado: 2 + 3 = 5"
   ],
   "outputs": [
    {
     "name": "stdout",
     "output_type": "stream",
     "text": [
      "5\n"
     ]
    }
   ],
   "execution_count": 14
  },
  {
   "cell_type": "code",
   "source": [
    "def resta(g, h):\n",
    "    b = g - h\n",
    "    return b"
   ],
   "metadata": {
    "id": "sgFlVewc8-YS",
    "ExecuteTime": {
     "end_time": "2024-12-12T04:26:15.663228Z",
     "start_time": "2024-12-12T04:26:15.659013Z"
    }
   },
   "outputs": [],
   "execution_count": 15
  },
  {
   "cell_type": "code",
   "source": [
    "resta(5, 9)"
   ],
   "metadata": {
    "colab": {
     "base_uri": "https://localhost:8080/"
    },
    "id": "LR-bZxTc9TTj",
    "executionInfo": {
     "status": "ok",
     "timestamp": 1658125129775,
     "user_tz": 300,
     "elapsed": 294,
     "user": {
      "displayName": "Zurishadday VM",
      "userId": "12087407617886995601"
     }
    },
    "outputId": "ff29c9f9-1794-4adc-b843-55aca88efb04",
    "ExecuteTime": {
     "end_time": "2024-12-12T04:26:15.736608Z",
     "start_time": "2024-12-12T04:26:15.710649Z"
    }
   },
   "outputs": [
    {
     "data": {
      "text/plain": [
       "-4"
      ]
     },
     "execution_count": 16,
     "metadata": {},
     "output_type": "execute_result"
    }
   ],
   "execution_count": 16
  },
  {
   "cell_type": "code",
   "source": [
    "x = 4\n",
    "y = 8\n",
    "res = resta(x, y)\n",
    "print(\"El resultado de resta es: \", res)"
   ],
   "metadata": {
    "colab": {
     "base_uri": "https://localhost:8080/"
    },
    "id": "sKXmYpQP9awn",
    "executionInfo": {
     "status": "ok",
     "timestamp": 1658125232804,
     "user_tz": 300,
     "elapsed": 223,
     "user": {
      "displayName": "Zurishadday VM",
      "userId": "12087407617886995601"
     }
    },
    "outputId": "49af8a71-ecec-471f-f4ac-a4802d16320b",
    "ExecuteTime": {
     "end_time": "2024-12-12T04:26:15.766628Z",
     "start_time": "2024-12-12T04:26:15.760920Z"
    }
   },
   "outputs": [
    {
     "name": "stdout",
     "output_type": "stream",
     "text": [
      "El resultado de resta es:  -4\n"
     ]
    }
   ],
   "execution_count": 17
  },
  {
   "cell_type": "markdown",
   "metadata": {
    "id": "xy69ACSFerIk"
   },
   "source": [
    "### ESTRUCTURAS DE CONTROL:\n",
    "FOR, WHILE, IF\n"
   ]
  },
  {
   "cell_type": "code",
   "source": [
    "if 4 >= 8:\n",
    "    print(\"efectivamente el resultado del if es....\")\n",
    "\n",
    "else:\n",
    "    print(\"el resultado es...\")"
   ],
   "metadata": {
    "colab": {
     "base_uri": "https://localhost:8080/"
    },
    "id": "oyg9rSkB-ToL",
    "executionInfo": {
     "status": "ok",
     "timestamp": 1658125894315,
     "user_tz": 300,
     "elapsed": 234,
     "user": {
      "displayName": "Zurishadday VM",
      "userId": "12087407617886995601"
     }
    },
    "outputId": "693e1f17-829e-4e06-827a-ad48584717fa",
    "ExecuteTime": {
     "end_time": "2024-12-12T04:26:15.838341Z",
     "start_time": "2024-12-12T04:26:15.832796Z"
    }
   },
   "outputs": [
    {
     "name": "stdout",
     "output_type": "stream",
     "text": [
      "el resultado es...\n"
     ]
    }
   ],
   "execution_count": 18
  },
  {
   "cell_type": "markdown",
   "metadata": {
    "id": "nmxfFk4LerIk"
   },
   "source": [
    "Estructura condicional (IF)"
   ]
  },
  {
   "cell_type": "code",
   "metadata": {
    "id": "VIbxTlS-erIk",
    "colab": {
     "base_uri": "https://localhost:8080/"
    },
    "executionInfo": {
     "status": "ok",
     "timestamp": 1658126019637,
     "user_tz": 300,
     "elapsed": 220,
     "user": {
      "displayName": "Zurishadday VM",
      "userId": "12087407617886995601"
     }
    },
    "outputId": "fdf8d49b-2fec-4f10-cbbc-d5425bf3d3df",
    "ExecuteTime": {
     "end_time": "2024-12-12T04:26:15.909023Z",
     "start_time": "2024-12-12T04:26:15.901951Z"
    }
   },
   "source": [
    "# 1. Intenta cambiar x por 5\n",
    "# 2. Intenta cambiar x por 10\n",
    "# 3. Intenta cambiar x por 100\n",
    "\n",
    "\n",
    "def ejemplo(x=10):\n",
    "    if x < 10:  # Pregunto si x es menor a 10\n",
    "        print(x, \"es menor a 10\")  # Si es así, muestro mensaje\n",
    "    elif x > 10:  # Si no es así, pregunto si x es mayor\n",
    "        print(x, \"es mayor a 10\")  # a 10 y si es así, muestro mensaje\n",
    "    else:  # Si nada de lo anterior se\n",
    "        print(x, \"es 10\")  # cumple, ejecuto esto\n",
    "\n",
    "\n",
    "inputs = [5, 10, 100]  # Lista de valores de entrada\n",
    "for i in inputs:  # Itero sobre la lista\n",
    "    ejemplo(i)  # Ejecuto la función con cada valor"
   ],
   "outputs": [
    {
     "name": "stdout",
     "output_type": "stream",
     "text": [
      "5 es menor a 10\n",
      "10 es 10\n",
      "100 es mayor a 10\n"
     ]
    }
   ],
   "execution_count": 19
  },
  {
   "cell_type": "markdown",
   "metadata": {
    "id": "vx_Ko7YJerIk"
   },
   "source": [
    "#### Estructura FOR"
   ]
  },
  {
   "cell_type": "markdown",
   "metadata": {
    "id": "w9cCy1dlerIl"
   },
   "source": [
    "Primera forma"
   ]
  },
  {
   "cell_type": "code",
   "metadata": {
    "id": "_lUPkzP-erIl",
    "colab": {
     "base_uri": "https://localhost:8080/"
    },
    "executionInfo": {
     "status": "ok",
     "timestamp": 1658126124766,
     "user_tz": 300,
     "elapsed": 243,
     "user": {
      "displayName": "Zurishadday VM",
      "userId": "12087407617886995601"
     }
    },
    "outputId": "f1a4b8e5-b375-4337-ef13-47b524646763",
    "ExecuteTime": {
     "end_time": "2024-12-12T04:26:15.979642Z",
     "start_time": "2024-12-12T04:26:15.974280Z"
    }
   },
   "source": [
    "for i in range(1, 10):\n",
    "    print(i)"
   ],
   "outputs": [
    {
     "name": "stdout",
     "output_type": "stream",
     "text": [
      "1\n",
      "2\n",
      "3\n",
      "4\n",
      "5\n",
      "6\n",
      "7\n",
      "8\n",
      "9\n"
     ]
    }
   ],
   "execution_count": 20
  },
  {
   "cell_type": "markdown",
   "metadata": {
    "id": "fFEHoMA9erIl"
   },
   "source": [
    "Segunda Forma"
   ]
  },
  {
   "cell_type": "code",
   "metadata": {
    "id": "sJHgr6xuerIl",
    "colab": {
     "base_uri": "https://localhost:8080/"
    },
    "executionInfo": {
     "status": "ok",
     "timestamp": 1658126172739,
     "user_tz": 300,
     "elapsed": 221,
     "user": {
      "displayName": "Zurishadday VM",
      "userId": "12087407617886995601"
     }
    },
    "outputId": "96f5387e-47f3-404a-cbbc-a8a612378696",
    "ExecuteTime": {
     "end_time": "2024-12-12T04:26:16.037498Z",
     "start_time": "2024-12-12T04:26:16.031729Z"
    }
   },
   "source": [
    "for a in [1, 4, 6, 2]:\n",
    "    print(a)"
   ],
   "outputs": [
    {
     "name": "stdout",
     "output_type": "stream",
     "text": [
      "1\n",
      "4\n",
      "6\n",
      "2\n"
     ]
    }
   ],
   "execution_count": 21
  },
  {
   "cell_type": "markdown",
   "metadata": {
    "id": "_6YmjfioerIl"
   },
   "source": [
    "Combina utiliza For con condicional If"
   ]
  },
  {
   "cell_type": "code",
   "metadata": {
    "id": "ZDDs3f7LerIl",
    "colab": {
     "base_uri": "https://localhost:8080/"
    },
    "executionInfo": {
     "status": "ok",
     "timestamp": 1658126283141,
     "user_tz": 300,
     "elapsed": 210,
     "user": {
      "displayName": "Zurishadday VM",
      "userId": "12087407617886995601"
     }
    },
    "outputId": "d1ca4e41-1026-4e73-a177-a9b8cba03499",
    "ExecuteTime": {
     "end_time": "2024-12-12T04:26:16.107891Z",
     "start_time": "2024-12-12T04:26:16.102079Z"
    }
   },
   "source": [
    "# 1. Evalua si el valor dentro de la lista es par\n",
    "# 2. Utiliza el operador modulo %\n",
    "# 3. Recuerda utilizar i\n",
    "\n",
    "for i in [2, 4, 6, 7]:\n",
    "    if i % 2 == 0:\n",
    "        print(\"Es par {}\".format(i))\n",
    "    else:\n",
    "        print(\"No es par {}\".format(i))"
   ],
   "outputs": [
    {
     "name": "stdout",
     "output_type": "stream",
     "text": [
      "Es par 2\n",
      "Es par 4\n",
      "Es par 6\n",
      "No es par 7\n"
     ]
    }
   ],
   "execution_count": 22
  },
  {
   "cell_type": "markdown",
   "metadata": {
    "id": "V-DVq_lOerIl"
   },
   "source": [
    "#### Estructura WHILE\n",
    "Repite una secuencia de comandos “mientras” una condición se cumpla. Cuando la condición no se cumple más, termina la repetición."
   ]
  },
  {
   "cell_type": "code",
   "metadata": {
    "id": "nvj5L34eerIm",
    "colab": {
     "base_uri": "https://localhost:8080/"
    },
    "executionInfo": {
     "status": "ok",
     "timestamp": 1658126385008,
     "user_tz": 300,
     "elapsed": 217,
     "user": {
      "displayName": "Zurishadday VM",
      "userId": "12087407617886995601"
     }
    },
    "outputId": "9e1ee366-0b3c-4ded-a71e-81a5d55c857b",
    "ExecuteTime": {
     "end_time": "2024-12-12T04:26:16.175962Z",
     "start_time": "2024-12-12T04:26:16.170391Z"
    }
   },
   "source": [
    "i = 1\n",
    "while i < 5:  # el código luego de los dos puntos se ejecuta\n",
    "    print(i)  # mientras i es menor a 10.\n",
    "    i = i + 1  # i=i+1  # cuando i llega a 10 termina la ejecución"
   ],
   "outputs": [
    {
     "name": "stdout",
     "output_type": "stream",
     "text": [
      "1\n",
      "2\n",
      "3\n",
      "4\n"
     ]
    }
   ],
   "execution_count": 23
  },
  {
   "cell_type": "markdown",
   "metadata": {
    "id": "g1GqMiuHerIm"
   },
   "source": [
    "Siempre pongan un incremental en el While!"
   ]
  },
  {
   "cell_type": "markdown",
   "metadata": {
    "id": "RSG2w6QberIm"
   },
   "source": [
    "## Ejercicio\n"
   ]
  },
  {
   "cell_type": "code",
   "metadata": {
    "id": "YRYehiWmerIm",
    "colab": {
     "base_uri": "https://localhost:8080/"
    },
    "executionInfo": {
     "status": "ok",
     "timestamp": 1658127296603,
     "user_tz": 300,
     "elapsed": 218,
     "user": {
      "displayName": "Zurishadday VM",
      "userId": "12087407617886995601"
     }
    },
    "outputId": "b3325231-9fa7-4570-f12f-7697c8a830b2",
    "ExecuteTime": {
     "end_time": "2024-12-12T04:26:16.236356Z",
     "start_time": "2024-12-12T04:26:16.229852Z"
    }
   },
   "source": [
    "# Ejercicio 1.\n",
    "# Se busca el factorial de x = 5!---> 1*2*3*4*5\n",
    "# Se va a requerir un for usando un range\n",
    "# Recuerden usar los operadores aritméticos de la clase 1.\n",
    "# Reemplazar ___ por la respuesta\n",
    "\n",
    "# fac = 1\n",
    "#\n",
    "# for i in range(1,6):\n",
    "#   fac =  fac * i\n",
    "# fac= 1*1 Primer instruccion iterativa\n",
    "# 1(fac) * 2(i) = 2 Segunda instrucción iterativa\n",
    "# 2(fac) * 3(i) = 6 Tercer instrucción iterativa\n",
    "# 6 (fac) * 4 (i) =  24 Cuarta instrucción iterativa\n",
    "# 24 (fac) * 5 (i) = 120\n",
    "\n",
    "# print(\"Resultado del factorial es: \", fac)\n",
    "\n",
    "\n",
    "# Respuesta\n",
    "def factorial(n: int = 1) -> int:\n",
    "    resultado = 1\n",
    "    for i in range(1, n + 1):\n",
    "        resultado *= i\n",
    "    return resultado\n",
    "\n",
    "\n",
    "for i in range(1, 6):\n",
    "    print(f\"R= Factorial de {i} es: {factorial(i)}\")"
   ],
   "outputs": [
    {
     "name": "stdout",
     "output_type": "stream",
     "text": [
      "R= Factorial de 1 es: 1\n",
      "R= Factorial de 2 es: 2\n",
      "R= Factorial de 3 es: 6\n",
      "R= Factorial de 4 es: 24\n",
      "R= Factorial de 5 es: 120\n"
     ]
    }
   ],
   "execution_count": 24
  },
  {
   "cell_type": "code",
   "metadata": {
    "scrolled": true,
    "id": "LSjq6m4YerIm",
    "colab": {
     "base_uri": "https://localhost:8080/"
    },
    "executionInfo": {
     "status": "ok",
     "timestamp": 1658127481723,
     "user_tz": 300,
     "elapsed": 354,
     "user": {
      "displayName": "Zurishadday VM",
      "userId": "12087407617886995601"
     }
    },
    "outputId": "dc6e264b-1de7-489a-fb7e-a983fc1a69e7",
    "ExecuteTime": {
     "end_time": "2024-12-12T04:26:16.296107Z",
     "start_time": "2024-12-12T04:26:16.290197Z"
    }
   },
   "source": [
    "# Ejercicio 2.\n",
    "# Se suma  1 al 100 por ejemplo: 1+2+3+4+5... +100\n",
    "# Se va a requerir un for usando un range\n",
    "# Reemplazar ___ por la respuesta\n",
    "\n",
    "# suma = 0\n",
    "#\n",
    "# for i in range(1,101):\n",
    "#     print(i,suma)\n",
    "#     suma = suma +i\n",
    "#\n",
    "# print(\"Resultado de la suma es: \",suma)\n",
    "\n",
    "\n",
    "def suma_rango(inicio: int = 1, fin: int = 2) -> int:\n",
    "    resultado = 0\n",
    "    for i in range(inicio, fin):\n",
    "        resultado += i\n",
    "    return resultado\n",
    "\n",
    "\n",
    "print(\"Resultado de la suma es: \", suma_rango(1, 100))"
   ],
   "outputs": [
    {
     "name": "stdout",
     "output_type": "stream",
     "text": [
      "Resultado de la suma es:  4950\n"
     ]
    }
   ],
   "execution_count": 25
  }
 ],
 "metadata": {
  "kernelspec": {
   "display_name": "Python 3 (ipykernel)",
   "language": "python",
   "name": "python3"
  },
  "language_info": {
   "codemirror_mode": {
    "name": "ipython",
    "version": 3
   },
   "file_extension": ".py",
   "mimetype": "text/x-python",
   "name": "python",
   "nbconvert_exporter": "python",
   "pygments_lexer": "ipython3",
   "version": "3.9.7"
  },
  "colab": {
   "provenance": []
  }
 },
 "nbformat": 4,
 "nbformat_minor": 0
}
