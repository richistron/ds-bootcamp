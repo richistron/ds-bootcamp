{
 "cells": [
  {
   "cell_type": "markdown",
   "id": "99712307",
   "metadata": {
    "id": "99712307"
   },
   "source": [
    "# Librerías y Pandas\n"
   ]
  },
  {
   "cell_type": "code",
   "id": "ff9ab376",
   "metadata": {
    "id": "ff9ab376",
    "ExecuteTime": {
     "end_time": "2024-12-21T01:18:17.118282Z",
     "start_time": "2024-12-21T01:18:16.517931Z"
    }
   },
   "source": [
    "# Importando la librería\n",
    "import pandas as pd"
   ],
   "outputs": [],
   "execution_count": 2
  },
  {
   "cell_type": "markdown",
   "id": "e6ea637b",
   "metadata": {
    "id": "e6ea637b"
   },
   "source": [
    "### Las estructuras de datos en Pandas"
   ]
  },
  {
   "cell_type": "markdown",
   "id": "12088fae",
   "metadata": {
    "id": "12088fae"
   },
   "source": [
    "**Panda Series**"
   ]
  },
  {
   "cell_type": "code",
   "id": "bd18cee7",
   "metadata": {
    "id": "bd18cee7",
    "ExecuteTime": {
     "end_time": "2024-12-21T01:18:17.131522Z",
     "start_time": "2024-12-21T01:18:17.126147Z"
    }
   },
   "source": [
    "Serie_numeros = [20, 23, 26, 29, 32, 35, 38]\n",
    "df_serie = pd.Series(Serie_numeros)\n",
    "print(df_serie)"
   ],
   "outputs": [
    {
     "name": "stdout",
     "output_type": "stream",
     "text": [
      "0    20\n",
      "1    23\n",
      "2    26\n",
      "3    29\n",
      "4    32\n",
      "5    35\n",
      "6    38\n",
      "dtype: int64\n"
     ]
    }
   ],
   "execution_count": 3
  },
  {
   "cell_type": "markdown",
   "id": "bd1203c4",
   "metadata": {
    "id": "bd1203c4"
   },
   "source": [
    "**Panda Series**"
   ]
  },
  {
   "cell_type": "markdown",
   "id": "600ad386",
   "metadata": {
    "id": "600ad386"
   },
   "source": [
    "Tanto el arreglo de índices como el de valores pueden modificarse"
   ]
  },
  {
   "cell_type": "code",
   "id": "0704036a",
   "metadata": {
    "id": "0704036a",
    "ExecuteTime": {
     "end_time": "2024-12-21T01:18:17.193468Z",
     "start_time": "2024-12-21T01:18:17.183166Z"
    }
   },
   "source": [
    "indices = [1, 2, 3, 4, 5, 6, 7]\n",
    "df_serie_2 = pd.Series(Serie_numeros, index=indices)\n",
    "df_serie_2"
   ],
   "outputs": [
    {
     "data": {
      "text/plain": [
       "1    20\n",
       "2    23\n",
       "3    26\n",
       "4    29\n",
       "5    32\n",
       "6    35\n",
       "7    38\n",
       "dtype: int64"
      ]
     },
     "execution_count": 4,
     "metadata": {},
     "output_type": "execute_result"
    }
   ],
   "execution_count": 4
  },
  {
   "cell_type": "markdown",
   "id": "54ce8d87",
   "metadata": {
    "id": "54ce8d87"
   },
   "source": [
    "**Panda Data Frame**"
   ]
  },
  {
   "cell_type": "markdown",
   "id": "10f00b47",
   "metadata": {
    "id": "10f00b47"
   },
   "source": [
    "Construyendo un Data Frame manualmente"
   ]
  },
  {
   "cell_type": "code",
   "id": "314b171b",
   "metadata": {
    "id": "314b171b",
    "ExecuteTime": {
     "end_time": "2024-12-21T01:18:17.260051Z",
     "start_time": "2024-12-21T01:18:17.247464Z"
    }
   },
   "source": [
    "data = {\"calorias\": [420, 380, 390], \"duracion\": [30, 40, 50]}\n",
    "indice = [\"primer cliente\", \"segundo cliente\", \"tercer cliente\"]\n",
    "\n",
    "df = pd.DataFrame(data, index=indice)\n",
    "\n",
    "print(df)"
   ],
   "outputs": [
    {
     "name": "stdout",
     "output_type": "stream",
     "text": [
      "                 calorias  duracion\n",
      "primer cliente        420        30\n",
      "segundo cliente       380        40\n",
      "tercer cliente        390        50\n"
     ]
    }
   ],
   "execution_count": 5
  },
  {
   "cell_type": "markdown",
   "id": "f4671d76",
   "metadata": {
    "id": "f4671d76"
   },
   "source": [
    "###  Elementos de los DataFrame"
   ]
  },
  {
   "cell_type": "markdown",
   "id": "8e720b79",
   "metadata": {
    "id": "8e720b79"
   },
   "source": [
    "También podemos seleccionar partes específicas del Data Frame, como índices, columnas y valores"
   ]
  },
  {
   "cell_type": "code",
   "id": "c6a8464f",
   "metadata": {
    "id": "c6a8464f",
    "ExecuteTime": {
     "end_time": "2024-12-21T01:18:17.349141Z",
     "start_time": "2024-12-21T01:18:17.343656Z"
    }
   },
   "source": [
    "df.index"
   ],
   "outputs": [
    {
     "data": {
      "text/plain": [
       "Index(['primer cliente', 'segundo cliente', 'tercer cliente'], dtype='object')"
      ]
     },
     "execution_count": 6,
     "metadata": {},
     "output_type": "execute_result"
    }
   ],
   "execution_count": 6
  },
  {
   "cell_type": "code",
   "id": "c8e8d88b",
   "metadata": {
    "id": "c8e8d88b",
    "ExecuteTime": {
     "end_time": "2024-12-21T01:18:17.413953Z",
     "start_time": "2024-12-21T01:18:17.407984Z"
    }
   },
   "source": [
    "df.columns"
   ],
   "outputs": [
    {
     "data": {
      "text/plain": [
       "Index(['calorias', 'duracion'], dtype='object')"
      ]
     },
     "execution_count": 7,
     "metadata": {},
     "output_type": "execute_result"
    }
   ],
   "execution_count": 7
  },
  {
   "cell_type": "code",
   "id": "7372a95f",
   "metadata": {
    "id": "7372a95f",
    "ExecuteTime": {
     "end_time": "2024-12-21T01:18:17.528046Z",
     "start_time": "2024-12-21T01:18:17.522615Z"
    }
   },
   "source": [
    "df.values"
   ],
   "outputs": [
    {
     "data": {
      "text/plain": [
       "array([[420,  30],\n",
       "       [380,  40],\n",
       "       [390,  50]])"
      ]
     },
     "execution_count": 8,
     "metadata": {},
     "output_type": "execute_result"
    }
   ],
   "execution_count": 8
  },
  {
   "cell_type": "code",
   "id": "d1a87e7c",
   "metadata": {
    "id": "d1a87e7c",
    "ExecuteTime": {
     "end_time": "2024-12-21T01:18:17.590850Z",
     "start_time": "2024-12-21T01:18:17.584584Z"
    }
   },
   "source": [
    "# Seleccionando columna\n",
    "df[\"calorias\"]"
   ],
   "outputs": [
    {
     "data": {
      "text/plain": [
       "primer cliente     420\n",
       "segundo cliente    380\n",
       "tercer cliente     390\n",
       "Name: calorias, dtype: int64"
      ]
     },
     "execution_count": 9,
     "metadata": {},
     "output_type": "execute_result"
    }
   ],
   "execution_count": 9
  },
  {
   "cell_type": "code",
   "id": "06246962",
   "metadata": {
    "id": "06246962",
    "ExecuteTime": {
     "end_time": "2024-12-21T01:18:17.655865Z",
     "start_time": "2024-12-21T01:18:17.650276Z"
    }
   },
   "source": [
    "# Al seleccionar una columna, automáticamente lo entiende como pandas Series\n",
    "type(df[\"calorias\"])"
   ],
   "outputs": [
    {
     "data": {
      "text/plain": [
       "pandas.core.series.Series"
      ]
     },
     "execution_count": 10,
     "metadata": {},
     "output_type": "execute_result"
    }
   ],
   "execution_count": 10
  },
  {
   "cell_type": "code",
   "id": "7ff687e8",
   "metadata": {
    "id": "7ff687e8",
    "ExecuteTime": {
     "end_time": "2024-12-21T01:18:17.781029Z",
     "start_time": "2024-12-21T01:18:17.773900Z"
    }
   },
   "source": [
    "# Selección de fila\n",
    "df[\"calorias\"]"
   ],
   "outputs": [
    {
     "data": {
      "text/plain": [
       "primer cliente     420\n",
       "segundo cliente    380\n",
       "tercer cliente     390\n",
       "Name: calorias, dtype: int64"
      ]
     },
     "execution_count": 11,
     "metadata": {},
     "output_type": "execute_result"
    }
   ],
   "execution_count": 11
  },
  {
   "cell_type": "code",
   "id": "8a4312b2",
   "metadata": {
    "id": "8a4312b2",
    "ExecuteTime": {
     "end_time": "2024-12-21T01:18:17.933523Z",
     "start_time": "2024-12-21T01:18:17.928231Z"
    }
   },
   "source": [
    "print(df)"
   ],
   "outputs": [
    {
     "name": "stdout",
     "output_type": "stream",
     "text": [
      "                 calorias  duracion\n",
      "primer cliente        420        30\n",
      "segundo cliente       380        40\n",
      "tercer cliente        390        50\n"
     ]
    }
   ],
   "execution_count": 12
  },
  {
   "cell_type": "markdown",
   "id": "bf278aae",
   "metadata": {
    "id": "bf278aae"
   },
   "source": [
    "### Selección con condición"
   ]
  },
  {
   "cell_type": "markdown",
   "id": "0cf2d214",
   "metadata": {
    "id": "0cf2d214"
   },
   "source": [
    "Supongamos que necesitamos un listado de precios de aquellos autos con peso mayor a 3600"
   ]
  },
  {
   "cell_type": "code",
   "id": "b99aa8e4",
   "metadata": {
    "id": "b99aa8e4",
    "ExecuteTime": {
     "end_time": "2024-12-21T01:18:18.037097Z",
     "start_time": "2024-12-21T01:18:18.027259Z"
    }
   },
   "source": [
    "# Eñ truco es: df [condición, nombre_de_la_columna]\n",
    "df.loc[df.duracion <= 40, \"duracion\"]"
   ],
   "outputs": [
    {
     "data": {
      "text/plain": [
       "primer cliente     30\n",
       "segundo cliente    40\n",
       "Name: duracion, dtype: int64"
      ]
     },
     "execution_count": 13,
     "metadata": {},
     "output_type": "execute_result"
    }
   ],
   "execution_count": 13
  },
  {
   "cell_type": "code",
   "id": "46337cd7",
   "metadata": {
    "id": "46337cd7",
    "ExecuteTime": {
     "end_time": "2024-12-21T01:18:18.168747Z",
     "start_time": "2024-12-21T01:18:18.160525Z"
    }
   },
   "source": [
    "df.loc[(df.duracion <= 40) & (df.calorias >= 380), :]"
   ],
   "outputs": [
    {
     "data": {
      "text/plain": [
       "                 calorias  duracion\n",
       "primer cliente        420        30\n",
       "segundo cliente       380        40"
      ],
      "text/html": [
       "<div>\n",
       "<style scoped>\n",
       "    .dataframe tbody tr th:only-of-type {\n",
       "        vertical-align: middle;\n",
       "    }\n",
       "\n",
       "    .dataframe tbody tr th {\n",
       "        vertical-align: top;\n",
       "    }\n",
       "\n",
       "    .dataframe thead th {\n",
       "        text-align: right;\n",
       "    }\n",
       "</style>\n",
       "<table border=\"1\" class=\"dataframe\">\n",
       "  <thead>\n",
       "    <tr style=\"text-align: right;\">\n",
       "      <th></th>\n",
       "      <th>calorias</th>\n",
       "      <th>duracion</th>\n",
       "    </tr>\n",
       "  </thead>\n",
       "  <tbody>\n",
       "    <tr>\n",
       "      <th>primer cliente</th>\n",
       "      <td>420</td>\n",
       "      <td>30</td>\n",
       "    </tr>\n",
       "    <tr>\n",
       "      <th>segundo cliente</th>\n",
       "      <td>380</td>\n",
       "      <td>40</td>\n",
       "    </tr>\n",
       "  </tbody>\n",
       "</table>\n",
       "</div>"
      ]
     },
     "execution_count": 14,
     "metadata": {},
     "output_type": "execute_result"
    }
   ],
   "execution_count": 14
  },
  {
   "cell_type": "markdown",
   "id": "d6bb845d",
   "metadata": {
    "id": "d6bb845d"
   },
   "source": [
    "### Metodos y Atributos"
   ]
  },
  {
   "cell_type": "markdown",
   "id": "c3732797",
   "metadata": {
    "id": "c3732797"
   },
   "source": [
    "Carga de datos"
   ]
  },
  {
   "cell_type": "code",
   "id": "3abe9a5f",
   "metadata": {
    "id": "3abe9a5f",
    "ExecuteTime": {
     "end_time": "2024-12-21T01:18:18.330313Z",
     "start_time": "2024-12-21T01:18:18.316255Z"
    }
   },
   "source": [
    "# https://www.kaggle.com/datasets/rounakbanik/pokemon\n",
    "df1 = pd.read_csv(\"ds_salaries.csv\", index_col=1)"
   ],
   "outputs": [],
   "execution_count": 15
  },
  {
   "cell_type": "code",
   "id": "3f61cf01",
   "metadata": {
    "id": "3f61cf01",
    "ExecuteTime": {
     "end_time": "2024-12-21T01:18:18.421396Z",
     "start_time": "2024-12-21T01:18:18.410722Z"
    }
   },
   "source": [
    "df1.head()"
   ],
   "outputs": [
    {
     "data": {
      "text/plain": [
       "           Unnamed: 0 experience_level employment_type  \\\n",
       "work_year                                                \n",
       "2020                0               MI              FT   \n",
       "2020                1               SE              FT   \n",
       "2020                2               SE              FT   \n",
       "2020                3               MI              FT   \n",
       "2020                4               SE              FT   \n",
       "\n",
       "                            job_title  salary salary_currency  salary_in_usd  \\\n",
       "work_year                                                                      \n",
       "2020                   Data Scientist   70000             EUR          79833   \n",
       "2020       Machine Learning Scientist  260000             USD         260000   \n",
       "2020                Big Data Engineer   85000             GBP         109024   \n",
       "2020             Product Data Analyst   20000             USD          20000   \n",
       "2020        Machine Learning Engineer  150000             USD         150000   \n",
       "\n",
       "          employee_residence  remote_ratio company_location company_size  \n",
       "work_year                                                                 \n",
       "2020                      DE             0               DE            L  \n",
       "2020                      JP             0               JP            S  \n",
       "2020                      GB            50               GB            M  \n",
       "2020                      HN             0               HN            S  \n",
       "2020                      US            50               US            L  "
      ],
      "text/html": [
       "<div>\n",
       "<style scoped>\n",
       "    .dataframe tbody tr th:only-of-type {\n",
       "        vertical-align: middle;\n",
       "    }\n",
       "\n",
       "    .dataframe tbody tr th {\n",
       "        vertical-align: top;\n",
       "    }\n",
       "\n",
       "    .dataframe thead th {\n",
       "        text-align: right;\n",
       "    }\n",
       "</style>\n",
       "<table border=\"1\" class=\"dataframe\">\n",
       "  <thead>\n",
       "    <tr style=\"text-align: right;\">\n",
       "      <th></th>\n",
       "      <th>Unnamed: 0</th>\n",
       "      <th>experience_level</th>\n",
       "      <th>employment_type</th>\n",
       "      <th>job_title</th>\n",
       "      <th>salary</th>\n",
       "      <th>salary_currency</th>\n",
       "      <th>salary_in_usd</th>\n",
       "      <th>employee_residence</th>\n",
       "      <th>remote_ratio</th>\n",
       "      <th>company_location</th>\n",
       "      <th>company_size</th>\n",
       "    </tr>\n",
       "    <tr>\n",
       "      <th>work_year</th>\n",
       "      <th></th>\n",
       "      <th></th>\n",
       "      <th></th>\n",
       "      <th></th>\n",
       "      <th></th>\n",
       "      <th></th>\n",
       "      <th></th>\n",
       "      <th></th>\n",
       "      <th></th>\n",
       "      <th></th>\n",
       "      <th></th>\n",
       "    </tr>\n",
       "  </thead>\n",
       "  <tbody>\n",
       "    <tr>\n",
       "      <th>2020</th>\n",
       "      <td>0</td>\n",
       "      <td>MI</td>\n",
       "      <td>FT</td>\n",
       "      <td>Data Scientist</td>\n",
       "      <td>70000</td>\n",
       "      <td>EUR</td>\n",
       "      <td>79833</td>\n",
       "      <td>DE</td>\n",
       "      <td>0</td>\n",
       "      <td>DE</td>\n",
       "      <td>L</td>\n",
       "    </tr>\n",
       "    <tr>\n",
       "      <th>2020</th>\n",
       "      <td>1</td>\n",
       "      <td>SE</td>\n",
       "      <td>FT</td>\n",
       "      <td>Machine Learning Scientist</td>\n",
       "      <td>260000</td>\n",
       "      <td>USD</td>\n",
       "      <td>260000</td>\n",
       "      <td>JP</td>\n",
       "      <td>0</td>\n",
       "      <td>JP</td>\n",
       "      <td>S</td>\n",
       "    </tr>\n",
       "    <tr>\n",
       "      <th>2020</th>\n",
       "      <td>2</td>\n",
       "      <td>SE</td>\n",
       "      <td>FT</td>\n",
       "      <td>Big Data Engineer</td>\n",
       "      <td>85000</td>\n",
       "      <td>GBP</td>\n",
       "      <td>109024</td>\n",
       "      <td>GB</td>\n",
       "      <td>50</td>\n",
       "      <td>GB</td>\n",
       "      <td>M</td>\n",
       "    </tr>\n",
       "    <tr>\n",
       "      <th>2020</th>\n",
       "      <td>3</td>\n",
       "      <td>MI</td>\n",
       "      <td>FT</td>\n",
       "      <td>Product Data Analyst</td>\n",
       "      <td>20000</td>\n",
       "      <td>USD</td>\n",
       "      <td>20000</td>\n",
       "      <td>HN</td>\n",
       "      <td>0</td>\n",
       "      <td>HN</td>\n",
       "      <td>S</td>\n",
       "    </tr>\n",
       "    <tr>\n",
       "      <th>2020</th>\n",
       "      <td>4</td>\n",
       "      <td>SE</td>\n",
       "      <td>FT</td>\n",
       "      <td>Machine Learning Engineer</td>\n",
       "      <td>150000</td>\n",
       "      <td>USD</td>\n",
       "      <td>150000</td>\n",
       "      <td>US</td>\n",
       "      <td>50</td>\n",
       "      <td>US</td>\n",
       "      <td>L</td>\n",
       "    </tr>\n",
       "  </tbody>\n",
       "</table>\n",
       "</div>"
      ]
     },
     "execution_count": 16,
     "metadata": {},
     "output_type": "execute_result"
    }
   ],
   "execution_count": 16
  },
  {
   "cell_type": "markdown",
   "id": "dbe71794",
   "metadata": {
    "id": "dbe71794"
   },
   "source": [
    "Atributos de pandas"
   ]
  },
  {
   "cell_type": "code",
   "id": "9d9e9d5c",
   "metadata": {
    "id": "9d9e9d5c",
    "ExecuteTime": {
     "end_time": "2024-12-21T01:18:18.543563Z",
     "start_time": "2024-12-21T01:18:18.537981Z"
    }
   },
   "source": [
    "df1.shape"
   ],
   "outputs": [
    {
     "data": {
      "text/plain": [
       "(607, 11)"
      ]
     },
     "execution_count": 17,
     "metadata": {},
     "output_type": "execute_result"
    }
   ],
   "execution_count": 17
  },
  {
   "cell_type": "code",
   "id": "641ae119",
   "metadata": {
    "id": "641ae119",
    "ExecuteTime": {
     "end_time": "2024-12-21T01:18:18.684387Z",
     "start_time": "2024-12-21T01:18:18.679288Z"
    }
   },
   "source": [
    "df1.columns"
   ],
   "outputs": [
    {
     "data": {
      "text/plain": [
       "Index(['Unnamed: 0', 'experience_level', 'employment_type', 'job_title',\n",
       "       'salary', 'salary_currency', 'salary_in_usd', 'employee_residence',\n",
       "       'remote_ratio', 'company_location', 'company_size'],\n",
       "      dtype='object')"
      ]
     },
     "execution_count": 18,
     "metadata": {},
     "output_type": "execute_result"
    }
   ],
   "execution_count": 18
  },
  {
   "cell_type": "markdown",
   "id": "f66da90b",
   "metadata": {
    "id": "f66da90b"
   },
   "source": [
    "Metodos de pandas"
   ]
  },
  {
   "cell_type": "code",
   "id": "abd46b22",
   "metadata": {
    "id": "abd46b22",
    "ExecuteTime": {
     "end_time": "2024-12-21T01:18:18.774520Z",
     "start_time": "2024-12-21T01:18:18.766519Z"
    }
   },
   "source": [
    "df1[\"company_location\"].value_counts()"
   ],
   "outputs": [
    {
     "data": {
      "text/plain": [
       "company_location\n",
       "US    355\n",
       "GB     47\n",
       "CA     30\n",
       "DE     28\n",
       "IN     24\n",
       "FR     15\n",
       "ES     14\n",
       "GR     11\n",
       "JP      6\n",
       "NL      4\n",
       "PT      4\n",
       "PL      4\n",
       "AT      4\n",
       "MX      3\n",
       "DK      3\n",
       "AE      3\n",
       "PK      3\n",
       "LU      3\n",
       "TR      3\n",
       "BR      3\n",
       "AU      3\n",
       "RU      2\n",
       "CN      2\n",
       "CH      2\n",
       "BE      2\n",
       "NG      2\n",
       "SI      2\n",
       "IT      2\n",
       "CZ      2\n",
       "NZ      1\n",
       "HU      1\n",
       "HN      1\n",
       "SG      1\n",
       "HR      1\n",
       "MT      1\n",
       "IL      1\n",
       "UA      1\n",
       "RO      1\n",
       "IQ      1\n",
       "MD      1\n",
       "CL      1\n",
       "IR      1\n",
       "VN      1\n",
       "KE      1\n",
       "CO      1\n",
       "AS      1\n",
       "DZ      1\n",
       "EE      1\n",
       "MY      1\n",
       "IE      1\n",
       "Name: count, dtype: int64"
      ]
     },
     "execution_count": 19,
     "metadata": {},
     "output_type": "execute_result"
    }
   ],
   "execution_count": 19
  },
  {
   "cell_type": "code",
   "id": "889a1d03",
   "metadata": {
    "id": "889a1d03",
    "ExecuteTime": {
     "end_time": "2024-12-21T01:18:18.864859Z",
     "start_time": "2024-12-21T01:18:18.847194Z"
    }
   },
   "source": [
    "df1.describe()"
   ],
   "outputs": [
    {
     "data": {
      "text/plain": [
       "       Unnamed: 0        salary  salary_in_usd  remote_ratio\n",
       "count  607.000000  6.070000e+02     607.000000     607.00000\n",
       "mean   303.000000  3.240001e+05  112297.869852      70.92257\n",
       "std    175.370085  1.544357e+06   70957.259411      40.70913\n",
       "min      0.000000  4.000000e+03    2859.000000       0.00000\n",
       "25%    151.500000  7.000000e+04   62726.000000      50.00000\n",
       "50%    303.000000  1.150000e+05  101570.000000     100.00000\n",
       "75%    454.500000  1.650000e+05  150000.000000     100.00000\n",
       "max    606.000000  3.040000e+07  600000.000000     100.00000"
      ],
      "text/html": [
       "<div>\n",
       "<style scoped>\n",
       "    .dataframe tbody tr th:only-of-type {\n",
       "        vertical-align: middle;\n",
       "    }\n",
       "\n",
       "    .dataframe tbody tr th {\n",
       "        vertical-align: top;\n",
       "    }\n",
       "\n",
       "    .dataframe thead th {\n",
       "        text-align: right;\n",
       "    }\n",
       "</style>\n",
       "<table border=\"1\" class=\"dataframe\">\n",
       "  <thead>\n",
       "    <tr style=\"text-align: right;\">\n",
       "      <th></th>\n",
       "      <th>Unnamed: 0</th>\n",
       "      <th>salary</th>\n",
       "      <th>salary_in_usd</th>\n",
       "      <th>remote_ratio</th>\n",
       "    </tr>\n",
       "  </thead>\n",
       "  <tbody>\n",
       "    <tr>\n",
       "      <th>count</th>\n",
       "      <td>607.000000</td>\n",
       "      <td>6.070000e+02</td>\n",
       "      <td>607.000000</td>\n",
       "      <td>607.00000</td>\n",
       "    </tr>\n",
       "    <tr>\n",
       "      <th>mean</th>\n",
       "      <td>303.000000</td>\n",
       "      <td>3.240001e+05</td>\n",
       "      <td>112297.869852</td>\n",
       "      <td>70.92257</td>\n",
       "    </tr>\n",
       "    <tr>\n",
       "      <th>std</th>\n",
       "      <td>175.370085</td>\n",
       "      <td>1.544357e+06</td>\n",
       "      <td>70957.259411</td>\n",
       "      <td>40.70913</td>\n",
       "    </tr>\n",
       "    <tr>\n",
       "      <th>min</th>\n",
       "      <td>0.000000</td>\n",
       "      <td>4.000000e+03</td>\n",
       "      <td>2859.000000</td>\n",
       "      <td>0.00000</td>\n",
       "    </tr>\n",
       "    <tr>\n",
       "      <th>25%</th>\n",
       "      <td>151.500000</td>\n",
       "      <td>7.000000e+04</td>\n",
       "      <td>62726.000000</td>\n",
       "      <td>50.00000</td>\n",
       "    </tr>\n",
       "    <tr>\n",
       "      <th>50%</th>\n",
       "      <td>303.000000</td>\n",
       "      <td>1.150000e+05</td>\n",
       "      <td>101570.000000</td>\n",
       "      <td>100.00000</td>\n",
       "    </tr>\n",
       "    <tr>\n",
       "      <th>75%</th>\n",
       "      <td>454.500000</td>\n",
       "      <td>1.650000e+05</td>\n",
       "      <td>150000.000000</td>\n",
       "      <td>100.00000</td>\n",
       "    </tr>\n",
       "    <tr>\n",
       "      <th>max</th>\n",
       "      <td>606.000000</td>\n",
       "      <td>3.040000e+07</td>\n",
       "      <td>600000.000000</td>\n",
       "      <td>100.00000</td>\n",
       "    </tr>\n",
       "  </tbody>\n",
       "</table>\n",
       "</div>"
      ]
     },
     "execution_count": 20,
     "metadata": {},
     "output_type": "execute_result"
    }
   ],
   "execution_count": 20
  },
  {
   "cell_type": "code",
   "id": "d8fe6d09",
   "metadata": {
    "scrolled": true,
    "id": "d8fe6d09",
    "ExecuteTime": {
     "end_time": "2024-12-21T01:18:19.050273Z",
     "start_time": "2024-12-21T01:18:19.030736Z"
    }
   },
   "source": [
    "df1.describe().T"
   ],
   "outputs": [
    {
     "data": {
      "text/plain": [
       "               count           mean           std     min      25%       50%  \\\n",
       "Unnamed: 0     607.0     303.000000  1.753701e+02     0.0    151.5     303.0   \n",
       "salary         607.0  324000.062603  1.544357e+06  4000.0  70000.0  115000.0   \n",
       "salary_in_usd  607.0  112297.869852  7.095726e+04  2859.0  62726.0  101570.0   \n",
       "remote_ratio   607.0      70.922570  4.070913e+01     0.0     50.0     100.0   \n",
       "\n",
       "                    75%         max  \n",
       "Unnamed: 0        454.5       606.0  \n",
       "salary         165000.0  30400000.0  \n",
       "salary_in_usd  150000.0    600000.0  \n",
       "remote_ratio      100.0       100.0  "
      ],
      "text/html": [
       "<div>\n",
       "<style scoped>\n",
       "    .dataframe tbody tr th:only-of-type {\n",
       "        vertical-align: middle;\n",
       "    }\n",
       "\n",
       "    .dataframe tbody tr th {\n",
       "        vertical-align: top;\n",
       "    }\n",
       "\n",
       "    .dataframe thead th {\n",
       "        text-align: right;\n",
       "    }\n",
       "</style>\n",
       "<table border=\"1\" class=\"dataframe\">\n",
       "  <thead>\n",
       "    <tr style=\"text-align: right;\">\n",
       "      <th></th>\n",
       "      <th>count</th>\n",
       "      <th>mean</th>\n",
       "      <th>std</th>\n",
       "      <th>min</th>\n",
       "      <th>25%</th>\n",
       "      <th>50%</th>\n",
       "      <th>75%</th>\n",
       "      <th>max</th>\n",
       "    </tr>\n",
       "  </thead>\n",
       "  <tbody>\n",
       "    <tr>\n",
       "      <th>Unnamed: 0</th>\n",
       "      <td>607.0</td>\n",
       "      <td>303.000000</td>\n",
       "      <td>1.753701e+02</td>\n",
       "      <td>0.0</td>\n",
       "      <td>151.5</td>\n",
       "      <td>303.0</td>\n",
       "      <td>454.5</td>\n",
       "      <td>606.0</td>\n",
       "    </tr>\n",
       "    <tr>\n",
       "      <th>salary</th>\n",
       "      <td>607.0</td>\n",
       "      <td>324000.062603</td>\n",
       "      <td>1.544357e+06</td>\n",
       "      <td>4000.0</td>\n",
       "      <td>70000.0</td>\n",
       "      <td>115000.0</td>\n",
       "      <td>165000.0</td>\n",
       "      <td>30400000.0</td>\n",
       "    </tr>\n",
       "    <tr>\n",
       "      <th>salary_in_usd</th>\n",
       "      <td>607.0</td>\n",
       "      <td>112297.869852</td>\n",
       "      <td>7.095726e+04</td>\n",
       "      <td>2859.0</td>\n",
       "      <td>62726.0</td>\n",
       "      <td>101570.0</td>\n",
       "      <td>150000.0</td>\n",
       "      <td>600000.0</td>\n",
       "    </tr>\n",
       "    <tr>\n",
       "      <th>remote_ratio</th>\n",
       "      <td>607.0</td>\n",
       "      <td>70.922570</td>\n",
       "      <td>4.070913e+01</td>\n",
       "      <td>0.0</td>\n",
       "      <td>50.0</td>\n",
       "      <td>100.0</td>\n",
       "      <td>100.0</td>\n",
       "      <td>100.0</td>\n",
       "    </tr>\n",
       "  </tbody>\n",
       "</table>\n",
       "</div>"
      ]
     },
     "execution_count": 21,
     "metadata": {},
     "output_type": "execute_result"
    }
   ],
   "execution_count": 21
  },
  {
   "cell_type": "code",
   "id": "d2433431",
   "metadata": {
    "scrolled": true,
    "id": "d2433431",
    "ExecuteTime": {
     "end_time": "2024-12-21T01:18:19.095708Z",
     "start_time": "2024-12-21T01:18:19.088825Z"
    }
   },
   "source": [
    "df1.isnull().sum()"
   ],
   "outputs": [
    {
     "data": {
      "text/plain": [
       "Unnamed: 0            0\n",
       "experience_level      0\n",
       "employment_type       0\n",
       "job_title             0\n",
       "salary                0\n",
       "salary_currency       0\n",
       "salary_in_usd         0\n",
       "employee_residence    0\n",
       "remote_ratio          0\n",
       "company_location      0\n",
       "company_size          0\n",
       "dtype: int64"
      ]
     },
     "execution_count": 22,
     "metadata": {},
     "output_type": "execute_result"
    }
   ],
   "execution_count": 22
  },
  {
   "cell_type": "code",
   "id": "7cc6f459",
   "metadata": {
    "scrolled": true,
    "id": "7cc6f459",
    "ExecuteTime": {
     "end_time": "2024-12-21T01:18:19.235210Z",
     "start_time": "2024-12-21T01:18:19.219421Z"
    }
   },
   "source": [
    "df1.drop_duplicates()"
   ],
   "outputs": [
    {
     "data": {
      "text/plain": [
       "           Unnamed: 0 experience_level employment_type  \\\n",
       "work_year                                                \n",
       "2020                0               MI              FT   \n",
       "2020                1               SE              FT   \n",
       "2020                2               SE              FT   \n",
       "2020                3               MI              FT   \n",
       "2020                4               SE              FT   \n",
       "...               ...              ...             ...   \n",
       "2022              602               SE              FT   \n",
       "2022              603               SE              FT   \n",
       "2022              604               SE              FT   \n",
       "2022              605               SE              FT   \n",
       "2022              606               MI              FT   \n",
       "\n",
       "                            job_title  salary salary_currency  salary_in_usd  \\\n",
       "work_year                                                                      \n",
       "2020                   Data Scientist   70000             EUR          79833   \n",
       "2020       Machine Learning Scientist  260000             USD         260000   \n",
       "2020                Big Data Engineer   85000             GBP         109024   \n",
       "2020             Product Data Analyst   20000             USD          20000   \n",
       "2020        Machine Learning Engineer  150000             USD         150000   \n",
       "...                               ...     ...             ...            ...   \n",
       "2022                    Data Engineer  154000             USD         154000   \n",
       "2022                    Data Engineer  126000             USD         126000   \n",
       "2022                     Data Analyst  129000             USD         129000   \n",
       "2022                     Data Analyst  150000             USD         150000   \n",
       "2022                     AI Scientist  200000             USD         200000   \n",
       "\n",
       "          employee_residence  remote_ratio company_location company_size  \n",
       "work_year                                                                 \n",
       "2020                      DE             0               DE            L  \n",
       "2020                      JP             0               JP            S  \n",
       "2020                      GB            50               GB            M  \n",
       "2020                      HN             0               HN            S  \n",
       "2020                      US            50               US            L  \n",
       "...                      ...           ...              ...          ...  \n",
       "2022                      US           100               US            M  \n",
       "2022                      US           100               US            M  \n",
       "2022                      US             0               US            M  \n",
       "2022                      US           100               US            M  \n",
       "2022                      IN           100               US            L  \n",
       "\n",
       "[607 rows x 11 columns]"
      ],
      "text/html": [
       "<div>\n",
       "<style scoped>\n",
       "    .dataframe tbody tr th:only-of-type {\n",
       "        vertical-align: middle;\n",
       "    }\n",
       "\n",
       "    .dataframe tbody tr th {\n",
       "        vertical-align: top;\n",
       "    }\n",
       "\n",
       "    .dataframe thead th {\n",
       "        text-align: right;\n",
       "    }\n",
       "</style>\n",
       "<table border=\"1\" class=\"dataframe\">\n",
       "  <thead>\n",
       "    <tr style=\"text-align: right;\">\n",
       "      <th></th>\n",
       "      <th>Unnamed: 0</th>\n",
       "      <th>experience_level</th>\n",
       "      <th>employment_type</th>\n",
       "      <th>job_title</th>\n",
       "      <th>salary</th>\n",
       "      <th>salary_currency</th>\n",
       "      <th>salary_in_usd</th>\n",
       "      <th>employee_residence</th>\n",
       "      <th>remote_ratio</th>\n",
       "      <th>company_location</th>\n",
       "      <th>company_size</th>\n",
       "    </tr>\n",
       "    <tr>\n",
       "      <th>work_year</th>\n",
       "      <th></th>\n",
       "      <th></th>\n",
       "      <th></th>\n",
       "      <th></th>\n",
       "      <th></th>\n",
       "      <th></th>\n",
       "      <th></th>\n",
       "      <th></th>\n",
       "      <th></th>\n",
       "      <th></th>\n",
       "      <th></th>\n",
       "    </tr>\n",
       "  </thead>\n",
       "  <tbody>\n",
       "    <tr>\n",
       "      <th>2020</th>\n",
       "      <td>0</td>\n",
       "      <td>MI</td>\n",
       "      <td>FT</td>\n",
       "      <td>Data Scientist</td>\n",
       "      <td>70000</td>\n",
       "      <td>EUR</td>\n",
       "      <td>79833</td>\n",
       "      <td>DE</td>\n",
       "      <td>0</td>\n",
       "      <td>DE</td>\n",
       "      <td>L</td>\n",
       "    </tr>\n",
       "    <tr>\n",
       "      <th>2020</th>\n",
       "      <td>1</td>\n",
       "      <td>SE</td>\n",
       "      <td>FT</td>\n",
       "      <td>Machine Learning Scientist</td>\n",
       "      <td>260000</td>\n",
       "      <td>USD</td>\n",
       "      <td>260000</td>\n",
       "      <td>JP</td>\n",
       "      <td>0</td>\n",
       "      <td>JP</td>\n",
       "      <td>S</td>\n",
       "    </tr>\n",
       "    <tr>\n",
       "      <th>2020</th>\n",
       "      <td>2</td>\n",
       "      <td>SE</td>\n",
       "      <td>FT</td>\n",
       "      <td>Big Data Engineer</td>\n",
       "      <td>85000</td>\n",
       "      <td>GBP</td>\n",
       "      <td>109024</td>\n",
       "      <td>GB</td>\n",
       "      <td>50</td>\n",
       "      <td>GB</td>\n",
       "      <td>M</td>\n",
       "    </tr>\n",
       "    <tr>\n",
       "      <th>2020</th>\n",
       "      <td>3</td>\n",
       "      <td>MI</td>\n",
       "      <td>FT</td>\n",
       "      <td>Product Data Analyst</td>\n",
       "      <td>20000</td>\n",
       "      <td>USD</td>\n",
       "      <td>20000</td>\n",
       "      <td>HN</td>\n",
       "      <td>0</td>\n",
       "      <td>HN</td>\n",
       "      <td>S</td>\n",
       "    </tr>\n",
       "    <tr>\n",
       "      <th>2020</th>\n",
       "      <td>4</td>\n",
       "      <td>SE</td>\n",
       "      <td>FT</td>\n",
       "      <td>Machine Learning Engineer</td>\n",
       "      <td>150000</td>\n",
       "      <td>USD</td>\n",
       "      <td>150000</td>\n",
       "      <td>US</td>\n",
       "      <td>50</td>\n",
       "      <td>US</td>\n",
       "      <td>L</td>\n",
       "    </tr>\n",
       "    <tr>\n",
       "      <th>...</th>\n",
       "      <td>...</td>\n",
       "      <td>...</td>\n",
       "      <td>...</td>\n",
       "      <td>...</td>\n",
       "      <td>...</td>\n",
       "      <td>...</td>\n",
       "      <td>...</td>\n",
       "      <td>...</td>\n",
       "      <td>...</td>\n",
       "      <td>...</td>\n",
       "      <td>...</td>\n",
       "    </tr>\n",
       "    <tr>\n",
       "      <th>2022</th>\n",
       "      <td>602</td>\n",
       "      <td>SE</td>\n",
       "      <td>FT</td>\n",
       "      <td>Data Engineer</td>\n",
       "      <td>154000</td>\n",
       "      <td>USD</td>\n",
       "      <td>154000</td>\n",
       "      <td>US</td>\n",
       "      <td>100</td>\n",
       "      <td>US</td>\n",
       "      <td>M</td>\n",
       "    </tr>\n",
       "    <tr>\n",
       "      <th>2022</th>\n",
       "      <td>603</td>\n",
       "      <td>SE</td>\n",
       "      <td>FT</td>\n",
       "      <td>Data Engineer</td>\n",
       "      <td>126000</td>\n",
       "      <td>USD</td>\n",
       "      <td>126000</td>\n",
       "      <td>US</td>\n",
       "      <td>100</td>\n",
       "      <td>US</td>\n",
       "      <td>M</td>\n",
       "    </tr>\n",
       "    <tr>\n",
       "      <th>2022</th>\n",
       "      <td>604</td>\n",
       "      <td>SE</td>\n",
       "      <td>FT</td>\n",
       "      <td>Data Analyst</td>\n",
       "      <td>129000</td>\n",
       "      <td>USD</td>\n",
       "      <td>129000</td>\n",
       "      <td>US</td>\n",
       "      <td>0</td>\n",
       "      <td>US</td>\n",
       "      <td>M</td>\n",
       "    </tr>\n",
       "    <tr>\n",
       "      <th>2022</th>\n",
       "      <td>605</td>\n",
       "      <td>SE</td>\n",
       "      <td>FT</td>\n",
       "      <td>Data Analyst</td>\n",
       "      <td>150000</td>\n",
       "      <td>USD</td>\n",
       "      <td>150000</td>\n",
       "      <td>US</td>\n",
       "      <td>100</td>\n",
       "      <td>US</td>\n",
       "      <td>M</td>\n",
       "    </tr>\n",
       "    <tr>\n",
       "      <th>2022</th>\n",
       "      <td>606</td>\n",
       "      <td>MI</td>\n",
       "      <td>FT</td>\n",
       "      <td>AI Scientist</td>\n",
       "      <td>200000</td>\n",
       "      <td>USD</td>\n",
       "      <td>200000</td>\n",
       "      <td>IN</td>\n",
       "      <td>100</td>\n",
       "      <td>US</td>\n",
       "      <td>L</td>\n",
       "    </tr>\n",
       "  </tbody>\n",
       "</table>\n",
       "<p>607 rows × 11 columns</p>\n",
       "</div>"
      ]
     },
     "execution_count": 23,
     "metadata": {},
     "output_type": "execute_result"
    }
   ],
   "execution_count": 23
  },
  {
   "cell_type": "markdown",
   "id": "8ed3ba19",
   "metadata": {
    "id": "8ed3ba19"
   },
   "source": [
    "Visualizaciones en pandas"
   ]
  },
  {
   "cell_type": "code",
   "id": "16f0cb02",
   "metadata": {
    "id": "16f0cb02",
    "ExecuteTime": {
     "end_time": "2024-12-21T01:18:20.810025Z",
     "start_time": "2024-12-21T01:18:19.603496Z"
    }
   },
   "source": [
    "df1[\"job_title\"].value_counts().T.plot.bar()"
   ],
   "outputs": [
    {
     "data": {
      "text/plain": [
       "<Axes: xlabel='job_title'>"
      ]
     },
     "execution_count": 24,
     "metadata": {},
     "output_type": "execute_result"
    },
    {
     "data": {
      "text/plain": [
       "<Figure size 640x480 with 1 Axes>"
      ],
      "image/png": "[encoded data removed]"
     },
     "metadata": {},
     "output_type": "display_data"
    }
   ],
   "execution_count": 24
  },
  {
   "cell_type": "code",
   "id": "43a520ad",
   "metadata": {
    "id": "43a520ad",
    "ExecuteTime": {
     "end_time": "2024-12-21T01:18:21.042192Z",
     "start_time": "2024-12-21T01:18:20.926044Z"
    }
   },
   "source": [
    "df1[\"company_location\"].value_counts().sort_index().plot.line()"
   ],
   "outputs": [
    {
     "data": {
      "text/plain": [
       "<Axes: xlabel='company_location'>"
      ]
     },
     "execution_count": 25,
     "metadata": {},
     "output_type": "execute_result"
    },
    {
     "data": {
      "text/plain": [
       "<Figure size 640x480 with 1 Axes>"
      ],
      "image/png": "[encoded data removed]"
     },
     "metadata": {},
     "output_type": "display_data"
    }
   ],
   "execution_count": 25
  },
  {
   "cell_type": "code",
   "id": "f420f0b9",
   "metadata": {
    "id": "f420f0b9",
    "ExecuteTime": {
     "end_time": "2024-12-21T01:18:21.236542Z",
     "start_time": "2024-12-21T01:18:21.052706Z"
    }
   },
   "source": [
    "df1[\"remote_ratio\"].plot.hist()"
   ],
   "outputs": [
    {
     "data": {
      "text/plain": [
       "<Axes: ylabel='Frequency'>"
      ]
     },
     "execution_count": 26,
     "metadata": {},
     "output_type": "execute_result"
    },
    {
     "data": {
      "text/plain": [
       "<Figure size 640x480 with 1 Axes>"
      ],
      "image/png": "[encoded data removed]"
     },
     "metadata": {},
     "output_type": "display_data"
    }
   ],
   "execution_count": 26
  }
 ],
 "metadata": {
  "colab": {
   "provenance": []
  },
  "kernelspec": {
   "display_name": "Python 3 (ipykernel)",
   "language": "python",
   "name": "python3"
  },
  "language_info": {
   "codemirror_mode": {
    "name": "ipython",
    "version": 3
   },
   "file_extension": ".py",
   "mimetype": "text/x-python",
   "name": "python",
   "nbconvert_exporter": "python",
   "pygments_lexer": "ipython3",
   "version": "3.9.7"
  }
 },
 "nbformat": 4,
 "nbformat_minor": 5
}
