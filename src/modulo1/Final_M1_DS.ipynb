{
 "cells": [
  {
   "cell_type": "markdown",
   "id": "de9ea942-2489-4b06-ba31-5c226f7ab9cc",
   "metadata": {},
   "source": [
    "# Análisis exploratorio en la base \"Salarios de trabajos de ciencia de datos\"\n",
    "\n",
    "* **Proyecto**: Salarios de trabajos de ciencia de datos\n",
    "* Autor: Ricardo Rivas G.\n",
    "  * [GitHub](https://github.com/richistron)\n",
    "  * [Linkedin](https://www.linkedin.com/in/richistron/)\n",
    "* [Código fuente](https://github.com/richistron/ds-bootcamp)\n",
    "* [Dataset](https://drive.google.com/file/d/1xEGMqIMDPZK-7yte8u3vnYyKB--J-x0s/view)\n",
    "\n",
    "<!---\n",
    "## Objetivos\n",
    "\n",
    "El participante:\n",
    "- [x] Aprenderá a cargar los datos desde Pandas.\n",
    "- [x] Aprenderá a utilizar los principales atributos para ver la info del dataframe.\n",
    "- [x] Generará un análisis de frecuencia de los principales atributos.\n",
    "- [x] Investigará y creará una análisis de correlación de Pearson.\n",
    "- [x] Realizará gráficos proporcionados por Pandas para el EDA.\n",
    "\n",
    "## Requisitos\n",
    "\n",
    "* El proyecto debe realizarse de forma individual.\n",
    "* La entrega del proyecto se hará en un `.ipynb`\n",
    "* **Importante**: Se debe realizar una COPIA del colab y trabajar sobre ella.\n",
    "* **Importante**: Debe compartirse la liga del proyecto de forma **pública**. Este documento es de forma obligatoria, al igual que todos los elementos que lo conforman.\n",
    "* Usar el archivo en [Google Colab](https://colab.research.google.com/drive/1-vTLDz6-LvN2osy4v2Hf8kihVTms_XxN)\n",
    "\n",
    "## Entregables\n",
    "\n",
    "- [x] Título e Índice\n",
    "- [x] Crear una descripción de las columnas en Markdown\n",
    "- [ ] Análisis exploratorio y de completitud de los datos\n",
    "- [ ] Análisis estadístico de los datos\n",
    "- [ ] Correlación de las variables\n",
    "- [x] Gráfica de barras y de histograma\n",
    "- [ ] Insights\n",
    "- [ ] Conclusiones de la base\n",
    "--->\n",
    "\n",
    "# Índice\n",
    "\n",
    "* [Librerías](#Librerías)\n",
    "* [Carga de datos](#Carga-de-datos)\n",
    "* [Comprensión de los datos](#Comprensión-de-los-datos)\n",
    "  * [Head](#Head)\n",
    "  * [Info](#Info)\n",
    "  * [Describe](#Describe)\n",
    "  * [Columns](#Columns)\n",
    "  * [Dtypes](#Dtypes)\n",
    "  * [Isnull](#Isnull)\n",
    "  * [Shape](#Shape)\n",
    "  * [Value Counts](#Value-Counts)\n",
    "* [Información de las columnas](#Información-de-las-columnas)\n",
    "* [Matriz de correlación](#Matriz-de-correlación)\n",
    "* [TODOS](#TODOS)\n"
   ]
  },
  {
   "cell_type": "markdown",
   "id": "2c0a8ca0-912b-4950-9310-a6992a851aca",
   "metadata": {},
   "source": [
    "# Librerías\n",
    "\n",
    "Importamos las librerías necesarias para el análisis de los datos."
   ]
  },
  {
   "cell_type": "code",
   "id": "c2d82606-614b-4dec-92ca-9822d82f38e1",
   "metadata": {
    "ExecuteTime": {
     "end_time": "2025-01-03T02:48:21.783076Z",
     "start_time": "2025-01-03T02:48:21.779153Z"
    }
   },
   "source": [
    "import pandas as pd\n",
    "import seaborn as sb\n",
    "from pandas import DataFrame, Series"
   ],
   "outputs": [],
   "execution_count": 4
  },
  {
   "cell_type": "markdown",
   "id": "5a9d4f09-74a2-4221-956f-5f154ab0ce8c",
   "metadata": {},
   "source": [
    "# Carga de datos\n",
    "\n",
    "Cargamos los datos desde el archivo `ds_salaries.csv` y mostramos los primeros registros."
   ]
  },
  {
   "cell_type": "code",
   "id": "7de8640d-0bfa-4332-a845-b72fa9cb9cf8",
   "metadata": {
    "ExecuteTime": {
     "end_time": "2025-01-03T02:48:24.255030Z",
     "start_time": "2025-01-03T02:48:24.230750Z"
    }
   },
   "source": [
    "# TODO, cargar los datos desde google collab\n",
    "df = pd.read_csv(\"ds_salaries.csv\", index_col=[0])"
   ],
   "outputs": [],
   "execution_count": 5
  },
  {
   "cell_type": "markdown",
   "id": "0a935d43-02a0-40ab-8c21-c709d0d805f2",
   "metadata": {},
   "source": [
    "# Comprensión de los datos\n",
    "\n",
    "El objetivo principal es entender que datos tenemos en la base. Para ello, utilizamos varios métodos y atributos de pandas."
   ]
  },
  {
   "cell_type": "markdown",
   "id": "5ea74449-a7ba-49ac-a7ff-00e8fc436427",
   "metadata": {},
   "source": [
    "## Head\n",
    "\n",
    "El método **head(int)** regresa los primeros registros de la base. Toma una parametro entero para indicar el número de registros a mostrar."
   ]
  },
  {
   "cell_type": "code",
   "id": "19ae141e-2b70-4df8-9585-c8eee1586da5",
   "metadata": {
    "ExecuteTime": {
     "end_time": "2025-01-03T01:23:33.015580Z",
     "start_time": "2025-01-03T01:23:32.998044Z"
    }
   },
   "source": [
    "df.head(3)"
   ],
   "outputs": [
    {
     "data": {
      "text/plain": [
       "   work_year experience_level employment_type                   job_title  \\\n",
       "0       2020               MI              FT              Data Scientist   \n",
       "1       2020               SE              FT  Machine Learning Scientist   \n",
       "2       2020               SE              FT           Big Data Engineer   \n",
       "\n",
       "   salary salary_currency  salary_in_usd employee_residence  remote_ratio  \\\n",
       "0   70000             EUR          79833                 DE             0   \n",
       "1  260000             USD         260000                 JP             0   \n",
       "2   85000             GBP         109024                 GB            50   \n",
       "\n",
       "  company_location company_size  \n",
       "0               DE            L  \n",
       "1               JP            S  \n",
       "2               GB            M  "
      ],
      "text/html": [
       "<div>\n",
       "<style scoped>\n",
       "    .dataframe tbody tr th:only-of-type {\n",
       "        vertical-align: middle;\n",
       "    }\n",
       "\n",
       "    .dataframe tbody tr th {\n",
       "        vertical-align: top;\n",
       "    }\n",
       "\n",
       "    .dataframe thead th {\n",
       "        text-align: right;\n",
       "    }\n",
       "</style>\n",
       "<table border=\"1\" class=\"dataframe\">\n",
       "  <thead>\n",
       "    <tr style=\"text-align: right;\">\n",
       "      <th></th>\n",
       "      <th>work_year</th>\n",
       "      <th>experience_level</th>\n",
       "      <th>employment_type</th>\n",
       "      <th>job_title</th>\n",
       "      <th>salary</th>\n",
       "      <th>salary_currency</th>\n",
       "      <th>salary_in_usd</th>\n",
       "      <th>employee_residence</th>\n",
       "      <th>remote_ratio</th>\n",
       "      <th>company_location</th>\n",
       "      <th>company_size</th>\n",
       "    </tr>\n",
       "  </thead>\n",
       "  <tbody>\n",
       "    <tr>\n",
       "      <th>0</th>\n",
       "      <td>2020</td>\n",
       "      <td>MI</td>\n",
       "      <td>FT</td>\n",
       "      <td>Data Scientist</td>\n",
       "      <td>70000</td>\n",
       "      <td>EUR</td>\n",
       "      <td>79833</td>\n",
       "      <td>DE</td>\n",
       "      <td>0</td>\n",
       "      <td>DE</td>\n",
       "      <td>L</td>\n",
       "    </tr>\n",
       "    <tr>\n",
       "      <th>1</th>\n",
       "      <td>2020</td>\n",
       "      <td>SE</td>\n",
       "      <td>FT</td>\n",
       "      <td>Machine Learning Scientist</td>\n",
       "      <td>260000</td>\n",
       "      <td>USD</td>\n",
       "      <td>260000</td>\n",
       "      <td>JP</td>\n",
       "      <td>0</td>\n",
       "      <td>JP</td>\n",
       "      <td>S</td>\n",
       "    </tr>\n",
       "    <tr>\n",
       "      <th>2</th>\n",
       "      <td>2020</td>\n",
       "      <td>SE</td>\n",
       "      <td>FT</td>\n",
       "      <td>Big Data Engineer</td>\n",
       "      <td>85000</td>\n",
       "      <td>GBP</td>\n",
       "      <td>109024</td>\n",
       "      <td>GB</td>\n",
       "      <td>50</td>\n",
       "      <td>GB</td>\n",
       "      <td>M</td>\n",
       "    </tr>\n",
       "  </tbody>\n",
       "</table>\n",
       "</div>"
      ]
     },
     "execution_count": 4,
     "metadata": {},
     "output_type": "execute_result"
    }
   ],
   "execution_count": 4
  },
  {
   "cell_type": "markdown",
   "id": "aab4120e-ca8c-4c04-8eb9-afc6b2c1afb5",
   "metadata": {},
   "source": [
    "## Info\n",
    "\n",
    "**info()** regresa información de la base, como el número de columnas, el número de registros, el tipo de dato de cada columna y el número de valores nulos."
   ]
  },
  {
   "cell_type": "code",
   "id": "45b859a4-86ce-4b7b-a9a8-45c6767f403f",
   "metadata": {
    "ExecuteTime": {
     "end_time": "2025-01-03T01:26:43.250294Z",
     "start_time": "2025-01-03T01:26:43.236151Z"
    }
   },
   "source": [
    "df.info()"
   ],
   "outputs": [
    {
     "name": "stdout",
     "output_type": "stream",
     "text": [
      "<class 'pandas.core.frame.DataFrame'>\n",
      "Index: 607 entries, 0 to 606\n",
      "Data columns (total 11 columns):\n",
      " #   Column              Non-Null Count  Dtype \n",
      "---  ------              --------------  ----- \n",
      " 0   work_year           607 non-null    int64 \n",
      " 1   experience_level    607 non-null    object\n",
      " 2   employment_type     607 non-null    object\n",
      " 3   job_title           607 non-null    object\n",
      " 4   salary              607 non-null    int64 \n",
      " 5   salary_currency     607 non-null    object\n",
      " 6   salary_in_usd       607 non-null    int64 \n",
      " 7   employee_residence  607 non-null    object\n",
      " 8   remote_ratio        607 non-null    int64 \n",
      " 9   company_location    607 non-null    object\n",
      " 10  company_size        607 non-null    object\n",
      "dtypes: int64(4), object(7)\n",
      "memory usage: 56.9+ KB\n"
     ]
    }
   ],
   "execution_count": 5
  },
  {
   "cell_type": "markdown",
   "id": "0f73f979-8527-4a16-bab2-060c657cb353",
   "metadata": {},
   "source": [
    "## Describe\n",
    "\n",
    "**describe()** regresa un resumen estadístico de la base. **transpose()** es para invertir las columnas por filas."
   ]
  },
  {
   "cell_type": "code",
   "id": "06d8452d-e4e7-49ac-95af-59f916590466",
   "metadata": {
    "ExecuteTime": {
     "end_time": "2025-01-03T01:28:42.092568Z",
     "start_time": "2025-01-03T01:28:42.070383Z"
    }
   },
   "source": [
    "df.describe().transpose()"
   ],
   "outputs": [
    {
     "data": {
      "text/plain": [
       "               count           mean           std     min      25%       50%  \\\n",
       "work_year      607.0    2021.405272  6.921330e-01  2020.0   2021.0    2022.0   \n",
       "salary         607.0  324000.062603  1.544357e+06  4000.0  70000.0  115000.0   \n",
       "salary_in_usd  607.0  112297.869852  7.095726e+04  2859.0  62726.0  101570.0   \n",
       "remote_ratio   607.0      70.922570  4.070913e+01     0.0     50.0     100.0   \n",
       "\n",
       "                    75%         max  \n",
       "work_year        2022.0      2022.0  \n",
       "salary         165000.0  30400000.0  \n",
       "salary_in_usd  150000.0    600000.0  \n",
       "remote_ratio      100.0       100.0  "
      ],
      "text/html": [
       "<div>\n",
       "<style scoped>\n",
       "    .dataframe tbody tr th:only-of-type {\n",
       "        vertical-align: middle;\n",
       "    }\n",
       "\n",
       "    .dataframe tbody tr th {\n",
       "        vertical-align: top;\n",
       "    }\n",
       "\n",
       "    .dataframe thead th {\n",
       "        text-align: right;\n",
       "    }\n",
       "</style>\n",
       "<table border=\"1\" class=\"dataframe\">\n",
       "  <thead>\n",
       "    <tr style=\"text-align: right;\">\n",
       "      <th></th>\n",
       "      <th>count</th>\n",
       "      <th>mean</th>\n",
       "      <th>std</th>\n",
       "      <th>min</th>\n",
       "      <th>25%</th>\n",
       "      <th>50%</th>\n",
       "      <th>75%</th>\n",
       "      <th>max</th>\n",
       "    </tr>\n",
       "  </thead>\n",
       "  <tbody>\n",
       "    <tr>\n",
       "      <th>work_year</th>\n",
       "      <td>607.0</td>\n",
       "      <td>2021.405272</td>\n",
       "      <td>6.921330e-01</td>\n",
       "      <td>2020.0</td>\n",
       "      <td>2021.0</td>\n",
       "      <td>2022.0</td>\n",
       "      <td>2022.0</td>\n",
       "      <td>2022.0</td>\n",
       "    </tr>\n",
       "    <tr>\n",
       "      <th>salary</th>\n",
       "      <td>607.0</td>\n",
       "      <td>324000.062603</td>\n",
       "      <td>1.544357e+06</td>\n",
       "      <td>4000.0</td>\n",
       "      <td>70000.0</td>\n",
       "      <td>115000.0</td>\n",
       "      <td>165000.0</td>\n",
       "      <td>30400000.0</td>\n",
       "    </tr>\n",
       "    <tr>\n",
       "      <th>salary_in_usd</th>\n",
       "      <td>607.0</td>\n",
       "      <td>112297.869852</td>\n",
       "      <td>7.095726e+04</td>\n",
       "      <td>2859.0</td>\n",
       "      <td>62726.0</td>\n",
       "      <td>101570.0</td>\n",
       "      <td>150000.0</td>\n",
       "      <td>600000.0</td>\n",
       "    </tr>\n",
       "    <tr>\n",
       "      <th>remote_ratio</th>\n",
       "      <td>607.0</td>\n",
       "      <td>70.922570</td>\n",
       "      <td>4.070913e+01</td>\n",
       "      <td>0.0</td>\n",
       "      <td>50.0</td>\n",
       "      <td>100.0</td>\n",
       "      <td>100.0</td>\n",
       "      <td>100.0</td>\n",
       "    </tr>\n",
       "  </tbody>\n",
       "</table>\n",
       "</div>"
      ]
     },
     "execution_count": 6,
     "metadata": {},
     "output_type": "execute_result"
    }
   ],
   "execution_count": 6
  },
  {
   "cell_type": "markdown",
   "id": "cd22b414-34db-4ad9-938c-941574350c83",
   "metadata": {},
   "source": [
    "## Columns\n",
    "\n",
    "**columns** regresa el nombre de las columnas de la base."
   ]
  },
  {
   "cell_type": "code",
   "id": "ab847b9e-d344-47f0-bc68-e51e929b9412",
   "metadata": {
    "ExecuteTime": {
     "end_time": "2025-01-03T01:31:05.546608Z",
     "start_time": "2025-01-03T01:31:05.540983Z"
    }
   },
   "source": [
    "df.columns"
   ],
   "outputs": [
    {
     "data": {
      "text/plain": [
       "Index(['work_year', 'experience_level', 'employment_type', 'job_title',\n",
       "       'salary', 'salary_currency', 'salary_in_usd', 'employee_residence',\n",
       "       'remote_ratio', 'company_location', 'company_size'],\n",
       "      dtype='object')"
      ]
     },
     "execution_count": 7,
     "metadata": {},
     "output_type": "execute_result"
    }
   ],
   "execution_count": 7
  },
  {
   "cell_type": "markdown",
   "id": "295318eb-2059-42cf-9626-b72f5c3d82df",
   "metadata": {},
   "source": [
    "## Dtypes\n",
    "\n",
    "**dtypes** regresa el tipo de dato de cada columna."
   ]
  },
  {
   "cell_type": "code",
   "id": "5b594b13-d69f-44e5-b7dc-5e01abccd3c6",
   "metadata": {
    "ExecuteTime": {
     "end_time": "2025-01-03T01:33:28.152046Z",
     "start_time": "2025-01-03T01:33:28.145254Z"
    }
   },
   "source": [
    "df.dtypes"
   ],
   "outputs": [
    {
     "data": {
      "text/plain": [
       "work_year              int64\n",
       "experience_level      object\n",
       "employment_type       object\n",
       "job_title             object\n",
       "salary                 int64\n",
       "salary_currency       object\n",
       "salary_in_usd          int64\n",
       "employee_residence    object\n",
       "remote_ratio           int64\n",
       "company_location      object\n",
       "company_size          object\n",
       "dtype: object"
      ]
     },
     "execution_count": 8,
     "metadata": {},
     "output_type": "execute_result"
    }
   ],
   "execution_count": 8
  },
  {
   "cell_type": "markdown",
   "id": "4cb4a7f8-9353-43ed-b5fb-f29322f27828",
   "metadata": {},
   "source": [
    "## Isnull\n",
    "\n",
    "**isnull()** regresa el número de valores nulos por columna. **sum** regresa el total de valores nulos en la base."
   ]
  },
  {
   "cell_type": "code",
   "id": "7f6c72aa-3814-44ab-8b99-e9227b5a41b5",
   "metadata": {
    "ExecuteTime": {
     "end_time": "2025-01-03T01:33:56.960622Z",
     "start_time": "2025-01-03T01:33:56.953633Z"
    }
   },
   "source": [
    "df.isnull().sum()"
   ],
   "outputs": [
    {
     "data": {
      "text/plain": [
       "work_year             0\n",
       "experience_level      0\n",
       "employment_type       0\n",
       "job_title             0\n",
       "salary                0\n",
       "salary_currency       0\n",
       "salary_in_usd         0\n",
       "employee_residence    0\n",
       "remote_ratio          0\n",
       "company_location      0\n",
       "company_size          0\n",
       "dtype: int64"
      ]
     },
     "execution_count": 9,
     "metadata": {},
     "output_type": "execute_result"
    }
   ],
   "execution_count": 9
  },
  {
   "cell_type": "markdown",
   "id": "bb604613-767c-4e3d-bded-85b45c6174e5",
   "metadata": {},
   "source": [
    "## Shape\n",
    "\n",
    "**shape** regresa un tuple con el número de filas y columnas"
   ]
  },
  {
   "cell_type": "code",
   "id": "5096c6c8-e670-4344-87d8-103ef1f5b920",
   "metadata": {
    "ExecuteTime": {
     "end_time": "2025-01-03T01:35:15.132987Z",
     "start_time": "2025-01-03T01:35:15.129261Z"
    }
   },
   "source": [
    "print(\"Número de filas %s y número de columnas %s\" % df.shape)"
   ],
   "outputs": [
    {
     "name": "stdout",
     "output_type": "stream",
     "text": [
      "Número de filas 607 y número de columnas 11\n"
     ]
    }
   ],
   "execution_count": 10
  },
  {
   "cell_type": "markdown",
   "id": "06664ca0-d20b-459a-b383-7189bb542e20",
   "metadata": {},
   "source": [
    "## Value Counts\n",
    "\n",
    "**value_counts()** regresa el número de veces que se repite un valor en una columna."
   ]
  },
  {
   "cell_type": "code",
   "id": "a131fcb4-9d86-4b99-bca7-2e68fb70df81",
   "metadata": {
    "ExecuteTime": {
     "end_time": "2025-01-03T01:39:32.793432Z",
     "start_time": "2025-01-03T01:39:32.778823Z"
    }
   },
   "source": [
    "unique = {i: df[i].value_counts().shape[0] for i in df.columns}\n",
    "pd.DataFrame(unique, index=[\"unique\"]).transpose()"
   ],
   "outputs": [
    {
     "data": {
      "text/plain": [
       "                    unique\n",
       "work_year                3\n",
       "experience_level         4\n",
       "employment_type          4\n",
       "job_title               50\n",
       "salary                 272\n",
       "salary_currency         17\n",
       "salary_in_usd          369\n",
       "employee_residence      57\n",
       "remote_ratio             3\n",
       "company_location        50\n",
       "company_size             3"
      ],
      "text/html": [
       "<div>\n",
       "<style scoped>\n",
       "    .dataframe tbody tr th:only-of-type {\n",
       "        vertical-align: middle;\n",
       "    }\n",
       "\n",
       "    .dataframe tbody tr th {\n",
       "        vertical-align: top;\n",
       "    }\n",
       "\n",
       "    .dataframe thead th {\n",
       "        text-align: right;\n",
       "    }\n",
       "</style>\n",
       "<table border=\"1\" class=\"dataframe\">\n",
       "  <thead>\n",
       "    <tr style=\"text-align: right;\">\n",
       "      <th></th>\n",
       "      <th>unique</th>\n",
       "    </tr>\n",
       "  </thead>\n",
       "  <tbody>\n",
       "    <tr>\n",
       "      <th>work_year</th>\n",
       "      <td>3</td>\n",
       "    </tr>\n",
       "    <tr>\n",
       "      <th>experience_level</th>\n",
       "      <td>4</td>\n",
       "    </tr>\n",
       "    <tr>\n",
       "      <th>employment_type</th>\n",
       "      <td>4</td>\n",
       "    </tr>\n",
       "    <tr>\n",
       "      <th>job_title</th>\n",
       "      <td>50</td>\n",
       "    </tr>\n",
       "    <tr>\n",
       "      <th>salary</th>\n",
       "      <td>272</td>\n",
       "    </tr>\n",
       "    <tr>\n",
       "      <th>salary_currency</th>\n",
       "      <td>17</td>\n",
       "    </tr>\n",
       "    <tr>\n",
       "      <th>salary_in_usd</th>\n",
       "      <td>369</td>\n",
       "    </tr>\n",
       "    <tr>\n",
       "      <th>employee_residence</th>\n",
       "      <td>57</td>\n",
       "    </tr>\n",
       "    <tr>\n",
       "      <th>remote_ratio</th>\n",
       "      <td>3</td>\n",
       "    </tr>\n",
       "    <tr>\n",
       "      <th>company_location</th>\n",
       "      <td>50</td>\n",
       "    </tr>\n",
       "    <tr>\n",
       "      <th>company_size</th>\n",
       "      <td>3</td>\n",
       "    </tr>\n",
       "  </tbody>\n",
       "</table>\n",
       "</div>"
      ]
     },
     "execution_count": 11,
     "metadata": {},
     "output_type": "execute_result"
    }
   ],
   "execution_count": 11
  },
  {
   "metadata": {},
   "cell_type": "markdown",
   "source": [
    "# Información de las columnas\n",
    "\n",
    "| Columna            | Descripción             |\n",
    "|--------------------|-------------------------|\n",
    "| work_year          | Año toma de datos       |\n",
    "| experience_level   | Nivel de experiencia    |\n",
    "| employment_type    | Tipo de puesto          |\n",
    "| job_title          | Título del empleo       |\n",
    "| salary             | Salario en moneda local |\n",
    "| salary_currency    | Moneda de salario       |\n",
    "| salary_in_usd      | Salario en dólares      |\n",
    "| employee_residence | Pais de residencia      |\n",
    "| remote_ratio       | Porcentaje remoto       |\n",
    "| company_location   | País de la compañia     |\n",
    "| company_size       | Tamaño de la compañia   |"
   ],
   "id": "e896d988-7055-465f-a1d6-19cbeed6592b"
  },
  {
   "cell_type": "markdown",
   "id": "7c6c1b8c-7718-4bb5-b905-ff8ff69de4df",
   "metadata": {},
   "source": [
    "# Matriz de correlación\n",
    "\n",
    "Para la matriz de correlación es necesario que las columnas sean numéricas. Por lo tanto, usaremos solo ciertas columnas para esta matriz."
   ]
  },
  {
   "cell_type": "code",
   "id": "9aeabbdb-1bc0-4f45-b17d-b5fee6ab9c04",
   "metadata": {
    "ExecuteTime": {
     "end_time": "2025-01-03T02:48:34.385426Z",
     "start_time": "2025-01-03T02:48:34.089028Z"
    }
   },
   "source": [
    "correlacion = df.corr(method=\"pearson\", numeric_only=True)\n",
    "sb.heatmap(correlacion, cmap=\"Blues\", annot=True)\n"
   ],
   "outputs": [
    {
     "data": {
      "text/plain": [
       "<Axes: >"
      ]
     },
     "execution_count": 6,
     "metadata": {},
     "output_type": "execute_result"
    },
    {
     "data": {
      "text/plain": [
       "<Figure size 640x480 with 2 Axes>"
      ],
      "image/png": "[encoded data removed]"
     },
     "metadata": {},
     "output_type": "display_data"
    }
   ],
   "execution_count": 6
  },
  {
   "cell_type": "markdown",
   "id": "10875955-b830-4da4-8077-39a149b26bc1",
   "metadata": {},
   "source": [
    "### Gráficas de pandas\n",
    "\n",
    "Generamos gráficas de barras y de histograma con pandas."
   ]
  },
  {
   "cell_type": "markdown",
   "id": "46943be6-20ff-4a67-b0e7-68f4063f877f",
   "metadata": {},
   "source": [
    "> Nivel de experiencia"
   ]
  },
  {
   "cell_type": "code",
   "execution_count": null,
   "id": "a7049529-52a7-4449-82c4-bb785128805c",
   "metadata": {},
   "outputs": [],
   "source": [
    "df[\"experience_level\"].value_counts().plot.bar()"
   ]
  },
  {
   "cell_type": "markdown",
   "id": "36a36111-fae3-4ccf-8414-c0e14abc683e",
   "metadata": {},
   "source": [
    "> Vamos a graficar el salario en dólares, por lo que esta función será util para el análisis."
   ]
  },
  {
   "cell_type": "code",
   "execution_count": null,
   "id": "8a3af476-4550-4e65-bd9c-013d342e6d5e",
   "metadata": {},
   "outputs": [],
   "source": [
    "def media_salario_por_columna(columna: str) -> Series:\n",
    "    return df.groupby(columna)[\"salary_in_usd\"].mean()"
   ]
  },
  {
   "cell_type": "markdown",
   "id": "786c8b16-d770-4cea-a729-ce79820f2b31",
   "metadata": {},
   "source": [
    "> Salario por nivel de experiencia"
   ]
  },
  {
   "cell_type": "code",
   "execution_count": null,
   "id": "9e128833-767e-492e-8625-ee1a8d00742f",
   "metadata": {},
   "outputs": [],
   "source": [
    "media_salario_por_columna(\"experience_level\").sort_values().plot.bar()"
   ]
  },
  {
   "cell_type": "markdown",
   "id": "7de19ae6-950b-494f-935d-0d45274960d6",
   "metadata": {},
   "source": [
    "> 10 países con mayor salario"
   ]
  },
  {
   "cell_type": "code",
   "execution_count": null,
   "id": "cf13d042-7375-450e-b777-c6feec9663f8",
   "metadata": {},
   "outputs": [],
   "source": [
    "media_de_salarios_location = media_salario_por_columna(\"company_location\").sort_values(\n",
    "    ascending=False\n",
    ")"
   ]
  },
  {
   "cell_type": "code",
   "execution_count": null,
   "id": "50290e13-08e7-4d0e-9f1f-8f6d83ccdaa0",
   "metadata": {},
   "outputs": [],
   "source": [
    "media_de_salarios_location.head(10).plot.bar()"
   ]
  },
  {
   "cell_type": "markdown",
   "id": "2bf04627-791a-4aa6-8bf0-b4223624baff",
   "metadata": {},
   "source": [
    "> 10 países con peor salario"
   ]
  },
  {
   "cell_type": "code",
   "execution_count": null,
   "id": "7b359ab6-6666-4bb3-b55e-0ab3a6ae905d",
   "metadata": {},
   "outputs": [],
   "source": [
    "media_de_salarios_location.tail(10).sort_values().plot.bar()"
   ]
  },
  {
   "cell_type": "code",
   "execution_count": null,
   "id": "b1462b4e-8637-4625-99d4-bf638c9fc1e9",
   "metadata": {},
   "outputs": [],
   "source": [
    "media_de_salarios_location"
   ]
  },
  {
   "cell_type": "markdown",
   "id": "063abc37-b953-4f6a-bb2c-e47b3c155880",
   "metadata": {},
   "source": [
    "> Salario por company size"
   ]
  },
  {
   "cell_type": "code",
   "execution_count": null,
   "id": "5814f04d-17aa-46d1-8e94-13c44db2bda9",
   "metadata": {},
   "outputs": [],
   "source": [
    "media_salario_por_columna(\"company_size\").plot.bar()"
   ]
  },
  {
   "cell_type": "markdown",
   "id": "05d3cd93-113d-4a03-944a-84b62f8cef12",
   "metadata": {},
   "source": [
    "> Salario por remote ratio"
   ]
  },
  {
   "cell_type": "code",
   "execution_count": null,
   "id": "5876edef-d754-4461-a33d-388db8ba89f5",
   "metadata": {},
   "outputs": [],
   "source": [
    "media_salario_por_columna(\"remote_ratio\").plot.bar()"
   ]
  },
  {
   "cell_type": "code",
   "execution_count": null,
   "id": "10a88b16-0baa-4364-a99c-1a1b6c574791",
   "metadata": {},
   "outputs": [],
   "source": [
    "df[\"remote_ratio\"].plot.hist()"
   ]
  },
  {
   "cell_type": "markdown",
   "id": "473b15c1-2be3-458e-b159-f8d8e3c1f2e0",
   "metadata": {},
   "source": [
    "> Salario por residencia"
   ]
  },
  {
   "cell_type": "code",
   "execution_count": null,
   "id": "7c64bc34-2e25-4ab3-922f-aa57113f3399",
   "metadata": {},
   "outputs": [],
   "source": [
    "media_salarios_residencia = media_salario_por_columna(\"employee_residence\").sort_values(\n",
    "    ascending=False\n",
    ")"
   ]
  },
  {
   "cell_type": "markdown",
   "id": "4251e523-9648-47af-948b-a65f5b7c3f87",
   "metadata": {},
   "source": [
    "> Salario por residencia (top 10)"
   ]
  },
  {
   "cell_type": "code",
   "execution_count": null,
   "id": "f04a965d-775f-485c-a14d-54ef823c31d2",
   "metadata": {},
   "outputs": [],
   "source": [
    "media_salarios_residencia.head(10).plot.bar()"
   ]
  },
  {
   "cell_type": "markdown",
   "id": "cd9f3fca-0d4d-4e71-941b-e3192a282f63",
   "metadata": {},
   "source": [
    "> Salario por residencia (worst 10)"
   ]
  },
  {
   "cell_type": "code",
   "execution_count": null,
   "id": "6eae5c92-51bc-4f10-81ac-216344402c35",
   "metadata": {},
   "outputs": [],
   "source": [
    "media_salarios_residencia.tail(10).plot.bar()"
   ]
  },
  {
   "cell_type": "markdown",
   "id": "47868ce2-5c81-4c90-9d6d-84caad3da4c2",
   "metadata": {},
   "source": [
    "> Salario por tipo de empleo"
   ]
  },
  {
   "cell_type": "code",
   "execution_count": null,
   "id": "d01c9564-7a45-4276-b0d0-0575500c69fb",
   "metadata": {},
   "outputs": [],
   "source": [
    "media_salarios_por_titulo = media_salario_por_columna(\"job_title\").sort_values(\n",
    "    ascending=False\n",
    ")\n",
    "media_salarios_por_titulo.head(10).plot(kind=\"bar\")"
   ]
  },
  {
   "cell_type": "code",
   "execution_count": null,
   "id": "597f9695-2d85-4298-8064-2ee7e4bb435f",
   "metadata": {},
   "outputs": [],
   "source": [
    "media_salarios_por_titulo.tail(10).plot(kind=\"bar\")"
   ]
  },
  {
   "cell_type": "markdown",
   "id": "c1569c55-bec3-4119-94e0-6e4fcdba7644",
   "metadata": {},
   "source": [
    "> Salario por work_year"
   ]
  },
  {
   "cell_type": "code",
   "execution_count": null,
   "id": "e8401dbd-ce4d-49cf-ace7-3a952dbf3c19",
   "metadata": {},
   "outputs": [],
   "source": [
    "media_salario_por_columna(\"work_year\").plot(kind=\"bar\")"
   ]
  },
  {
   "cell_type": "markdown",
   "id": "6ad3ab65-2055-405f-bcfa-79f59491133e",
   "metadata": {},
   "source": [
    "# TODOS\n",
    "* graficar con seaborn\n",
    "* graficar con matplotlib\n",
    "* otros"
   ]
  }
 ],
 "metadata": {
  "kernelspec": {
   "display_name": "Python 3 (ipykernel)",
   "language": "python",
   "name": "python3"
  },
  "language_info": {
   "codemirror_mode": {
    "name": "ipython",
    "version": 3
   },
   "file_extension": ".py",
   "mimetype": "text/x-python",
   "name": "python",
   "nbconvert_exporter": "python",
   "pygments_lexer": "ipython3",
   "version": "3.12.8"
  }
 },
 "nbformat": 4,
 "nbformat_minor": 5
}
