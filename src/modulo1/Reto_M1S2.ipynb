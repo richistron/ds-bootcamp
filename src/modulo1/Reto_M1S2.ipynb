{
 "nbformat": 4,
 "nbformat_minor": 0,
 "metadata": {
  "colab": {
   "provenance": []
  },
  "kernelspec": {
   "name": "python3",
   "display_name": "Python 3 (ipykernel)",
   "language": "python"
  },
  "language_info": {
   "name": "python"
  }
 },
 "cells": [
  {
   "cell_type": "markdown",
   "source": [
    "# Retos MIS2 Fundamentos Ciencia de Datos.\n",
    "\n",
    "## Reto Número 1.\n",
    "\n",
    "Hola te doy la bienvenida a tu reto, recuerda que:\n",
    "\n",
    "1.\tDebes realizar una copia de este Colab en tu Drive personal.\n",
    "2.\tResuelve el reto en la copia que realizaste.\n",
    "3.\tEnvía la liga pública de tu reto resuelto a través del canal general.\n",
    "\n",
    "Para este reto, por favor, realiza una función donde generes el siguiente número de la sucesión [Fibonacci](https://www.eade.es/blog/186-la-sucesion-de-fibonacci-en-el-diseno#:~:text=Se%20trata%20de%20una%20secuencia,%2C%2021%2C%2034%2C%2055%E2%80%A6) a partir del 0 y el 1, se van sumando a pares, de manera que cada número es igual a la suma de sus dos anteriores, de manera que:\n",
    "\n",
    "0, 1, 1, 2, 3, 5, 8, 13, 21, 34, 55…\n",
    "\n",
    "Integra en la función Fibonacci un ciclo **for**, donde genere los primeros números de la secuencia fibo. Recuerda poner un **print**\n",
    "\n",
    "Tip: Sera necesario usar un **if** y **else** para cumplir tal propósito."
   ],
   "metadata": {
    "id": "SibvTVgctQrQ"
   }
  },
  {
   "cell_type": "code",
   "source": [
    "# Responder en los espacios ___\n",
    "# 1 ) Genera un range de 1 a N, recuerda que el último es excluyente por lo que deberas aumentarle un +1.\n",
    "# 2 ) Generar un condición donde el primer ciclo solo se sume un +1.\n",
    "# 3 ) Sumar las últimos dos elementos de la lista para que así se cumpla la secuencia Fibonacci.\n",
    "# 4 ) Si queremos acceder al último elemento de una lista[-1], si queremos acceder al penúltimo elemento de una lista[-2] y así sucesivamente...\n",
    "\n",
    "\n",
    "def fibonacci(n):\n",
    "    respuesta = 0\n",
    "    lista = [0]\n",
    "    for i in range(1, n):\n",
    "        if i == 1:\n",
    "            respuesta = lista[-1] + 1\n",
    "        else:\n",
    "            respuesta = lista[-1] + lista[-2]\n",
    "\n",
    "        lista.append(respuesta)\n",
    "\n",
    "    return lista"
   ],
   "metadata": {
    "id": "ayvxoVtQtLZx",
    "ExecuteTime": {
     "end_time": "2025-01-01T16:16:45.408087Z",
     "start_time": "2025-01-01T16:16:45.402414Z"
    }
   },
   "outputs": [],
   "execution_count": 1
  },
  {
   "cell_type": "code",
   "source": [
    "# Correr la función con el número 9.\n",
    "assert fibonacci(9) == [0, 1, 1, 2, 3, 5, 8, 13, 21]\n",
    "print(fibonacci(9))"
   ],
   "metadata": {
    "id": "ijkXSzcpvo-y",
    "ExecuteTime": {
     "end_time": "2025-01-01T16:16:45.460643Z",
     "start_time": "2025-01-01T16:16:45.456138Z"
    }
   },
   "outputs": [
    {
     "name": "stdout",
     "output_type": "stream",
     "text": [
      "[0, 1, 1, 2, 3, 5, 8, 13, 21]\n"
     ]
    }
   ],
   "execution_count": 2
  },
  {
   "cell_type": "markdown",
   "source": [
    "## Reto Número 2.\n",
    "Integra en la función Fibonacci un **while** en vez del **for** y que termine hasta que la respuesta final de la secuencia Fibonacci sea mayor de 150."
   ],
   "metadata": {
    "id": "Kpyy8mb-1jw0"
   }
  },
  {
   "cell_type": "code",
   "source": [
    "# Responder en los espacios ___\n",
    "# 1) Genera un fibonacci donde la variable \"a\" sea menor que el resultado final del fibo y termine hasta ahí.\n",
    "\n",
    "\n",
    "def fibonacci(a):\n",
    "    respuesta = 0\n",
    "    lista = [0]\n",
    "    while respuesta == 0 or lista[-1] + lista[-2] < a:\n",
    "        if respuesta == 0:\n",
    "            respuesta = lista[-1] + 1\n",
    "        else:\n",
    "            respuesta = lista[-1] + lista[-2]\n",
    "\n",
    "        lista.append(respuesta)\n",
    "\n",
    "    return lista"
   ],
   "metadata": {
    "id": "o63QlE2z1_Vm",
    "ExecuteTime": {
     "end_time": "2025-01-01T16:16:45.593362Z",
     "start_time": "2025-01-01T16:16:45.588842Z"
    }
   },
   "outputs": [],
   "execution_count": 3
  },
  {
   "cell_type": "code",
   "source": [
    "fibonacci(150)"
   ],
   "metadata": {
    "id": "YgEHw-bz2uEP",
    "ExecuteTime": {
     "end_time": "2025-01-01T16:16:45.646847Z",
     "start_time": "2025-01-01T16:16:45.638528Z"
    }
   },
   "outputs": [
    {
     "data": {
      "text/plain": [
       "[0, 1, 1, 2, 3, 5, 8, 13, 21, 34, 55, 89, 144]"
      ]
     },
     "execution_count": 4,
     "metadata": {},
     "output_type": "execute_result"
    }
   ],
   "execution_count": 4
  },
  {
   "cell_type": "markdown",
   "source": [
    "### 1. Reto Alto Nivel (Opcional)\n",
    "Para cada cuadro del tablero de ajedrez, cuántos granos de trigo se usan cuando se duplica: 1 grano para el primer cuadro, 2 granos para el segundo cuadro, 4 granos para el tercer cuadro, etc. Realiza el calculo correspondiente."
   ],
   "metadata": {
    "id": "CtKGyxOWX9rB"
   }
  },
  {
   "metadata": {
    "ExecuteTime": {
     "end_time": "2025-01-01T16:16:45.706700Z",
     "start_time": "2025-01-01T16:16:45.700904Z"
    }
   },
   "cell_type": "code",
   "source": [
    "# Repuesta: Un cuadro de ajedrez tiene 64 cuadros, por lo que se duplica 64 veces.\n",
    "# Implementación 1: For Loop\n",
    "tablero = range(1, 65)\n",
    "resultados = []\n",
    "for i in tablero:\n",
    "    if i == 1:\n",
    "        resultados.append(1)\n",
    "    else:\n",
    "        resultados.append(resultados[-1] * 2)\n",
    "print(sum(resultados))"
   ],
   "outputs": [
    {
     "name": "stdout",
     "output_type": "stream",
     "text": [
      "18446744073709551615\n"
     ]
    }
   ],
   "execution_count": 5
  },
  {
   "metadata": {
    "ExecuteTime": {
     "end_time": "2025-01-01T16:16:45.765945Z",
     "start_time": "2025-01-01T16:16:45.759783Z"
    }
   },
   "cell_type": "code",
   "source": [
    "# Repuesta: Un cuadro de ajedrez tiene 64 cuadros, por lo que se duplica 64 veces.\n",
    "# Implementación 2: Recursión\n",
    "\n",
    "\n",
    "def granos_de_trigo(iteracion: int = 1, accoumulador: int = 1) -> int:\n",
    "    if iteracion == 65:\n",
    "        return accoumulador - 1\n",
    "    return granos_de_trigo(iteracion + 1, accoumulador * 2)\n",
    "\n",
    "\n",
    "granos_de_trigo()"
   ],
   "outputs": [
    {
     "data": {
      "text/plain": [
       "18446744073709551615"
      ]
     },
     "execution_count": 6,
     "metadata": {},
     "output_type": "execute_result"
    }
   ],
   "execution_count": 6
  },
  {
   "metadata": {
    "ExecuteTime": {
     "end_time": "2025-01-01T16:16:45.825225Z",
     "start_time": "2025-01-01T16:16:45.820303Z"
    }
   },
   "cell_type": "code",
   "source": [
    "# Repuesta: Un cuadro de ajedrez tiene 64 cuadros, por lo que se duplica 64 veces.\n",
    "# Recursión 3: 2 a la 64 potencia - 1\n",
    "2**64 - 1"
   ],
   "outputs": [
    {
     "data": {
      "text/plain": [
       "18446744073709551615"
      ]
     },
     "execution_count": 7,
     "metadata": {},
     "output_type": "execute_result"
    }
   ],
   "execution_count": 7
  },
  {
   "cell_type": "markdown",
   "source": [
    "### 2. Reto Alto Nivel (Opcional)\n",
    "Crear una función que dado un año, diga si es bisiesto.\n",
    "\n",
    "Podemos consultar la Wikipedia para saber qué años son bisiestos.\n",
    "https://es.wikipedia.org/wiki/A%C3%B1o_bisiesto\n",
    "\n",
    "Como puedes ver, existe una regla general  de que los años deben ser bisiestos (son múltiplos de 4), pero hay excepciones a esta regla general (los años terminan en 00, por lo que al final del año en este caso, el año no es un año bisiesto, pero con la última excepción de la excepción anterior (donde el año es un múltiplo de 400), el año es un año bisiesto\n",
    "Por ejemplo, los años 2100, 2200 y 2300 no son años bisiestos, pero  2400 es un año bisiesto.\n",
    "\n",
    "\n",
    "\n",
    "\n",
    "\n",
    "\n",
    "\n",
    "\n"
   ],
   "metadata": {
    "id": "3doFKVDLYDaT"
   }
  },
  {
   "cell_type": "markdown",
   "source": [
    "Eso es todo por ahora, no olvides socializar tus respuestas en el *canal general * y consultar a tu coach cualquier duda que tengas.\n",
    "¡Que tengas mucho éxito!\n"
   ],
   "metadata": {
    "id": "g_mQI0xi7Brg"
   }
  },
  {
   "metadata": {
    "ExecuteTime": {
     "end_time": "2025-01-01T16:28:22.192231Z",
     "start_time": "2025-01-01T16:28:22.184937Z"
    }
   },
   "cell_type": "code",
   "source": [
    "def anio_bisiesto(anio: int):\n",
    "    return anio % 4 == 0 and (anio % 100 != 0 or anio % 400 == 0)\n",
    "\n",
    "\n",
    "assert anio_bisiesto(2100) is False\n",
    "assert anio_bisiesto(2200) is False\n",
    "assert anio_bisiesto(2300) is False\n",
    "assert anio_bisiesto(2400) is True\n",
    "assert anio_bisiesto(2800) is True\n",
    "assert anio_bisiesto(2024) is True\n",
    "assert anio_bisiesto(2020) is True\n",
    "assert anio_bisiesto(2025) is False\n",
    "assert anio_bisiesto(2028) is True\n",
    "\n",
    "print(f\"2100 es año bisiesto? %\", \"Si\" if anio_bisiesto(2100) else \"No\")\n",
    "print(\"2200 es año bisiesto? %\", \"Si\" if anio_bisiesto(2200) else \"No\")\n",
    "print(\"2300 es año bisiesto? %\", \"Si\" if anio_bisiesto(2300) else \"No\")\n",
    "print(\"2400 es año bisiesto? %\", \"Si\" if anio_bisiesto(2400) else \"No\")\n",
    "print(\"2800 es año bisiesto? %\", \"Si\" if anio_bisiesto(2800) else \"No\")\n",
    "print(\"2024 es año bisiesto? %\", \"Si\" if anio_bisiesto(2024) else \"No\")\n",
    "print(\"2020 es año bisiesto? %\", \"Si\" if anio_bisiesto(2020) else \"No\")\n",
    "print(\"2025 es año bisiesto? %\", \"Si\" if anio_bisiesto(2025) else \"No\")\n",
    "print(\"2028 es año bisiesto? %\", \"Si\" if anio_bisiesto(2028) else \"No\")"
   ],
   "outputs": [
    {
     "name": "stdout",
     "output_type": "stream",
     "text": [
      "2100 es año bisiesto? % No\n",
      "2200 es año bisiesto? % No\n",
      "2300 es año bisiesto? % No\n",
      "2400 es año bisiesto? % Si\n",
      "2800 es año bisiesto? % Si\n",
      "2024 es año bisiesto? % Si\n",
      "2020 es año bisiesto? % Si\n",
      "2025 es año bisiesto? % No\n",
      "2028 es año bisiesto? % Si\n"
     ]
    }
   ],
   "execution_count": 18
  }
 ]
}
