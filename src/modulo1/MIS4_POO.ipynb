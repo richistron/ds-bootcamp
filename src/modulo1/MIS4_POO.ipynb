{
 "cells": [
  {
   "cell_type": "markdown",
   "source": [
    "# MIS4 OOP: Clases, atributos, métodos"
   ],
   "metadata": {
    "id": "dVDGfwkV0khe"
   },
   "id": "dVDGfwkV0khe"
  },
  {
   "cell_type": "code",
   "id": "6df7061d",
   "metadata": {
    "id": "6df7061d",
    "ExecuteTime": {
     "end_time": "2024-12-27T04:24:44.660393Z",
     "start_time": "2024-12-27T04:24:44.656820Z"
    }
   },
   "source": [
    "class Cliente:\n",
    "    # Mi primer clase\n",
    "    pass"
   ],
   "outputs": [],
   "execution_count": 2
  },
  {
   "cell_type": "code",
   "id": "6868cf5c",
   "metadata": {
    "id": "6868cf5c",
    "ExecuteTime": {
     "end_time": "2024-12-27T04:24:44.705686Z",
     "start_time": "2024-12-27T04:24:44.702024Z"
    }
   },
   "source": [
    "cliente_1 = Cliente()"
   ],
   "outputs": [],
   "execution_count": 3
  },
  {
   "cell_type": "code",
   "id": "b8931001",
   "metadata": {
    "id": "b8931001",
    "outputId": "9eff8e4f-a6d7-4f74-a9d6-bc71a9147524",
    "colab": {
     "base_uri": "https://localhost:8080/"
    },
    "ExecuteTime": {
     "end_time": "2024-12-27T04:24:44.766513Z",
     "start_time": "2024-12-27T04:24:44.758598Z"
    }
   },
   "source": [
    "type(cliente_1)"
   ],
   "outputs": [
    {
     "data": {
      "text/plain": [
       "__main__.Cliente"
      ]
     },
     "execution_count": 4,
     "metadata": {},
     "output_type": "execute_result"
    }
   ],
   "execution_count": 4
  },
  {
   "cell_type": "code",
   "id": "223acba3",
   "metadata": {
    "id": "223acba3",
    "ExecuteTime": {
     "end_time": "2024-12-27T04:24:45.447850Z",
     "start_time": "2024-12-27T04:24:44.821416Z"
    }
   },
   "source": [
    "import pandas as pd\n",
    "df = pd.DataFrame({\"A\": [1,2], \"B\":[3,4]})"
   ],
   "outputs": [],
   "execution_count": 5
  },
  {
   "cell_type": "code",
   "id": "fc90f874",
   "metadata": {
    "id": "fc90f874",
    "outputId": "98062edc-183a-4eb9-8eb9-a5d875f8b797",
    "colab": {
     "base_uri": "https://localhost:8080/"
    },
    "ExecuteTime": {
     "end_time": "2024-12-27T04:24:45.467692Z",
     "start_time": "2024-12-27T04:24:45.462247Z"
    }
   },
   "source": [
    "type(df)"
   ],
   "outputs": [
    {
     "data": {
      "text/plain": [
       "pandas.core.frame.DataFrame"
      ]
     },
     "execution_count": 6,
     "metadata": {},
     "output_type": "execute_result"
    }
   ],
   "execution_count": 6
  },
  {
   "cell_type": "markdown",
   "id": "afac03cd",
   "metadata": {
    "id": "afac03cd"
   },
   "source": [
    "**Un método** es una función con la excepción de que vive dentro de una clase y además dentro de su función forzosamente se pone la palabra **\"self\"**."
   ]
  },
  {
   "cell_type": "code",
   "id": "dae444aa",
   "metadata": {
    "id": "dae444aa",
    "ExecuteTime": {
     "end_time": "2024-12-27T04:24:45.523044Z",
     "start_time": "2024-12-27T04:24:45.518801Z"
    }
   },
   "source": [
    "class Cliente:\n",
    "\n",
    "    def nombre_cliente(self, nombre):\n",
    "        #Self le indica que se refiere al futuro yo que usaremos.\n",
    "        #Es decir, para saber que esa función le pertenece a una clase, se debe referir a quién le pertenece en un futuro.\n",
    "        # por ejemplo clase_2.nombre_cliente pero en vez de decir un objeto específico, self es un genérico.\n",
    "        print(\"Mi nombre es:\" + nombre)"
   ],
   "outputs": [],
   "execution_count": 7
  },
  {
   "cell_type": "code",
   "id": "3b45701c",
   "metadata": {
    "id": "3b45701c",
    "ExecuteTime": {
     "end_time": "2024-12-27T04:24:45.580280Z",
     "start_time": "2024-12-27T04:24:45.576330Z"
    }
   },
   "source": [
    "cliente_2 = Cliente()"
   ],
   "outputs": [],
   "execution_count": 8
  },
  {
   "cell_type": "code",
   "id": "3cb5e8cf",
   "metadata": {
    "id": "3cb5e8cf",
    "outputId": "5e148b5e-c245-433e-d8e8-c4acee554be3",
    "colab": {
     "base_uri": "https://localhost:8080/"
    },
    "ExecuteTime": {
     "end_time": "2024-12-27T04:24:45.632624Z",
     "start_time": "2024-12-27T04:24:45.628005Z"
    }
   },
   "source": [
    "cliente_2.nombre_cliente(\"José\")"
   ],
   "outputs": [
    {
     "name": "stdout",
     "output_type": "stream",
     "text": [
      "Mi nombre es:José\n"
     ]
    }
   ],
   "execution_count": 9
  },
  {
   "cell_type": "code",
   "id": "f733ad1d",
   "metadata": {
    "id": "f733ad1d",
    "ExecuteTime": {
     "end_time": "2024-12-27T04:24:45.681415Z",
     "start_time": "2024-12-27T04:24:45.677130Z"
    }
   },
   "source": [
    "class Cliente:\n",
    "\n",
    "    def nombre_cliente(self, nombre):\n",
    "        self.nombre = nombre\n",
    "        print(\"El nombre del cliente es:\" + nombre)"
   ],
   "outputs": [],
   "execution_count": 10
  },
  {
   "cell_type": "code",
   "id": "acd28d8e",
   "metadata": {
    "id": "acd28d8e",
    "ExecuteTime": {
     "end_time": "2024-12-27T04:24:45.729977Z",
     "start_time": "2024-12-27T04:24:45.725804Z"
    }
   },
   "source": [
    "cliente_3 = Cliente()"
   ],
   "outputs": [],
   "execution_count": 11
  },
  {
   "cell_type": "code",
   "id": "502e18c2",
   "metadata": {
    "id": "502e18c2",
    "outputId": "ae917c32-9e5f-4873-aab6-f6f6e6417543",
    "colab": {
     "base_uri": "https://localhost:8080/"
    },
    "ExecuteTime": {
     "end_time": "2024-12-27T04:24:45.779747Z",
     "start_time": "2024-12-27T04:24:45.775676Z"
    }
   },
   "source": [
    "cliente_3.nombre_cliente(\"Laura\")"
   ],
   "outputs": [
    {
     "name": "stdout",
     "output_type": "stream",
     "text": [
      "El nombre del cliente es:Laura\n"
     ]
    }
   ],
   "execution_count": 12
  },
  {
   "cell_type": "code",
   "id": "b7abe965",
   "metadata": {
    "id": "b7abe965",
    "outputId": "d46baffa-819c-4724-d76c-d1357f156782",
    "colab": {
     "base_uri": "https://localhost:8080/",
     "height": 36
    },
    "ExecuteTime": {
     "end_time": "2024-12-27T04:24:45.844174Z",
     "start_time": "2024-12-27T04:24:45.837975Z"
    }
   },
   "source": [
    "cliente_3.nombre"
   ],
   "outputs": [
    {
     "data": {
      "text/plain": [
       "'Laura'"
      ]
     },
     "execution_count": 13,
     "metadata": {},
     "output_type": "execute_result"
    }
   ],
   "execution_count": 13
  },
  {
   "cell_type": "markdown",
   "id": "740ead36",
   "metadata": {
    "id": "740ead36"
   },
   "source": [
    "### Mezcla de objetos"
   ]
  },
  {
   "cell_type": "code",
   "id": "f0e664ee",
   "metadata": {
    "id": "f0e664ee",
    "ExecuteTime": {
     "end_time": "2024-12-27T04:24:45.901162Z",
     "start_time": "2024-12-27T04:24:45.897402Z"
    }
   },
   "source": [
    "import pandas as pd\n",
    "import numpy as np"
   ],
   "outputs": [],
   "execution_count": 14
  },
  {
   "cell_type": "code",
   "id": "b4190712",
   "metadata": {
    "id": "b4190712",
    "ExecuteTime": {
     "end_time": "2024-12-27T04:24:45.953100Z",
     "start_time": "2024-12-27T04:24:45.948729Z"
    }
   },
   "source": [
    "df = pd.DataFrame({\"A\": [1,2], \"B\":[3,4]})"
   ],
   "outputs": [],
   "execution_count": 15
  },
  {
   "cell_type": "code",
   "id": "10c70d39",
   "metadata": {
    "id": "10c70d39",
    "outputId": "5736a6e0-3f59-4324-e4ad-320b5eafd744",
    "colab": {
     "base_uri": "https://localhost:8080/",
     "height": 112
    },
    "ExecuteTime": {
     "end_time": "2024-12-27T04:24:46.015692Z",
     "start_time": "2024-12-27T04:24:46.006207Z"
    }
   },
   "source": [
    "df.head()"
   ],
   "outputs": [
    {
     "data": {
      "text/plain": [
       "   A  B\n",
       "0  1  3\n",
       "1  2  4"
      ],
      "text/html": [
       "<div>\n",
       "<style scoped>\n",
       "    .dataframe tbody tr th:only-of-type {\n",
       "        vertical-align: middle;\n",
       "    }\n",
       "\n",
       "    .dataframe tbody tr th {\n",
       "        vertical-align: top;\n",
       "    }\n",
       "\n",
       "    .dataframe thead th {\n",
       "        text-align: right;\n",
       "    }\n",
       "</style>\n",
       "<table border=\"1\" class=\"dataframe\">\n",
       "  <thead>\n",
       "    <tr style=\"text-align: right;\">\n",
       "      <th></th>\n",
       "      <th>A</th>\n",
       "      <th>B</th>\n",
       "    </tr>\n",
       "  </thead>\n",
       "  <tbody>\n",
       "    <tr>\n",
       "      <th>0</th>\n",
       "      <td>1</td>\n",
       "      <td>3</td>\n",
       "    </tr>\n",
       "    <tr>\n",
       "      <th>1</th>\n",
       "      <td>2</td>\n",
       "      <td>4</td>\n",
       "    </tr>\n",
       "  </tbody>\n",
       "</table>\n",
       "</div>"
      ]
     },
     "execution_count": 16,
     "metadata": {},
     "output_type": "execute_result"
    }
   ],
   "execution_count": 16
  },
  {
   "cell_type": "code",
   "id": "b294ac50",
   "metadata": {
    "id": "b294ac50",
    "outputId": "ad7cc256-9369-4703-f9ac-56f9c0413d95",
    "colab": {
     "base_uri": "https://localhost:8080/"
    },
    "ExecuteTime": {
     "end_time": "2024-12-27T04:24:46.151402Z",
     "start_time": "2024-12-27T04:24:46.143022Z"
    }
   },
   "source": [
    "print(df.to_dict(), type(df.to_dict()))\n"
   ],
   "outputs": [
    {
     "name": "stdout",
     "output_type": "stream",
     "text": [
      "{'A': {0: 1, 1: 2}, 'B': {0: 3, 1: 4}} <class 'dict'>\n"
     ]
    }
   ],
   "execution_count": 17
  },
  {
   "cell_type": "markdown",
   "source": [
    "Método Constructor"
   ],
   "metadata": {
    "id": "96SgnzahzzE3"
   },
   "id": "96SgnzahzzE3"
  },
  {
   "cell_type": "code",
   "source": [
    "class Cliente:\n",
    "\n",
    "    def __init__(self, i):\n",
    "        print(f'Se inicializa  {i}')\n",
    "        self.id = i\n",
    "\n",
    "    def nombre_cliente(self, nombre):\n",
    "        self.nombre = nombre\n",
    "        print(\"El nombre del cliente es:\" + nombre)"
   ],
   "metadata": {
    "id": "pkdsGshyz7qX",
    "ExecuteTime": {
     "end_time": "2024-12-27T04:24:46.298689Z",
     "start_time": "2024-12-27T04:24:46.293790Z"
    }
   },
   "id": "pkdsGshyz7qX",
   "outputs": [],
   "execution_count": 18
  },
  {
   "cell_type": "code",
   "source": [
    "cliente_1 = Cliente(10)"
   ],
   "metadata": {
    "colab": {
     "base_uri": "https://localhost:8080/"
    },
    "id": "8UeRxg420B7O",
    "outputId": "28870620-9cbd-4350-d8fe-9519bef00ec4",
    "ExecuteTime": {
     "end_time": "2024-12-27T04:24:46.365778Z",
     "start_time": "2024-12-27T04:24:46.360843Z"
    }
   },
   "id": "8UeRxg420B7O",
   "outputs": [
    {
     "name": "stdout",
     "output_type": "stream",
     "text": [
      "Se inicializa  10\n"
     ]
    }
   ],
   "execution_count": 19
  },
  {
   "cell_type": "code",
   "source": [
    "cliente_1.id"
   ],
   "metadata": {
    "colab": {
     "base_uri": "https://localhost:8080/"
    },
    "id": "nIbvH-1lPzXe",
    "outputId": "c18969e0-e6ed-49d6-b759-4c224b35aeb8",
    "ExecuteTime": {
     "end_time": "2024-12-27T04:24:46.454859Z",
     "start_time": "2024-12-27T04:24:46.448197Z"
    }
   },
   "id": "nIbvH-1lPzXe",
   "outputs": [
    {
     "data": {
      "text/plain": [
       "10"
      ]
     },
     "execution_count": 20,
     "metadata": {},
     "output_type": "execute_result"
    }
   ],
   "execution_count": 20
  },
  {
   "cell_type": "code",
   "source": [
    "cliente_1.nombre_cliente(\"Laura\")"
   ],
   "metadata": {
    "colab": {
     "base_uri": "https://localhost:8080/"
    },
    "id": "T6EAo3Ao0DCu",
    "outputId": "c54cd5d1-f8a8-45c7-a908-c723763608bc",
    "ExecuteTime": {
     "end_time": "2024-12-27T04:24:46.528974Z",
     "start_time": "2024-12-27T04:24:46.524766Z"
    }
   },
   "id": "T6EAo3Ao0DCu",
   "outputs": [
    {
     "name": "stdout",
     "output_type": "stream",
     "text": [
      "El nombre del cliente es:Laura\n"
     ]
    }
   ],
   "execution_count": 21
  },
  {
   "cell_type": "code",
   "source": [
    "cliente_1.nombre"
   ],
   "metadata": {
    "colab": {
     "base_uri": "https://localhost:8080/",
     "height": 36
    },
    "id": "SfDtbkaa0IVv",
    "outputId": "7a162ba1-d099-49af-d8eb-0328657cd520",
    "ExecuteTime": {
     "end_time": "2024-12-27T04:24:46.584688Z",
     "start_time": "2024-12-27T04:24:46.579014Z"
    }
   },
   "id": "SfDtbkaa0IVv",
   "outputs": [
    {
     "data": {
      "text/plain": [
       "'Laura'"
      ]
     },
     "execution_count": 22,
     "metadata": {},
     "output_type": "execute_result"
    }
   ],
   "execution_count": 22
  },
  {
   "cell_type": "markdown",
   "source": [
    "## Ejercicio"
   ],
   "metadata": {
    "id": "1zlS7wuC0ONO"
   },
   "id": "1zlS7wuC0ONO"
  },
  {
   "cell_type": "code",
   "source": [
    "#1) Examinar la clase Temperatura\n",
    "#2) Crear un método que genere la temperatura de kelvin (Centigrados + 273.15)\n",
    "#3) Construir los demás métodos de C a F y otro que obtenga la temperatura de C.\n",
    "\n",
    "class Temperatura:\n",
    "\n",
    "    def __init__(self, i = \"\"):\n",
    "      if i == \"\":\n",
    "        print(f'No hay una temperatura: {i}')\n",
    "      else:\n",
    "        print(f\"La temperatura es: {i}\")\n",
    "        self.temperature_c = i\n",
    "\n",
    "    def Kelvin(self):\n",
    "      self.temperatura_k = self.temperature_c + 273.15\n",
    "      print(self.temperatura_k)\n",
    "\n",
    "    def Fahrenheit(self):\n",
    "      self.temperatura_f = 9/5 * self.temperature_c +32\n",
    "      print(self.temperatura_f)"
   ],
   "metadata": {
    "id": "4lwFB-Lm0Lz-",
    "ExecuteTime": {
     "end_time": "2024-12-27T04:24:46.646319Z",
     "start_time": "2024-12-27T04:24:46.639688Z"
    }
   },
   "id": "4lwFB-Lm0Lz-",
   "outputs": [],
   "execution_count": 23
  },
  {
   "cell_type": "code",
   "source": [
    "temp = Temperatura(30)"
   ],
   "metadata": {
    "colab": {
     "base_uri": "https://localhost:8080/"
    },
    "id": "_v9NeV340Sp-",
    "outputId": "b759ff97-92fe-4f02-8902-0dbe0aff385e",
    "ExecuteTime": {
     "end_time": "2024-12-27T04:24:46.712548Z",
     "start_time": "2024-12-27T04:24:46.707617Z"
    }
   },
   "id": "_v9NeV340Sp-",
   "outputs": [
    {
     "name": "stdout",
     "output_type": "stream",
     "text": [
      "La temperatura es: 30\n"
     ]
    }
   ],
   "execution_count": 24
  },
  {
   "cell_type": "code",
   "source": [
    "temp.temperature_c"
   ],
   "metadata": {
    "colab": {
     "base_uri": "https://localhost:8080/"
    },
    "id": "RNS5p7P7V-Py",
    "outputId": "0fafb86a-1933-444d-f237-896bf739a12c",
    "ExecuteTime": {
     "end_time": "2024-12-27T04:24:46.779494Z",
     "start_time": "2024-12-27T04:24:46.773957Z"
    }
   },
   "id": "RNS5p7P7V-Py",
   "outputs": [
    {
     "data": {
      "text/plain": [
       "30"
      ]
     },
     "execution_count": 25,
     "metadata": {},
     "output_type": "execute_result"
    }
   ],
   "execution_count": 25
  },
  {
   "cell_type": "code",
   "source": [
    "temp.Kelvin()"
   ],
   "metadata": {
    "colab": {
     "base_uri": "https://localhost:8080/"
    },
    "id": "YnhoMyhq0VY1",
    "outputId": "307dda44-807b-45ca-db6a-e62fe48578dd",
    "ExecuteTime": {
     "end_time": "2024-12-27T04:24:46.833020Z",
     "start_time": "2024-12-27T04:24:46.828184Z"
    }
   },
   "id": "YnhoMyhq0VY1",
   "outputs": [
    {
     "name": "stdout",
     "output_type": "stream",
     "text": [
      "303.15\n"
     ]
    }
   ],
   "execution_count": 26
  },
  {
   "cell_type": "code",
   "source": [
    "temp.Fahrenheit()"
   ],
   "metadata": {
    "id": "nN9eIRssRaom",
    "outputId": "6d1167b2-ba7e-4778-aa7e-e891a132e976",
    "colab": {
     "base_uri": "https://localhost:8080/"
    },
    "ExecuteTime": {
     "end_time": "2024-12-27T04:24:46.892757Z",
     "start_time": "2024-12-27T04:24:46.887465Z"
    }
   },
   "id": "nN9eIRssRaom",
   "outputs": [
    {
     "name": "stdout",
     "output_type": "stream",
     "text": [
      "86.0\n"
     ]
    }
   ],
   "execution_count": 27
  },
  {
   "cell_type": "code",
   "source": [
    "temp.temperatura_f"
   ],
   "metadata": {
    "id": "y-tXFymKWRLE",
    "outputId": "b93fd8f3-2084-4474-be9b-cc491357a377",
    "colab": {
     "base_uri": "https://localhost:8080/"
    },
    "ExecuteTime": {
     "end_time": "2024-12-27T04:24:46.945395Z",
     "start_time": "2024-12-27T04:24:46.939091Z"
    }
   },
   "id": "y-tXFymKWRLE",
   "outputs": [
    {
     "data": {
      "text/plain": [
       "86.0"
      ]
     },
     "execution_count": 28,
     "metadata": {},
     "output_type": "execute_result"
    }
   ],
   "execution_count": 28
  },
  {
   "cell_type": "code",
   "source": [
    "temp.temperatura_k"
   ],
   "metadata": {
    "id": "f1lxNl0dWUER",
    "outputId": "3b194d0a-8e58-470b-ae18-dd6974a2e747",
    "colab": {
     "base_uri": "https://localhost:8080/"
    },
    "ExecuteTime": {
     "end_time": "2024-12-27T04:24:47.014242Z",
     "start_time": "2024-12-27T04:24:47.008646Z"
    }
   },
   "id": "f1lxNl0dWUER",
   "outputs": [
    {
     "data": {
      "text/plain": [
       "303.15"
      ]
     },
     "execution_count": 29,
     "metadata": {},
     "output_type": "execute_result"
    }
   ],
   "execution_count": 29
  }
 ],
 "metadata": {
  "kernelspec": {
   "display_name": "Python 3 (ipykernel)",
   "language": "python",
   "name": "python3"
  },
  "language_info": {
   "codemirror_mode": {
    "name": "ipython",
    "version": 3
   },
   "file_extension": ".py",
   "mimetype": "text/x-python",
   "name": "python",
   "nbconvert_exporter": "python",
   "pygments_lexer": "ipython3",
   "version": "3.9.7"
  },
  "colab": {
   "provenance": []
  }
 },
 "nbformat": 4,
 "nbformat_minor": 5
}
