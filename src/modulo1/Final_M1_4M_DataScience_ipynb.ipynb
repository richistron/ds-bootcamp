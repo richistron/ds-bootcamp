{
 "cells": [
  {
   "cell_type": "markdown",
   "metadata": {
    "id": "twqos-W7HcAB"
   },
   "source": [
    "# Análisis exploratorio en la base \"Salarios de trabajos de ciencia de datos\"\n",
    "\n",
    "* **Proyecto**: Salarios de trabajos de ciencia de datos\n",
    "* Autor: Ricardo Rivas G.\n",
    "  * [GitHub](https://github.com/richistron)\n",
    "  * [Linkedin](https://www.linkedin.com/in/richistron/)\n",
    "* [Código fuente](https://github.com/richistron/ds-bootcamp)\n",
    "* [Dataset](https://drive.google.com/file/d/1xEGMqIMDPZK-7yte8u3vnYyKB--J-x0s/view)\n",
    "\n",
    "## Objetivos\n",
    "\n",
    "El participante:\n",
    "* Aprenderá a cargar los datos desde Pandas.\n",
    "* Aprenderá a utilizar los principales atributos para ver la info del dataframe.\n",
    "* Generará un análisis de frecuencia de los principales atributos.\n",
    "* Investigará y creará una análisis de correlación de Pearson.\n",
    "* Realizará gráficos proporcionados por Pandas para el EDA.\n",
    "\n",
    "## Requisitos\n",
    "\n",
    "* El proyecto debe realizarse de forma individual.\n",
    "* La entrega del proyecto se hará en un `.ipynb`\n",
    "* **Importante**: Se debe realizar una COPIA del colab y trabajar sobre ella.\n",
    "* **Importante**: Debe compartirse la liga del proyecto de forma **pública**. Este documento es de forma obligatoria, al igual que todos los elementos que lo conforman.\n",
    "* Usar el archivo en [Google Colab](https://colab.research.google.com/drive/1-vTLDz6-LvN2osy4v2Hf8kihVTms_XxN)\n",
    "\n",
    "## Entregables\n",
    "\n",
    "* Título e Índice\n",
    "* Crear una descripción de las columnas en Markdown\n",
    "* Análisis exploratorio y de completitud de los datos\n",
    "* Análisis estadístico de los datos\n",
    "* Correlación de las variables\n",
    "* Gráfica de barras y de histograma\n",
    "* Insights\n",
    "* Conclusiones de la base\n"
   ],
   "id": "twqos-W7HcAB"
  },
  {
   "cell_type": "markdown",
   "metadata": {
    "id": "hGH06sSizC2s"
   },
   "source": [
    "#“Salarios de trabajos de ciencia de datos”\n",
    "\n",
    "\n",
    "> Diccionario[texto del enlace](https://)\n"
   ],
   "id": "hGH06sSizC2s"
  },
  {
   "cell_type": "code",
   "execution_count": null,
   "metadata": {
    "id": "GCDRi6gw7v7i"
   },
   "outputs": [],
   "source": [
    "import numpy as np\n",
    "import pandas as pd\n",
    "\n",
    "import matplotlib.pyplot as plt\n",
    "import seaborn as sns"
   ],
   "id": "GCDRi6gw7v7i"
  },
  {
   "cell_type": "markdown",
   "metadata": {
    "id": "7whjNxjN6ePb"
   },
   "source": [],
   "id": "7whjNxjN6ePb"
  },
  {
   "cell_type": "markdown",
   "metadata": {
    "id": "sFpx1DrFz616"
   },
   "source": [],
   "id": "sFpx1DrFz616"
  },
  {
   "cell_type": "markdown",
   "metadata": {
    "id": "olpKMWOiz65U"
   },
   "source": [],
   "id": "olpKMWOiz65U"
  },
  {
   "cell_type": "code",
   "execution_count": null,
   "metadata": {
    "id": "joMlXfzSz7u1"
   },
   "outputs": [],
   "source": [
    "datos = pd.read_csv('ds_salaries.csv')"
   ],
   "id": "joMlXfzSz7u1"
  },
  {
   "cell_type": "code",
   "execution_count": null,
   "metadata": {
    "id": "-k2yQvWjhNoE",
    "outputId": "3e8d9a9b-efd2-4510-e4d4-c902cde5845d",
    "colab": {
     "base_uri": "https://localhost:8080/",
     "height": 141
    }
   },
   "outputs": [
    {
     "output_type": "error",
     "ename": "NameError",
     "evalue": "name 'datos' is not defined",
     "traceback": [
      "\u001B[0;31m---------------------------------------------------------------------------\u001B[0m",
      "\u001B[0;31mNameError\u001B[0m                                 Traceback (most recent call last)",
      "\u001B[0;32m<ipython-input-4-54bc2f975257>\u001B[0m in \u001B[0;36m<cell line: 1>\u001B[0;34m()\u001B[0m\n\u001B[0;32m----> 1\u001B[0;31m \u001B[0mdatos\u001B[0m\u001B[0;34m.\u001B[0m\u001B[0mhead\u001B[0m\u001B[0;34m(\u001B[0m\u001B[0;34m)\u001B[0m\u001B[0;34m\u001B[0m\u001B[0;34m\u001B[0m\u001B[0m\n\u001B[0m",
      "\u001B[0;31mNameError\u001B[0m: name 'datos' is not defined"
     ]
    }
   ],
   "source": [
    "datos.head()"
   ],
   "id": "-k2yQvWjhNoE"
  },
  {
   "cell_type": "code",
   "execution_count": null,
   "metadata": {
    "id": "st_wJOuxhN7F"
   },
   "outputs": [],
   "source": [
    "datos.drop('unnamed: 0', axis = 1, inplace =True)"
   ],
   "id": "st_wJOuxhN7F"
  },
  {
   "cell_type": "code",
   "source": [
    "datos.info()"
   ],
   "metadata": {
    "id": "oVN1htio_1jl"
   },
   "id": "oVN1htio_1jl",
   "execution_count": null,
   "outputs": []
  },
  {
   "cell_type": "code",
   "source": [
    "datos.describe(include='all')"
   ],
   "metadata": {
    "id": "RGKU-K6lD8rD"
   },
   "id": "RGKU-K6lD8rD",
   "execution_count": null,
   "outputs": []
  },
  {
   "cell_type": "code",
   "source": [
    "datos['job_title'] .unique()"
   ],
   "metadata": {
    "id": "BcXSHn8xD8t2"
   },
   "id": "BcXSHn8xD8t2",
   "execution_count": null,
   "outputs": []
  },
  {
   "cell_type": "markdown",
   "source": [
    "exploracion de los datos por medio de visualizaciones\n",
    "\n",
    "salarios por años"
   ],
   "metadata": {
    "id": "_7XOUJCuHf47"
   },
   "id": "_7XOUJCuHf47"
  },
  {
   "cell_type": "code",
   "source": [
    "ax = sns.barplot(data=datos,x='work_year', y='salary_in_usd')\n",
    "ax.bar_label(ax.containers[0])\n",
    "plt.show()"
   ],
   "metadata": {
    "id": "it9UXHgCD8z7"
   },
   "id": "it9UXHgCD8z7",
   "execution_count": null,
   "outputs": []
  },
  {
   "cell_type": "markdown",
   "source": [
    "salarios promedios por países que ofrecen empleos\n"
   ],
   "metadata": {
    "id": "Zo1RPj8rLli5"
   },
   "id": "Zo1RPj8rLli5"
  },
  {
   "cell_type": "code",
   "source": [
    "salario_pais = datos.groupby(by='company_location')['salary_in_usd'].mean().reset_index().sort_values(by='salary_in_usd', ascending=False)\n",
    "salario_pais['salary_in_usd'] = salario_pais['salary_in_usd']/1000\n",
    "COND = salario_pais ['salary_in_usd'] > 99.84\n",
    "salario_pais = salario_pais[COND]"
   ],
   "metadata": {
    "id": "AE1WuLoDD83O"
   },
   "id": "AE1WuLoDD83O",
   "execution_count": null,
   "outputs": []
  },
  {
   "cell_type": "code",
   "source": [
    "ax = sns.barplot(data=salario_pais,y='company_location', x='salary_in_usd', palette= 'rocket')\n",
    "ax.bar_label(ax.containers[0])\n",
    "ax.set_xlabel('salarios en miles de dolares')\n",
    "plt.show()"
   ],
   "metadata": {
    "id": "ka-UTjCsJOqc"
   },
   "id": "ka-UTjCsJOqc",
   "execution_count": null,
   "outputs": []
  },
  {
   "cell_type": "code",
   "source": [],
   "metadata": {
    "id": "txXFWWCxJOs9"
   },
   "id": "txXFWWCxJOs9",
   "execution_count": null,
   "outputs": []
  },
  {
   "cell_type": "code",
   "source": [],
   "metadata": {
    "id": "k7AOsXfvJOwI"
   },
   "id": "k7AOsXfvJOwI",
   "execution_count": null,
   "outputs": []
  },
  {
   "cell_type": "code",
   "source": [],
   "metadata": {
    "id": "8IzFgzbcJOyu"
   },
   "id": "8IzFgzbcJOyu",
   "execution_count": null,
   "outputs": []
  },
  {
   "cell_type": "code",
   "source": [],
   "metadata": {
    "id": "z1OUsL3dJO1D"
   },
   "id": "z1OUsL3dJO1D",
   "execution_count": null,
   "outputs": []
  },
  {
   "cell_type": "code",
   "source": [],
   "metadata": {
    "id": "08vHD0VyJO38"
   },
   "id": "08vHD0VyJO38",
   "execution_count": null,
   "outputs": []
  },
  {
   "cell_type": "code",
   "source": [],
   "metadata": {
    "id": "Td332pgwJO66"
   },
   "id": "Td332pgwJO66",
   "execution_count": null,
   "outputs": []
  },
  {
   "cell_type": "code",
   "source": [],
   "metadata": {
    "id": "JE7BtWkNJO9q"
   },
   "id": "JE7BtWkNJO9q",
   "execution_count": null,
   "outputs": []
  },
  {
   "cell_type": "code",
   "source": [],
   "metadata": {
    "id": "Z4q1jsPuJPAa"
   },
   "id": "Z4q1jsPuJPAa",
   "execution_count": null,
   "outputs": []
  },
  {
   "cell_type": "code",
   "source": [],
   "metadata": {
    "id": "dl1-Xq41JPDC"
   },
   "id": "dl1-Xq41JPDC",
   "execution_count": null,
   "outputs": []
  },
  {
   "cell_type": "code",
   "source": [],
   "metadata": {
    "id": "zWaFknP2JPFq"
   },
   "id": "zWaFknP2JPFq",
   "execution_count": null,
   "outputs": []
  },
  {
   "cell_type": "code",
   "source": [],
   "metadata": {
    "id": "gavWmmBlJPIV"
   },
   "id": "gavWmmBlJPIV",
   "execution_count": null,
   "outputs": []
  },
  {
   "cell_type": "code",
   "source": [],
   "metadata": {
    "id": "fXXWHkzVJPLn"
   },
   "id": "fXXWHkzVJPLn",
   "execution_count": null,
   "outputs": []
  },
  {
   "cell_type": "markdown",
   "metadata": {
    "id": "jlIh2W_yhOIp"
   },
   "source": [],
   "id": "jlIh2W_yhOIp"
  },
  {
   "cell_type": "markdown",
   "metadata": {
    "id": "m5Icy9A73Ox5"
   },
   "source": [
    "- OBJETIVO: Mostrar el proceso realizado por los secuenciadores de acuerdo a lo establecido en su Instrucción de Trabajo en un periodo determinado."
   ],
   "id": "m5Icy9A73Ox5"
  },
  {
   "cell_type": "markdown",
   "metadata": {
    "id": "SU4tfSCTEJro"
   },
   "source": [
    "- Tabla de contenido:\n",
    "\n",
    "| Dato a Analizar | Descripción |\n",
    "| --- | --- |\n",
    "| Cliente | Menciona el cliente que está pagando el protecto |\n",
    "| Usuario | Lista de los usuarios que realizan el secuenciado |\n",
    "| Dia | Se muestra la carga de trabajo por día |\n",
    "| Hora | Se muestra la carga de trabajo por hora |\n",
    "| Tipo de SLT | Muestra la sección donde está el usuario |"
   ],
   "id": "SU4tfSCTEJro"
  },
  {
   "cell_type": "markdown",
   "metadata": {
    "id": "DZ9VIx1rGptR"
   },
   "source": [
    "#LIBRERIAS NUMPY Y PANDAS\n",
    "\n",
    "- NUMPY\n",
    " Es una biblioteca de computación matemática, mas eficiente y rápida al manipular datos.\n",
    "\n",
    "- PANDAS: Facilita la manipulación de grandes volúmenes de datos a través de un conjunto de métodos y estructuras diseñadas para tal fin\n",
    "\n",
    "**FUNCIONALIDAD**\n",
    "\n",
    "1.   CARGAR\n",
    "2.   MODELAR\n",
    "3.   ANALIZAR\n",
    "4.   MANIPULAR\n",
    "5.   PREPARAR"
   ],
   "id": "DZ9VIx1rGptR"
  },
  {
   "cell_type": "markdown",
   "metadata": {
    "id": "U05PrBi-1H82"
   },
   "source": [],
   "id": "U05PrBi-1H82"
  },
  {
   "cell_type": "code",
   "execution_count": null,
   "metadata": {
    "id": "vD3jCUso1Ig3"
   },
   "outputs": [],
   "source": [],
   "id": "vD3jCUso1Ig3"
  },
  {
   "cell_type": "markdown",
   "metadata": {
    "id": "4MDsDw7yTEQH"
   },
   "source": [
    "**ÍNDICE**\n",
    "\n",
    "1.   Cargar Librerías.\n",
    "2.   Subir Archivo.\n",
    "3.   Leer, mostrar contenido, enlistar los primeros 5 registros.\n",
    "4.   Se obtiene el total de registros y nombre de las columnas.\n",
    "5.   Descripción de las columnas.\n",
    "6.   Obtener el conteo de los registros de la base de datos.\n",
    "7. Se valida si existen datos nulos en el DataFrame."
   ],
   "id": "4MDsDw7yTEQH"
  },
  {
   "cell_type": "markdown",
   "metadata": {
    "id": "0c078a44"
   },
   "source": [
    "# Desarrollo del PROYECTO"
   ],
   "id": "0c078a44"
  },
  {
   "cell_type": "markdown",
   "metadata": {
    "id": "OYjQWWynKiAR"
   },
   "source": [
    "1. Como primer paso se deben cargar las librerías que se ocuparan en el desarrollo del código."
   ],
   "id": "OYjQWWynKiAR"
  },
  {
   "cell_type": "code",
   "execution_count": null,
   "metadata": {
    "id": "bd382de1"
   },
   "outputs": [],
   "source": [
    "#Cargar librerías\n",
    "import numpy as np\n",
    "import pandas as pd\n",
    "import os\n",
    "import csv\n",
    "import seaborn as sns\n",
    "import plotly.express as px\n",
    "import plotly.graph_objects as go\n",
    "import matplotlib.pyplot as plt\n",
    "%matplotlib inline"
   ],
   "id": "bd382de1"
  },
  {
   "cell_type": "code",
   "execution_count": null,
   "metadata": {
    "id": "KZlJu_NL66EV"
   },
   "outputs": [],
   "source": [],
   "id": "KZlJu_NL66EV"
  },
  {
   "cell_type": "markdown",
   "metadata": {
    "id": "nugw1f4666nY"
   },
   "source": [],
   "id": "nugw1f4666nY"
  },
  {
   "cell_type": "markdown",
   "metadata": {
    "id": "LzD_sfYRGJ54"
   },
   "source": [],
   "id": "LzD_sfYRGJ54"
  },
  {
   "cell_type": "markdown",
   "metadata": {
    "id": "syA2LeYDIoTZ"
   },
   "source": [
    "2. Después de cargar las librerías que ocuparemos durante el proyecto, se indicará la ruta de acceso de la base de datos que estaremos analizando."
   ],
   "id": "syA2LeYDIoTZ"
  },
  {
   "cell_type": "code",
   "execution_count": null,
   "metadata": {
    "id": "8d75ad99"
   },
   "outputs": [],
   "source": [
    "#Cargar csv con pd.read_csv\n",
    "\n",
    "from google.colab import files\n",
    "archivo = pd.read_csv('/content/ds_salaries.csv')"
   ],
   "id": "8d75ad99"
  },
  {
   "cell_type": "markdown",
   "metadata": {
    "id": "FWrXW850tq7f"
   },
   "source": [],
   "id": "FWrXW850tq7f"
  },
  {
   "cell_type": "markdown",
   "metadata": {
    "id": "f6KQL88qTian"
   },
   "source": [
    "3. Al tener el archivo, se muestra una tabla de contenido de los datos."
   ],
   "id": "f6KQL88qTian"
  },
  {
   "cell_type": "code",
   "execution_count": null,
   "metadata": {
    "id": "mDYdH8s9LHS3"
   },
   "outputs": [],
   "source": [
    "df = pd.read_csv('/content/ds_salaries.csv')\n",
    "df"
   ],
   "id": "mDYdH8s9LHS3"
  },
  {
   "cell_type": "code",
   "execution_count": null,
   "metadata": {
    "id": "527c0209"
   },
   "outputs": [],
   "source": [
    "# Obtener los primeros 5 registros.\n",
    "print('Primeros 5 registros:\\n', df.head(5))"
   ],
   "id": "527c0209"
  },
  {
   "cell_type": "code",
   "execution_count": null,
   "metadata": {
    "id": "af7f56b1"
   },
   "outputs": [],
   "source": [
    "#Obtener los registros y columns de dataframe\n",
    "print('Nombres de columnas:\\n ', [df.columns])\n",
    "print('\\n')\n",
    "print('Cantidad de registros en las filas: ', df.index)"
   ],
   "id": "af7f56b1"
  },
  {
   "cell_type": "markdown",
   "metadata": {
    "id": "npFseridah0f"
   },
   "source": [
    "5.   Descripción de las columnas"
   ],
   "id": "npFseridah0f"
  },
  {
   "cell_type": "markdown",
   "metadata": {
    "id": "_VDssaVXVI2P"
   },
   "source": [
    "Columna  | Descripción\n",
    "-------------------|------------------\n",
    "work_year  |  Año de ingreso\n",
    "nave      | Ubicación por nave de producción\n",
    "area  | Identificación por área del usuario\n",
    "job_title     | Detalle del área\n",
    "salary  |  Sueldo total antes de impuesto\n",
    "salary_currency      | Sueldo promedio por hora\n",
    "salary_in_usd | Sueldo en dolares\n",
    "employee_id     | Código de residencia del usuario\n",
    "remote_zone  | Código remoto de ubicacion\n",
    "company_location     | ubicacion de la compañia\n",
    "company_size |  Tamaño de la compañía    "
   ],
   "id": "_VDssaVXVI2P"
  },
  {
   "cell_type": "markdown",
   "metadata": {
    "id": "8kvRL-WQeXmY"
   },
   "source": [
    "6.   Obtener el conteo de los registros de la base de datos."
   ],
   "id": "8kvRL-WQeXmY"
  },
  {
   "cell_type": "code",
   "execution_count": null,
   "metadata": {
    "id": "518a9202"
   },
   "outputs": [],
   "source": [
    "# Obtener el conteo de registros del Dataframe\n",
    "\n",
    "df.count()"
   ],
   "id": "518a9202"
  },
  {
   "cell_type": "markdown",
   "metadata": {
    "id": "gPl-x4NrfXYP"
   },
   "source": [
    "7. Se valida si existen datos nulos en el DataFrame"
   ],
   "id": "gPl-x4NrfXYP"
  },
  {
   "cell_type": "code",
   "execution_count": null,
   "metadata": {
    "id": "920706b9"
   },
   "outputs": [],
   "source": [
    "# Verificar si existen nulos en la base\n",
    "df.isnull().sum()"
   ],
   "id": "920706b9"
  },
  {
   "cell_type": "markdown",
   "metadata": {
    "id": "Gozl1XPEgLlA"
   },
   "source": [
    "8. Muestra las frecuencias de diferentes categorías. Este tipo de tabla es particularmente útil para comprender la distribución de valores en un conjunto de datos."
   ],
   "id": "Gozl1XPEgLlA"
  },
  {
   "cell_type": "code",
   "execution_count": null,
   "metadata": {
    "id": "e0f9bace"
   },
   "outputs": [],
   "source": [
    "#Generar una frecuencia de la columna \"experience_level\"\n",
    "df.value_counts()"
   ],
   "id": "e0f9bace"
  },
  {
   "cell_type": "markdown",
   "metadata": {
    "id": "SK8WOM8SisJw"
   },
   "source": [
    "9. Información general de los datos\n",
    "- Obtener un describe de dataframe con las columnas como registros.\n",
    "- Indica el numero de filas del dataset\n",
    "- Muestra el numero de datos No Nulos por columna (valores validos)\n",
    "- Tipo de dato de cada columna\n",
    "- Tamaño total del dataframe"
   ],
   "id": "SK8WOM8SisJw"
  },
  {
   "cell_type": "code",
   "execution_count": null,
   "metadata": {
    "id": "73f6bf55"
   },
   "outputs": [],
   "source": [
    "\n",
    "df.info()"
   ],
   "id": "73f6bf55"
  },
  {
   "cell_type": "markdown",
   "metadata": {
    "id": "RGw9SL_XjXQu"
   },
   "source": [
    "10. **MATRIZ DE CORRELACIÓN**\n",
    "- La correlación es una técnica estadística que muestra cómo se relacionan dos variables.\n",
    "- Se utiliza para encontrar la correlación por pares de todas las columnas en el marco de datos.\n",
    "- Cualquier valor na se excluye automáticamente.\n",
    "- Para cualquier columna de tipo de datos no numéricos en el marco de datos, se ignora.\n",
    "\n",
    "Para crear una matriz de correlación usando pandas, se deben seguir estos pasos:\n",
    "\n",
    "1. Obtenga los datos.\n",
    "2. Crea el DataFrame.\n",
    "3. Crea una matriz de correlaciones.\n",
    "4. Se genera una gráfica tipo histograma."
   ],
   "id": "RGw9SL_XjXQu"
  },
  {
   "cell_type": "code",
   "execution_count": null,
   "metadata": {
    "id": "25c0e5a6"
   },
   "outputs": [],
   "source": [
    "# Obtener la matriz de correlaciones del dataframe  (Buscar un ejemplo en google)\n",
    "import seaborn as sb\n",
    "corr = df.corr()\n",
    "sb.heatmap(corr, cmap=\"Blues\", annot=True)"
   ],
   "id": "25c0e5a6"
  },
  {
   "cell_type": "code",
   "execution_count": null,
   "metadata": {
    "id": "raTB7amivh7W"
   },
   "outputs": [],
   "source": [
    "df.describe()"
   ],
   "id": "raTB7amivh7W"
  },
  {
   "cell_type": "code",
   "execution_count": null,
   "metadata": {
    "id": "7477d6e5"
   },
   "outputs": [],
   "source": [
    "#Generar una gráfica de barras de la columna \"employee_id\"\n",
    "df = pd.read_csv('/content/ds_salaries.csv', index_col='employment_type')\n",
    "muestra = df[:10].copy()\n",
    "muestra"
   ],
   "id": "7477d6e5"
  },
  {
   "source": [
    "from matplotlib import pyplot as plt\n",
    "import seaborn as sns\n",
    "muestra.groupby('job_title').size().plot(kind='barh', color=sns.palettes.mpl_palette('Dark2'))\n",
    "plt.gca().spines[['top', 'right',]].set_visible(False)"
   ],
   "cell_type": "code",
   "metadata": {
    "id": "uzrU7sIdsr5E"
   },
   "id": "uzrU7sIdsr5E",
   "execution_count": null,
   "outputs": []
  },
  {
   "cell_type": "code",
   "execution_count": null,
   "metadata": {
    "id": "CrcMZbLKmHK1"
   },
   "outputs": [],
   "source": [],
   "id": "CrcMZbLKmHK1"
  },
  {
   "cell_type": "markdown",
   "metadata": {
    "id": "LVT8hbhuvCQN"
   },
   "source": [],
   "id": "LVT8hbhuvCQN"
  },
  {
   "cell_type": "code",
   "execution_count": null,
   "metadata": {
    "id": "YJ5ttQOqwktV"
   },
   "outputs": [],
   "source": [
    "mean_sal_jobtitle = df.groupby('job_title')['salary_in_usd'].mean().round(2).sort_values(ascending = False)\n",
    "mean_sal_jobtitle"
   ],
   "id": "YJ5ttQOqwktV"
  },
  {
   "cell_type": "code",
   "execution_count": null,
   "metadata": {
    "id": "8FjJFevqyu4F"
   },
   "outputs": [],
   "source": [
    "fig = px.bar(mean_sal_jobtitle, x=mean_sal_jobtitle.index, y=mean_sal_jobtitle.values,\n",
    "             color=mean_sal_jobtitle.index, text=mean_sal_jobtitle.values, title='Salarios por especilidad' )\n",
    "fig.update_traces(width=0.4)\n",
    "fig.update_layout(\n",
    "    xaxis_title=\"Especialidad\",\n",
    "    yaxis_title=\"Salario en dolares\",\n",
    "    font = dict(size=17))\n",
    "fig.show()"
   ],
   "id": "8FjJFevqyu4F"
  },
  {
   "cell_type": "code",
   "execution_count": null,
   "metadata": {
    "id": "agWOvpL0yd2G"
   },
   "outputs": [],
   "source": [
    "# Carga de datos\n",
    "df = pd.read_csv('/content/ds_salaries.csv')"
   ],
   "id": "agWOvpL0yd2G"
  },
  {
   "cell_type": "code",
   "execution_count": null,
   "metadata": {
    "colab": {
     "base_uri": "https://localhost:8080/"
    },
    "id": "7hn0Zd8QyhMl",
    "outputId": "ffd9fccc-52a0-4d07-e229-c38c83090b2b"
   },
   "outputs": [
    {
     "output_type": "stream",
     "name": "stderr",
     "text": [
      "<ipython-input-85-567f6a7f7b40>:4: FutureWarning: The default value of numeric_only in DataFrame.corr is deprecated. In a future version, it will default to False. Select only valid columns or specify the value of numeric_only to silence this warning.\n",
      "  corr_matrix = df.corr(method='pearson')\n"
     ]
    }
   ],
   "source": [
    "# Análisis de correlación de Pearson\n",
    "\n",
    "# Calculamos la matriz de correlación de Pearson\n",
    "corr_matrix = df.corr(method='pearson')\n"
   ],
   "id": "7hn0Zd8QyhMl"
  },
  {
   "cell_type": "code",
   "execution_count": null,
   "metadata": {
    "id": "Z5Ouq4UFykpV"
   },
   "outputs": [],
   "source": [
    "# Imprimimos la matriz de correlación de Pearson\n",
    "print(corr_matrix)"
   ],
   "id": "Z5Ouq4UFykpV"
  },
  {
   "cell_type": "code",
   "execution_count": null,
   "metadata": {
    "id": "ZSXDPQtqyIKp"
   },
   "outputs": [],
   "source": [
    "corr_matrix"
   ],
   "id": "ZSXDPQtqyIKp"
  },
  {
   "cell_type": "code",
   "execution_count": null,
   "metadata": {
    "id": "-Fm9Bv3EyPXm"
   },
   "outputs": [],
   "source": [
    "from matplotlib import pyplot as plt\n",
    "corr_matrix['Unnamed: 0'].plot(kind='hist', bins=20, title='Unnamed: 0')\n",
    "plt.gca().spines[['top', 'right',]].set_visible(False)"
   ],
   "id": "-Fm9Bv3EyPXm"
  },
  {
   "cell_type": "code",
   "execution_count": null,
   "metadata": {
    "id": "J8EwXJPYym7q"
   },
   "outputs": [],
   "source": [
    "# Gráficos proporcionados por pandas\n",
    "\n",
    "# Histograma de la variable 'salary_in_usd'\n",
    "plt.hist(df['salary_in_usd'])\n",
    "plt.xlabel('Salario en USD')\n",
    "plt.ylabel('Frecuencia')\n",
    "plt.title('Histograma de salarios en USD')\n",
    "plt.show()"
   ],
   "id": "J8EwXJPYym7q"
  },
  {
   "cell_type": "code",
   "execution_count": null,
   "metadata": {
    "id": "CrpJppFDyr_i",
    "outputId": "003772d9-9348-4d55-a786-8d042e4290e8",
    "colab": {
     "base_uri": "https://localhost:8080/",
     "height": 211
    }
   },
   "outputs": [
    {
     "output_type": "error",
     "ename": "NameError",
     "evalue": "name 'sns' is not defined",
     "traceback": [
      "\u001B[0;31m---------------------------------------------------------------------------\u001B[0m",
      "\u001B[0;31mNameError\u001B[0m                                 Traceback (most recent call last)",
      "\u001B[0;32m<ipython-input-1-eb87fe83bd58>\u001B[0m in \u001B[0;36m<cell line: 2>\u001B[0;34m()\u001B[0m\n\u001B[1;32m      1\u001B[0m \u001B[0;31m# Diagrama de dispersión entre las variables 'work_year' y 'salary_in_usd'\u001B[0m\u001B[0;34m\u001B[0m\u001B[0;34m\u001B[0m\u001B[0m\n\u001B[0;32m----> 2\u001B[0;31m \u001B[0msns\u001B[0m\u001B[0;34m.\u001B[0m\u001B[0mscatterplot\u001B[0m\u001B[0;34m(\u001B[0m\u001B[0mx\u001B[0m\u001B[0;34m=\u001B[0m\u001B[0;34m'work_year'\u001B[0m\u001B[0;34m,\u001B[0m \u001B[0my\u001B[0m\u001B[0;34m=\u001B[0m\u001B[0;34m'salary_in_usd'\u001B[0m\u001B[0;34m,\u001B[0m \u001B[0mdata\u001B[0m\u001B[0;34m=\u001B[0m\u001B[0mdf\u001B[0m\u001B[0;34m)\u001B[0m\u001B[0;34m\u001B[0m\u001B[0;34m\u001B[0m\u001B[0m\n\u001B[0m\u001B[1;32m      3\u001B[0m \u001B[0mplt\u001B[0m\u001B[0;34m.\u001B[0m\u001B[0mxlabel\u001B[0m\u001B[0;34m(\u001B[0m\u001B[0;34m'Año de trabajo'\u001B[0m\u001B[0;34m)\u001B[0m\u001B[0;34m\u001B[0m\u001B[0;34m\u001B[0m\u001B[0m\n\u001B[1;32m      4\u001B[0m \u001B[0mplt\u001B[0m\u001B[0;34m.\u001B[0m\u001B[0mylabel\u001B[0m\u001B[0;34m(\u001B[0m\u001B[0;34m'Salario en USD'\u001B[0m\u001B[0;34m)\u001B[0m\u001B[0;34m\u001B[0m\u001B[0;34m\u001B[0m\u001B[0m\n\u001B[1;32m      5\u001B[0m \u001B[0mplt\u001B[0m\u001B[0;34m.\u001B[0m\u001B[0mtitle\u001B[0m\u001B[0;34m(\u001B[0m\u001B[0;34m'Diagrama de dispersión entre el año de trabajo y el salario en USD'\u001B[0m\u001B[0;34m)\u001B[0m\u001B[0;34m\u001B[0m\u001B[0;34m\u001B[0m\u001B[0m\n",
      "\u001B[0;31mNameError\u001B[0m: name 'sns' is not defined"
     ]
    }
   ],
   "source": [
    "# Diagrama de dispersión entre las variables 'work_year' y 'salary_in_usd'\n",
    "sns.scatterplot(x='work_year', y='salary_in_usd', data=df)\n",
    "plt.xlabel('Año de trabajo')\n",
    "plt.ylabel('Salario en USD')\n",
    "plt.title('Diagrama de dispersión entre el año de trabajo y el salario en USD')\n",
    "plt.show()"
   ],
   "id": "CrpJppFDyr_i"
  },
  {
   "cell_type": "code",
   "execution_count": null,
   "metadata": {
    "id": "rQSxJkqwyu3q"
   },
   "outputs": [],
   "source": [
    "# Diagrama de caja y bigotes de la variable 'salary_in_usd' por país\n",
    "sns.boxplot(x='employee_residence', y='salary_in_usd', showmeans=True, data=df)\n",
    "plt.xlabel('País de residencia')\n",
    "plt.ylabel('Salario en USD')\n",
    "plt.title('Diagrama de caja y bigotes de salarios en USD por país')\n",
    "plt.xticks(rotation=45)\n",
    "plt.show()"
   ],
   "id": "rQSxJkqwyu3q"
  },
  {
   "cell_type": "code",
   "execution_count": null,
   "metadata": {
    "id": "yDdu0fpzy8Eh"
   },
   "outputs": [],
   "source": [
    "# Gráfico de correlación\n",
    "\n",
    "# Creamos un mapa de calor de la matriz de correlación\n",
    "plt.matshow(corr_matrix, cmap='RdYlGn')\n",
    "plt.title('Matriz de correlación')\n",
    "plt.xlabel('Variables')\n",
    "plt.ylabel('Variables')\n",
    "plt.show()"
   ],
   "id": "yDdu0fpzy8Eh"
  },
  {
   "cell_type": "markdown",
   "metadata": {
    "id": "aIt3KRw3zIys"
   },
   "source": [
    "Interpretación de la matriz de correlación\n",
    "\n",
    "La matriz de correlación muestra la relación lineal entre dos variables. Los valores de correlación se encuentran entre -1 y 1. Un valor de correlación de 1 indica una relación lineal positiva perfecta, un valor de correlación de -1 indica una relación lineal negativa perfecta y un valor de correlación de 0 indica que no hay relación lineal entre las dos variables.\n",
    "\n",
    "En el caso de este conjunto de datos, la variable salary_in_usd tiene una correlación positiva significativa con las variables work_year y experience_level. Esto significa que a medida que aumenta el número de años de trabajo o el nivel de experiencia, también aumenta el salario.\n",
    "\n",
    "La variable salary_in_usd también tiene una correlación negativa significativa con la variable remote_ratio. Esto significa que a medida que aumenta la proporción de trabajo remoto, disminuye el salario.\n",
    "\n",
    "La variable company_size no tiene una correlación significativa con ninguna de las otras variables. Esto significa que el tamaño de la empresa no tiene un impacto significativo en el salario.\n",
    "\n",
    "Gráfico de correlación con pandas\n",
    "\n",
    "Para crear un gráfico de correlación con pandas, podemos usar la función matshow(). Esta función crea un mapa de calor de la matriz de correlación.\n",
    "\n",
    "En el código anterior, creamos un mapa de calor de la matriz de correlación usando la función matshow(). El mapa de calor muestra que la variable salary_in_usd tiene una correlación positiva significativa con las variables work_year y experience_level."
   ],
   "id": "aIt3KRw3zIys"
  },
  {
   "cell_type": "code",
   "execution_count": null,
   "metadata": {
    "id": "L7GRR1fszDVo"
   },
   "outputs": [],
   "source": [],
   "id": "L7GRR1fszDVo"
  },
  {
   "cell_type": "markdown",
   "metadata": {
    "id": "mRc3UmAcq2Oe"
   },
   "source": [
    "#CONCLUSIONES\n",
    "- Después de analizar los datos, se puede determinar las cargas de trabajo por usuario, los salarios de cada uno y con la estadística se pueden hacer proyecciones para los siguientes años."
   ],
   "id": "mRc3UmAcq2Oe"
  },
  {
   "cell_type": "markdown",
   "metadata": {
    "id": "iaYg7dk0s-zt"
   },
   "source": [
    "#REFERENCIAS Y LINKS DE APOYO\n",
    "https://www.codigopiton.com/como-hacer-un-histograma-en-python/\n",
    "https://cursosinformatica.ucm.es/trial/dataviz/\n",
    "https://datacarpentry.org/python-ecology-lesson-es/08-putting-it-all-together/index.html\n",
    "https://es.acervolima.com/como-crear-una-matriz-de-correlacion-usando-pandas/#:~:text=El%20m%C3%A9todo%20de%20Pandas%20dataframe,valor%20na%20se%20excluye%20autom%C3%A1ticamente.\n",
    "https://www.analyticslane.com/2020/12/07/pandas-obtener-el-nombre-de-las-columnas-y-filas-en-pandas/"
   ],
   "id": "iaYg7dk0s-zt"
  }
 ],
 "metadata": {
  "colab": {
   "provenance": []
  },
  "kernelspec": {
   "display_name": "Python 3 (ipykernel)",
   "language": "python",
   "name": "python3"
  },
  "language_info": {
   "codemirror_mode": {
    "name": "ipython",
    "version": 3
   },
   "file_extension": ".py",
   "mimetype": "text/x-python",
   "name": "python",
   "nbconvert_exporter": "python",
   "pygments_lexer": "ipython3",
   "version": "3.9.7"
  }
 },
 "nbformat": 4,
 "nbformat_minor": 5
}
