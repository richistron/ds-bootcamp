{
 "cells": [
  {
   "cell_type": "markdown",
   "metadata": {},
   "source": [
    "# Reto MIS3 Fundamentos de Ciencias de Datos\n",
    "\n",
    "## Reto Número 1.\n",
    "\n",
    "Hola te doy la bienvenida a tu reto, recuerda que:\n",
    "1.\tDebes realizar una copia de este Colab en tu Drive personal.\n",
    "2.\tResuelve el reto en la copia que realizaste.\n",
    "3.\tEnvía la liga pública de tu reto resuelto a través del canal general.\n",
    "\n",
    "Realiza lo siguiente:\n",
    "\n",
    "1) Sube el [archivo](https://drive.google.com/file/d/1wL0-d1yjmJzNItLGf6QmL34X9gtIHL6X/view?usp=sharing) proporcionado a Google Colab (como se muestra en la imagen) y cargalo con la importación de numpy\n",
    "\n",
    "![importar archivos.png](data:image/png;base64,iVBORw0KGgoAAAANSUhEUgAAAYgAAAFJCAIAAAAOlS1gAAAAAXNSR0IArs4c6QAAAARnQU1BAACxjwv8YQUAAAAJcEhZcwAAFiUAABYlAUlSJPAAADjeSURBVHhe7Z1tcBzHnZ/5+T7E/nAfeKmrutuKqrIOLqalVDFibPJ0LOJclmFdQhQvPiQqH0q0DRF1QmwCx8iiViyJK4oKzDuBOFVkQLKCI6hAPFIEYjAQj9A6BrWsEr2QTS8JiauQFCgH54UMeC1RWJGQkH+/zGxPz8vO7M4uhtjfUy1qZ7qnp6en+9nu3sHuuhUAAIgY636aySAgICBEKkBMCAgIkQuYygEAIgfEBACIHBATACByQEwAgMgBMQEAIgfEBACIHBATACByQEwAgMgBMQEAIgfEBACIHBATACByQEwAgMgBMQEAIgfEBEBNyHPkBggIxCT5SaZn5f8N6gGASnmDIzdAQCAmxjuFuc88//WFn963krnHEorXZQovrow/3dtrhr7h8dcmp68vycjVZDH9Ai/S2CW5w87S9DAv9uC5RbknN06b4zm5JZh7bXB3+9atzVu37ujsPXHJSKqxtEh8IDdcWLp0oveRpyevyM264HRFtebmzZsvc+iF3AWCADExvvnjfhLTt078mS6mq0/IFF6k96+zs37rd8aDdb8PWL8O1WdzwztEWfan5R6dxRMP8BTrth+dk7vOsavZf05ukXaPt8dYivWfY2L6o/Xs5Z/sT1sEtJh+ejtPxIh9ZffwL1zcNX9cnE/Jv/boV1QPLl++LMREL+QuEASIaWXyvZ+TlUSYTP2p7qZC2dE4F9PD48wrgrlLxx/dSj140+Np/6JJP065bB/2M0TziyGmdesfec2xIFcGvyISuIpp7uh22tz0+OTiLbnnyonOTZTjg+OGexbHH6RrXb/1m73Dp8aHn+689w52xP7zjmdcmu57YHvP8Sv1HFCuhph+9KMfpTjj4+NyFwgCxLTyp/8rYYqp+X9u18X0VqdM5woX0+PaoGRpsoe6awDR1EpM7bt3f4H+Pe4whskNbl237t6HHyH3uIhp7vj969Z9oXdabEmW0s/2js8Y+c0M3rt+3aanlSRXh9vo0kvmWm3qLqZ8Pk9jpasceoEl8ApodDG9MHPGtJIIZ9/4tu6m/KhM7YyjmFaWTu/W+8Pc9HGx6PP0YKljU8rr05OvTfZ/k5JvfeTlSXo9qcSuLF6ZPNrPj+offu2SOXLxARfTjuHxQ3c6Km/6adr/wPEppic3MbEcdDHZuKUtLYmRmvP8cXGGLtBYpVqam5brcUtz54b7xWrXKeUaec04LNh9cCUta2lp7vzk5Pk5SrGYGx/kOfQfTc+ptWRe0a3FS6cGZU2eY4dUz82bN/mHb3ly0EXO66+/TqMkGjGJBK+88gpt0k4RSzM7kR5rT940tJiWbn38L1/qUK30z//HX77/23dXfnavRUw/377yiUczdhYTnwSt339ebC1deuEBcxVGEGs/LhahxHTJgpGbmDdZuOOBwRmffUqKaS43eC+NjF6wLnktTT5C45qeySXeb92mcldeoEPXb3103NLVyzDdS2M0Oq/ctMAHhoazrg+zwdqzx3u/RkVRuLtz/CpPIAppG+6JUvH5qbjG/uEn2dy5xN3KKhi/okeGxjvvFnGS9V/rnS6zVO8LMSwyEZM4c2mJXtAm6UlGc+gQEQvcCEFMn354dfnivls/vufjk5/9+Ng6Fk5+ljaXf/ZfPrn2okxk5+Yixd56/d+XjuLh5j9+gXL7dPFNmayWPPbGUdVKFA7/gr/R/epli5go/PI5foQjTmJaTO+nbmCMNRbHOqnbbHp43HibXrx0lBln05PTbAf/OGv8Ycpl++Av+CoV7zDiqFj74PQ822R73hxmvWt923FfMz5DTCuLx9v1gc/Sa9Tled/2FBNJwFz8bnt82DKUc2Jpfnr4r9iV7T/nbE+7mFjeX9s/aQyL5l7bT3ND0yx8WHfvoOUzNb409pVBLloxOqP0j4zLK1i89AM2lVz/8KTMkV8Rsemvho2alPW//v7hUD4fFG46ffq0xziIoigBrOSTqsRESmI+UrRiDzdP/eEnv3xFHiC4uUjq0XxkD5Qz5S8PqQEzi9c1K33xlT0yjpjZqbtp6ZqM0uFi+konnyPw8OgD/O3b7JxyBKGNWNKPW2ZYtjUmfpTsfgpXWWcu9TovTDFJDSm6UVRVRkzE4pVTvW388zhi/Z880D/loCdl3Hdvr/nwgQ0HMa3fPWkdudAsmE4mh3h8uHenuob1Zi+bgp4QpxBispmrWRGxEJOtJq/8wBx2hcB7771HwyJSD72tyF0KtJOiKAElk7uAJ5WLafny32gq8QhkGfIRHUVDIVKVFusRPrn6Q3G60GlPPaOJ6UfX5LyLsTili+nKPhmlw8VkYf3n/mL/cfMjc96R2oau8LGQwhhbhOock8l0MVm6n8rSZA+lfMQ6QnOkJCYxJyrpTJ3clReTZOl6evhx8VjA+rajujAXz/Hlm0f5p3Lrt/ofMd15SB3JCbiU7z/Oy7Q0+TAb2xlF1zb5NTbr0kk/qpyFX5FZzyUWxzuppE/az14hdEtJPQS9kLs4bvuBBxWKafmnHZpBvMPNH/8xHUVWKjtQsodbbzwoThoir15/U7PSfz5zSMaZ/N+E7qbfOPVXy1SOf3a+vm1YGerRjIzi3TCNoIlJHOUoiCtD1J0dFrNtKGKSc6IHjvO5DF+jka/9i0kyP/kIW6wxDrfzAZ/GltxhwS6m0qlLiHGQkUx1NH8SShlAWa7RxHIW1yviN852bDXQgIgma9qwyHEn8KYSMf32lZ7Fvn/98Sv/TDOIRyAlVWal4j985v2DGz6Y2C/PHRJdZwc0MX1z6OKjx4pq6B+dGR5PqeHkmZQ83oJ1jWl+nK0MKRM38fHcI6fo/dIJo/dqYnL4UM/gyg/Yx2hBxSRGSdwCfDxiriiXEdPSkm3ZW5Rt92nnMREhL3lKbqoEENP6/YZ+SotKXKnqxK1qMclxWTiI5yrFShP9a76gnXjSMhCBxVS8MPZP3/kdCv7ddOuNb9A8LtAMTgRhJXE6Oq8sQRj88sNf/+4P/5NppTu+/9yX/vr61uSHHqH5wIe/Knwij7dgFRMf7LAlkh8YauKPC201N13QxCQ84nQU76VlP8JnaJ2Wryt9ZfCSuewt8BDTzCDNy/SP8wiepu1lfshcevjpYb0wU49QAkdz2cXksF62NMnEpjwJxVed7uw9z5RqTe9XTA5Xwe+L00Syct544w3xoACNj8Y5ef4QE+3E380FIpiYPv3oN7/63u8JU2huujn+B8sXH/vk6g8/yaeWL/8NyUj65eRn2Gr3z7rkphZOfoZSUno66pNfvkI5UD4iSrUSBTovnV2WIwwOvnlcWOl3Bzr+Xc/bX9pz/Z7Hfq3JSA1DUx/LI3V0MckJXemNnavEOr+jvpZ+fOvn/qJ32uh800/SIduVNGLUoB21cuUo+8jJoZs5oHfaRfYHKHduunu9xWseYqKxFf8QUC/5ozS1urOXf3DK89SWnK4M38+vRUh28Ur6tWnzaQO7mGwf4VHNsE/MrMvSXEl3xJieLB/Y+hWT7SpEIbVV82ohAZ09e/b111+nIRK9JugFbdJOkpRMBHwQTEw0pTJNIYJwEwlFplBg69ynN5B0Pv3waslESrj54z92/NyNctOsJELoE7rPv/wQielfHfiHL3Zf+9J/fW/z9+b+5Infaj4Soa3/xqefyqNs2MVkTOjuNvq/eBj6ju37j05emlucm5kc/I7+NyuLp9gR67+2//hrx/tf5n92K45av3X3C/Iosfbs+0NuW6cVjwVpAzEvMa0sndvPCsrKMM6e/Dw1vH8HW/5WSn5l8D9Qitj2p49bEognIcSz45SBscZsF9Odd29ar1yjqJn1thkWn8TZP1zzK6ZNd2+i+u89MX1lcfHKm8d7LYUMBzFlE2SzWbGTXshd+IPeIAQT0/zjcU0WFMpOskg0mpIo3Hr9z2S0E8U3X9LOQmH+ic/J6JA4cjn1Lwb3frH7Ks3jNn/vl1v2/uqexxc1JYlw6mceTcpJTCQa8eyS2fSvHt/9Ff6JliS2vc8cLQkWJ/lf2DFKK1Zp0YUMYvf2HL/i91lHh07r8FiQp5iIpZlhS8nXf67t6bSl5B9cGuY2kVCC0qUtTT/Jhj9y3uckpu1HL106uls5Pnbv45PWmuHM9FNGto8p/Ypp/5TlL42pkA+8cClEKxFikTuVSn344YdyF4c2aSdFYf3bPwHEdOu9n2umoLD4/J/LaHdo3KRZSczvZLQLlLN2LgpUBhkdEn/1cvqZscX+HxX+7n9/8N9fvfGDM0uDqZvP/1gPMnXVLC3OXTo3OX110b6iLGEPW+r9RRyVnpkL98sHAsHLkKZBjWvJP6CRiPOlLbkVW138phPMpN2vkT8l8IX9Af4q2pEl10JWz+XLlz0enqRYrH/7J4CY7PM4Cn7WfXQrHVtH8zsZ5w7lrJ2LQuizObCaqGLyhj8l4G9lDawFqhLT+//t38o4dz7JpzQrUaCdMtoTyl87I8S0pvAtpulDbBrn+uQUWHMEEJN9blU4+k0Z546jmGRcOSh/7Yx+Zo4NA1/bcsO25hVFfIpJe2wdNABVicmPJiCmmrF46TX+HSmOodxf20aC0teeeMK//OQShkuNRHVTud67ZZw7mMoBAIJSlZgoVLj47fTckwYWvwFoWAKIyflxgRf+o4x2x+lxgc+W/UoT+8yRQuiPCwAAIkgAMRHOD1j+7CUZ7UIFD1h+9Mbfa2ehQGeX0QCANU0wMdlncwvP/NHHr3xm+aLDdxWxP0n5xy84/0nKyc8UXmx9v/duxxGQ45yRAuZxADQIwcT06Ue/+dXD601TCCsJ19w89Yfiu3Q/zf+YfdPu+b80HPRZ/pWVyqCJW8nMpHD0Wx9OJD9+5ycfvXHkt6/89fwTnzOj1EDn9bOeBQBYAwQTE2F+7YlqJe8gv/ZErDRZreQ/hPu1JwCAKBNYTARNqfxbSYRP8ik2sxv/g8qshEkcAA1FJWIign61LvvObzrq19fUmaDP4Of5cgDAWqJCMRGfXP2hZh+PwL7zm3+dwK33fm5/bNIjfPTG34vTAQAah8rFRHz64dVbr/+Z5iAtkJK057w//eg3NDUrO3RafP7PaYQljwEANBJViUlAelq+/DckIPNbcekFbS5ffEz/RTkF0hONhsg+mqEW+r984/8cxoOUADQyIYgJAADCpRHFlO3bEmtKpItyMxD5Y+2xWDIjtywUL472PpeaXZabteV8MmanfYT9IofG3Eg7RbBvFilmT/QOnJkVu+tCYbQzFts+pJ9yOZNsim3pk9+KXQsyB1xq43YlT3fRTlL5hdZIU2qEfmk8MS1n+zezm9o1XpB7guAhpsLEnnjTnolKcg0OE1Pb0MVCYUEJBSfXltpEYaInHu+RBWQXUvuuWxjvYobQWuT5ZDy2pf+C3KoF9RMTuxHO7SFUuJj2pSy3e6FQLPMumGGFi4K8IKbysF6RSB7YEuscrcAhHmKqK6w/+LvTLm2iPmJaKaYSVNBjlvOwEevm/hqOl9aqmA4EPQ/EdNtQTO+Lx/amihf7t8Q6RhfkXoJ31IHUka6NTbIjFd8eTe7cGKfB1V3NHX3pPH93EmJKvT2S2L6BYjZs6xp6W45TTGflnm+xzF/YXTEGCDdyI3tb6RR0aHNHf7riruMppqJZvO2JkTMDRpswGzdrryaGNYq5Y4nWTexyN2zrGJg2pM073mgq2XpXBR2D4BWuOoKPWLc8a3gpn+7vaGZlpUp+LlOQQwDeo8ZSSXYVlXR7RUwsq/aXMum+dlbtTRtbD6TErWQUMkPfbWVn12+HWRvxjTsSo8aHw9ZGMsPq00RWTo2q0V1MrHXFkmdYuxLV2HUkRy2St0YTow7N2qZ62DuSuyH22hq/S54Sl0w0XBohg2WwjUepVWSlwcTE38ATqaLoHuo7Obs3TfGN9/ePTqUz14sr10fam+Kth9KzC4X8hZE922LNhzLG/Y5v2J4cfSdfuJbp3xlnb/6Ks1gLeGeoRb0NtF8MEOik22LxHb3pa4XCXHakpzm2LZlxua9l8BDT3Gh7U6x532huTpbcSFlq3MWFQvbFNpoLZmlGwFtc7sXWWFP70IV8YWE282x7PNY6JHojOxFd756hM+n02xUMMVeKUwlmJrOoF+gtoWXoHf76RiZJFdszkmVFHaJit74ofliK2SR+V+ueI6n0VK6Cs2piijdtJOvNLuRzY4nmWKxjTGQ5O7Q9Ft85RGeXt3KbvJWzx9rjTa29U7NUG6l9zbGmRIrfJq2RFGn2fIY3KKpGnqBm1VhGTFRXybFcXp6UvwtS4RZ4az9DL/g9XpjooobBa7twLd27Ix7fOSKWRPXG75anZyYWXBvhSvF8sjnWvOdYNr+Qz77Iq0g0BpUbmcYSE1/y6BKrLGxCoYxrpD6MKs4ciFvmemwCyA7k9lGGWmzkJWucR4m3ptzQfab1ChMPyQFCYazDbOIMbewQCNbQNWQxss+y68qZbeXtAcOSlsbNSlsayOSG2lu6xoyt5TTlLsvPTmQZWgammE4Yg1BCrfbcc81qnfP6SWbYJrOJoY9K0MSkLLSz2yErQYwLzJnOXGrg0FCGzlmY2NOknF15D9MaCYPVjzmmq1018nunoVyFUlfqOy67dvMCRc2XGsbCaIex0qpfl3ueHpmouDfC3MA2y+0Y7YzFbcKlhtFQYuIfEj1kLE8z1xhv3faOel+s7SWHD7AU+3DYLbSLid45W6TXChNd9G5zke1MP6GcncPuX+mkQWANXV/85kuhrAXHDyl3ulRCDzFpsAat9CjleiuCWV6ci3fy1iOiYm1FLY00LT2qAvSpnOyoDBYlK4GPmHYkR87PWj42YJfcPlo6opjaKw9xqDSv+gmxGvm90xa/xTucplee0klMsyNt2rtgydH6dbnm6ZWJgu3Omo2QvYgrv0/Pe4reDtnhjSQmze7iQ2ujlq33Rm/NJqp9GKVub426NtTKR1hFGk2LeZxoW9Zb6NDQfcI7jzivFbVdckoltBRAP3UhO3qgo/ku+WZMhNSjOGz6xscL7IUxu+FvnjZEq62PmNiSn3HV8Y07kyleMBowiaJY2MlM5XC/tPqpVTU6NB6Jq0QItRodmrRZFfp1uebplYmCeyN8e4Cm0jpNvdbjWcNoIDHNHmmVFaFijGCt96baEZN4N+4az6f3xU33sRHT3pT63pw5ZF0Y9o+nmCzvab7ExErLVgTyonRKwwpFTHygRFMD6wiRnaX1+axlFCDHfWqPqgS/YjIo5nOjbC2JP+3BLjkxkbeUSizF6R2YsNRP7arRcu8s+BUTG+y0yCU8QX50Z1AxeWWiwNI7N0L2onXggrVuxRJYCXZ444iJNZpYz0RerZF075ZYXNwA7d7oa0wXB9ruS6bkGpMfMXEP9iQSTaXZYthrTI5iCrLG1DYi1as1xOXcgLlGFoqYRKk69+zhepK7xIJFu7p0WizIVZh6iKl4vrflvt7Sc7ZmJbCR9Zak+gAuecnh3YvD6yctLqGG1Wi5dxa0k5YkQvBqNH5gsMwaky8xVb3GJBbs1Lf8G7JuVegsDSMmtn4RT0xpbuarDPtYG9Tvjfqp3DujiW2x5gPmp3K+xMRnc7HYfUOl9xe6K9qncncl0qanAsEaussDlsoHIrPnhxw/lSPEo49DbxfydBRvLvGd/el38rMXRvvvZx/lhism/ikBYV0AFkUVH/HM5VKHWuNf7c+yi6iHmFZupBLK2fmISfw9QDFziF6LT+VEHcZp8EsRDmJi17Ulmcrn6W2/htXI753jA5ZeYuLvfE+k8nO8Zdg/UGuT7vAvJo9MLLg2wpX8ifa4/FSOelaKcmh5lt9zlbnRRhETM732eQqHjWt4c7S3OfYgxg7xHFNr13OW55hKLcxDTNx61nEvW9QI7zkmG0b5yz3HxClmB0TPOcEPujYqLja+qb1/KjNC4/Mn+FttWGLis2Nt7Z9hPhQT29D63QGjQuoiJkI5e3OHXGPilB5HogpJjsmneBzEtJKfeLiF1ZtY661VNfJ7Z4NVkZeYqHB7WtjTW8YijtdzTP7ExLZCe45J7VkajbT4DQC4TYCYAACRA2ICAEQOiAkAEDkgJgBA5ICYAACRA2ICAEQOiAkAEDkgJgBA5ICYAACRA2ICAEQOiAkAEDnWXQYAgIiBERMAoB6QbuQrH0BMAIB6ADEBACIHxAQAiBwQEwAgckBMAIDIATEBACIHxAQAiBwQEwAgckBMAIDIATEBACIHxAQAiBwQEwAgckBMAIDIATEBACIHxAQAiBwQEwAgckBMAIDIATEBACIHxATAmuLs2bM9PT3tAaFD6ECZhQ/m5+flK3f8pHEDYgJgTSFNUxEyi3IMDg52dna+++67ctsJiqU0lFJuBwRiAmBNQX556qmn5IYTwkGOyBSe0Dho165dlNjDTcJKlIZSVjZugpgAWFOQDmoqJoK84+Em1Upu5ioLxATAmoKMUGsxEW5uCsVKBMQEwJqCpOAtJoq1IywjU/jD7qawrERATACsKcqKyRE6JKiYCNVNZ8+eDctKRMhimp+fP3nyZCaTEa/f8sGNGzfEsbcfNwrFZfkSgIhQTzERppsEoViJCFlMfX19VDgSJ70mQ4myejMzMyOODYFrIx33tbTc19KbLso9lZOfeJiyGmCKdaKYTm6IxeJtI7NyBwCRgPpUPcVE0FiJd2VGoIehPAhZTKKIpCd6TcYhN5WlmqewNGaPtMYEe1NVmyk/0k4ZJd3ElD/BomNNvW4JAFgVqAPWecQkZnACeh3FEdNqspzt30ymaGvbTsLoGF2QuyuljJhWlgu58+nsnNwCICKQHeomJtNKNIOjQYm53lS9m9aQmC70b6G51b507hgzSvuxvNwvKBYKC3xJiAslPZWZNcdUxdnsFO1Jp8/nCqU1I0VMC7kMS5DJqbJbLlKGBb4+RnnLzFX4GUUCQfFalp1lKp29bhvPLRdnL/AyTGVnb9s1NxAF6iYm1UrCRPRvWG4KX0w0g1uN9exiel+cvJQ8v7Iyx5WyfUhd/clzWyVfmtizjf5PtI+wwU4xd6Rjg9ghaGrtny6II4SYRk6oCTZ0nDByFWc5wMSV7SMlxlqPqCcU5Yl1jPHc8un++y3n2dA5lDMrKZ9KfpUlNtjQ9ly2+kUy0JjUR0x2KwnCclPIYjp69CiVqaenh16frOfidzGVoB69uT/Lhi2F0U7a2NJ/UcQxhJjiTfEN9ydHzqRTx4bSebZOxHxwV1v/GButjD7X0Uyb0llCTETzniMpFtvXxtXSNSHEpYhp5doQW9ySZ+cUJrpoT1OCrcIXM73MhvGWhwZG2ZhoVEgqvnNklqWXSm1/MZtfKOTfSfXuiMc3dU1gkggqgvpUrcXkZiVBKG6qiZi6u7vpdT3FVBjroK6+pS8rN8eZFsxNQoiJhlE50x3FdKKJ3NE+cl3uIAoTvcmxbJ4NV6SY2l8yx0FyEMQGZYQqJlOFF/iWtTxiSb75QKY0CFoupPYyGSWmaF9+dCfFtwy8LSNXtCkhAEGgPlVTMc3Pz3tYSaC6KSp/K7caUzkhkY29U3xZh8L10dKARaSwLzxN9zLNPJGWmzoiTzF6ksj5oIOYVopTCWaafeKEs0NsAb516Bq9Lkw8RK/bVP0xxIrYIXY4aZSVpGlj+96BkTPZ0uIXAMEhHVSMzKIcg4ODHlYSCDc19rcLiJmUA2JIwrA4RXA+SXuan8/JTR25xiTFw/EQk/xMUEz0uHRinaNieYmn25PSXG09PJ8e6NqxkemJgTUmUDlnz56lKYs0jW/okECPIPkZB1XzJNBaEFPuxRbqzc0dyd5DvaXwcCvr59IOTmK6yPXh+sRTQDEZU7aOsTxfCzedKEZMLUPv8C2T80k2wuIjphLLxdnzQ3vYQnh8j1zKAqARCVlM4gHLw4cP0+s6PWAphypi3qSwnEk2MVGIB5ocxGQc2H+hpKbZlzpavzuQZhO+wGJaWRhlC0vbWlrovMpCuJipGUvdnOXZIXYwX5NaLmTHku0PKbFTbB3f+hkfAI1FyGISf5JCc0t6TdLhg8QyVLv4zYcesfYR62NLDPVTfAcxrawUzyf5x3Ab2vayQVbyoRaW1V2JNJt2BReTsTpOWLSyPDuyk+2Pf7UryUZziba7WBpjOTw/ymPFx4XpsYEO9hHeluR5TOZA4xKymG7cuEE+Eq6hoRC9KEt1K+XWx4U0xGTtvoHcsrOYiHy6X2hCsOH+fj5cYjHBxWSsLtmfO1+eHd3bWnqQqWlje186bw6RbmQHdpoLTBTbsmcMwyXQ0KyJxe+qKYrP8go1HqSIZ8Htz4gLbnjGAtBIkJj8s2bFBACIFKQb+coHEBMAoB5ATACAyAExAQAiB8Qk+fXv3+EYZDQAoI5ATK5K0oJMDQCoPY0rJs07PoM8GABQSxpUTJpuAgWZBQCgZjSimDTRVBZkXgCAGtBYYtLkogWZSEFLoAWZCAAQNg0kJk0rZpDRnmiHmEFGAwBCpdHFJON8oB1oBhkNAAiPRhGTZhMRZFwQtBwoyAgAQHg0hJg0lYgg44Kj5UNBRgAAQmLti0mTiAgyrlK03CjICABAGDSimGREFWgZUpARAIAwWONi0vRBQUZUjZYtBRkBAKgaiKlyapczAA1OY4lJ7g0JLXMKMgIAUB1rWUyaNSjIiPCodf4ANCYNJCa5N1TqcAoAGpA1KyZNGRRkBOfVV1/99re//RfuXLx4USb1RDsFBRkBAKiCRhGT3Msh6chfcHNnw4YNlblJ7gW1J5PJVPejhCC6NKKY/vZv/5bU86UvfYle2Onu7g7kJo8T+Wd+fv706dP8J9MtUN+TKVaPaJZN/Bj9Y489BjetSRpXTF//+tfltpVz584JMRF+3ORxIp+IPuYGxcp0q0Fky/buu+/u2rWLyqC6iVx59OjRgwcP0k4RRa9pz/T0tEgAbhfWppg0WVCQERz/YiLKukk7EQUZ4Zu+vj7ezV2hActb7shcakOUy2Z3k4dGe3p6aJQnDgTRpyHEJPcaBBITEdRNcq9vnnrqKdl7KqKzs5O6qMwrbKJcNiKQmwjSU03LA8ICYtKxi4nwdpP36cpSZecnaLYi8wobn2WjZILu7m65y6B2ZSNUDZluUtVDkzsqlUxhsIozUOATiEnHUUwEHSVT2PA+XVlEz6lsokFH0bGUg9wOG3uvtkNGkKn5SrkYwpjUrmz2wZHpJo3BwUGZwgBuijgQk06hUCA3qdx7770QkxukIer2MzMz8gCjSCY1KhudUZ7Aijpu6uvrM0dP9gvBnC7KQEzloZQQkxui2GoByAvqoKlGZUskEvIEBlQSx/UmISCa0/FUJdSBHogaEJOFY8eOyVcKURYTDRzowNpNTLzF1N3dLRRA3V4tgzrJqoWY1PxNaD85yO4mGjfxg1ZEMpXa1RuoEoiphHi0sqenR24bRFBM1OvUmQgdq06mQsRbTGrHpv4vXCAwRzS1EJNjqbQodU4nosR+lVqUDYQCxCQxH/gmNDdFSkw0Nuns7BT9ihgcHKTuRy8qG3CVxVEBAq1X06ZaBnMNqBad323ERKgPXpluEsi9ChgxRRaIiaFaSaC6KTpiEp8uUWnpBaUXoxLhqfqLSR2ymRqan5+XuwxH1EJMhH2NiZRN+6lUcpujjpvkLgPKgecEokgNxURNgXqLoM5/E+BtCk1MppU+//nPixcC000REZNYvqXEoqeRAugQ6ni8l9VbTGRGmYJDdSgjbNRITHbRHDx40IwiJ9J5HdfCTSiZSA8iSE3ERO3g8OHD8v4bUD+v0TqIHc0UFGQERxPTsWPHaJO6lrlfqMpcCPcWk3YiCjLCNz7FJHqaOTcxBymCOotJDE8EdGq3O0v+qpGYCPuETtMlqcfNTZjERZzwxUQtQLyNU/c+ffo0NVlqxObMf7XcJPdyNDER586do3/V/WKPIJCY5N4g+BQTpVGfoqZ6pso0UedQIeImJnN4QsWgmytea1CRaJpZOzERdjdRwdThOdWq2K+6CVaKPuGLSTQFaqyiHZiImQiNm7T9NcLDF3YxCdz2R0dMNe3kjriJiSAbUgIapLg5saZrTCY0LPKYSKqYbgLRJ3wx0eBZnXGoUCOm9lGf9ysPX0RNTKIDk7Lp3d4R4SyqVXVJ3oTqk9IITYSOOdS1Q/2cCkZFon/t0OBOJNOmV7WAGhud0Y+e4KbbhZDFRN2Dbr/bm6QYNFEbktu1RPMFBRnhLiCavlGU/RlLDzFpp6AgI4JAZuG9xgux1E0vtNoT0yVyltwOGz9l80Zdjao1dC4SIjU/8Zkd/UuvaQ81S/t6E4gyNRGT25ukd2zouClDiGnz5s30wg+U0qeY5N7gkF8cvyXSRAyIRH87fPjw9PT0W2+9RfvFswI1HYSWLZsHkfrkC266jQhZTNSIxY2X21aofVMstVe5XWPcrEEjIxJNUBy/9sTtFDWCupM2t6L5Sz2HJLc7pptQaREn/DUmsVxqv/HUqXp6eiiK5CV31R43cbz66qvf+ta3aI7mB0pJ6eWRClrmFGREjTGHMGIYBQJBbqrPKieohvDFJOZrNMWgziN38dZAwyjaX7d5nEATBwUZEQa1yxmABid8MRHmiinp6eDBg2KgRNC8g/RUz/crzR0UZETVaNlSkBEAgKqpiZgImm709fWJ+TyRSCTIRzRuEpu3u5u0DCnICABAGNRKTG6Yg6m6uUkziAgyrlK03CjICABAGNRbTMTt7iYtHwoyAgAQEqsgJiIKbpIRAdEyoSAjAADhsTpiIjKZTHd397t1fABPE4oIMs4H2oFmkNEAgPBYNTHVH00oZpDRnmiHmEFGAwBCpYHERGha0YJMpKAl0IJMBAAIm8YSE6HJpeIgswMA1ICGE5NAs0ygILMAANSMBhUToenGZ5AHAwBqyW0vJrqAatC84xHkAQAA38heGpxAx66pEZOGpiEzyGgAQB2BmAAAkQNiAgBEDogJABA5IKbAbN5yDwICwioG2RUNICaGvV4AAHUDYnIGYgJgFYGYnIGYAFhFqAN+4xvf+DcKEBMDYgJgFREdcOfOnfKH1WIxiIkBMQGwipgd8MEHH4SYSkBMAKwiagd86KGHICYJxATAKqJ1wO7uboiJATEBsIrYOyDExICYAFhFGktMMzMzb1lx+6EEiAmAVaSBxPTUU0+Jn5PScPx1KYgJgFWkgcQkPeTE0aNHT1qpg5iyffds7ntTbtSS9089uHnL97Nyyz9vPrPlnt2n5uQWWGXmTnXXqcFEAYjJmSBiYh2Y0hvhwVPvywhvyojp/dHdW+55JrhO7EBM/qm0rupABMTk2iZ52bpH/TV8XzS0mGhktGvXLrlhxa+Yst+nlOqtyvZBTLcx4YmJ1V4ot88gumJilRaqlYjGFZNYWnr33Xcd3eRPTFW1FUzl1jRrUUyOMFuFP8ZsUDGpC96ObvInpqq6LsS0pmkcMc2FO1YSNKKY7B/D2d3kT0xcLm59ns3yrNM660hYionvpNOxoI6HHRPzmaPLGXnDdcrKW0w81jxQLbBFTNYCmClZGrnH2mfcs+WU8rHGetUGS8YrXATrFVkyVI0gBVE6UGSrpFf1Ya8r9UJUTdtvn6WujJ0sKDVjrRbXmyKwnvpNu5jUE6lXoWOpHMtJXXNwPMTaJhlu95Eoe8s8ofTylcFaFhPZx/HhAEJzk71eXJA902Fkwe6Z/VaV7iu7Yd0P7i51P56VuemY2NouLWS/r5SBZ2Uktnc2hTefUfo/b0NmSpaJ3tlknlyCVB7zAnlpLQVwzVb2N/PS3j/1fZkJb+XGfnEKS224xrJNLX+z5uUNkgeKcnaX1kSsifW6spTceo2yQswyWApPsPMqm4R459Ayt7YQBWuliWNVMVlrQD+7grUdZvuseTrm4HaIvU3qVaeUocwtKwMdKF8ZNMRU7qmnnpJ7V1ZOnjwp9yrY68UD2UY1PVnvLsPhvpaaKUNNUDaxJ6yVWPqev2PZSc0y28WkZMLbsXq9LIFbs1OztV6XAm+4qnlttVGmekuoUuBiUrLlF6IeaLlMS13ZiqrG2u6IVn6bmFiBtbtgu2QTtcYk1guxXb5b/astwYJ7Dq6H6HdEr39LGYLdMh2IKQQxCXhL9Wo6WkNn6fVGqXQSe2LHtmJFlkEG2Q3Ki4kVtXSgcVJLj9VLay0e4VBCp2xdC+PQ0LXa8KpMBt9jns4ouS4IWwEsl6nGOvRP5Z7ab5+1BvTz2tMTbrXhcGqrxey5uWUl74Lt1F45uByi1rlTCcWBxm3yc8vcoQLIVwYQE8NeL77gd1RWvXqTBNYb49RSta7ondgCb1WlNGozdW2yBD9LKdZyUkuP1Qtga2QsgdlS3bO1JFMRncEW/ImJFVWpbbXkuiBstWG5TDWWFdVaGB7kWex3xHpp2nmdB0dut8apltQc+Gu9YBQcsmLI26EmKJeDwyFyp9d9hJgqQCqH09PTQz4SHDx4UO5VsNeLP5TWU+7G2Fu2pTWXT6xgu+X+xGTrLZZ8LD1WL4DtjEpL9cqWFcZRTCyNtbpU7LFKnrZOopZcE4S9NiyXqdebY1E59jtiLYZ+Xnt6wu3WOJ3aUquOuZVDyEhWo78cLIeUv48QUwVI5fijGjHJVm67DbwVlvawlqE1Sv2+WhN7NCP9XKI9KR3MqfVrbZ2wljA0MVmytQ8kJZbT6bDTubZy5dQcPviqXkzuRWXY74i1GGXPS+gVVcJ+an69ZmKn3PxQKpXvHJQLUW+6U+VYasDzlpXF3gHXrJjc/ojXEXu9OEH3zHJr2Y0p7bHYQTYs5cbwxEq7tLY87S7au4EV1nqsrdaPmKwF1kvI8qxITN7ZithSkzU/lRPFVvKcO9Xnq5XzA81YXhWhiEm7g8T7o8+4VYi1Bpyko+dmqSUdLbHYVDPkl2nVsXqZJqUPPQmLTVxzcD3EetNt91G9CyKxsklYD/eGLla+MlizYiJmfGOvFydkHygF9TYzlAQUZb+vfW+K3iiC2T0YTonlhiM8vZmP2sFsXVHFaPEU9BJaeqxeAFsjYwlKl++RLUO9akulsW5g7FcPYTl4tXLeSUSgK1VLzl7bTq3WhuUy7XWl5Cwyl9jviLUGlGtRkllyUxM7oNQhu3a+aTmjmsA1N0tVa3XokoPrId73UWtj5W6ZN5ShfGXgS0zz8/OnT592eybIhBKcPHnS7TuPooy9XgAAdaMSMdGAgiY7iUSCXshdLpC/+vr6KHHZlFEDYgJgFalETGKxxqdrhMXUj+dvCyAmAFaRcMR048aNt956i2Zt9EJsqjM4iAkAEIgQxEQa2rVrV3d3N+0cHByk6VtnZ6cqI4gJABCIcEZMBPmIdpKSHnvssbNnz2YyGdojoiAmAEAgKheTmLWpiL/O7+vrk9sGEBMAIBCBxUQ+omEROUhuK4gP4GisJLcNKDEdYhdZlIGYAFhFgomJpm9iLcn+BBN5hyZxFHX06FG5y4AS0346UJv9RRmICYBVpJIRE42Aenp65LYB+SiRSJizNvWhSkpPYMQEAPBJYDERYo1JvKZBEA2ICLISqYf2E2JgZZqI9mCNCQDgn2rFJF7TgEgMkcQyE6GuNNFmRMRExhS/DG7i9ucyEBMAq0i1YiIBqc9S0gva1NaSIiImUWw7NNyTKW4LzidjsfYR5a99KyZzIBY7oH9SYSND50uelxsAhMjly5flKx8EE5MfKHEUxMQt5Iz9J8IFp0+fjtzSGMQE1go1EZPbJEiDRk+UOBQxTU5OfvTRR3IjOFxBgXnsscfk8U7Mnkm2b4rHYrH4ptbEsVxR7l4pvj2S2LGRRdzV3PFcprAsdudH2mPtR9Kje1s3NsViTRvb+9L55ULmuY7muyjphuaOgazUINfBWLp/p8hEyVwT043ciJFb697RWXkiF5bz6b5289SjTyhiYlGiGPGNOxKj19i+/LF22jZIyqT5dH9H8wba4eeMALgTspiEaw4fPmw+2+0GyUs8Q6BN7iqDxPTkk09W7CbumUqQx9soTiXisebEmdnCQj43lmiOxbvGCyzinaHWWLz9xWx+oTB7vr+9KdZ6ZJYfwcQUa2pJjuXy8pBY87aW1kOp3Fwhf2Gka3Msvi/NBcTEFLurY+A8ZT6bPtQaj8UTKR6jiml5dmRnPL6jN32tULiWSmyLxfeKRI4UM4eaY03t/aU8TTEVU3vjsW2JFOUzlxvdR8kSrBzFQmEhlYjFEmfoBc/4RirRFGvel5pdKOTfGWVnlAUGIDAhi4kQa0llV2coASUr6y+fkJhIExW7SVimAuTxNthUqH0kL7eK2RO9vRNMQLkj7S3fHTX2r6RpYCKTMTG1PJ/ju4nCxEOx2H1D5nbuxZbY5n7+RVpMTNJEDC4OkYkipsLEnnisY3SBvWZc6N9iOstOYaLLtBujmOoxxFRIJe9r6Z/mu4nrI22l6ZtlKkcJW+7rzxijpNmXWMKys0EAHAlfTKuCEBNRmZvEsRUgj7chRkwdz9F4x2vQoPiLT+WOmcrS1CamTqKf6ys7hfEuGaWIiR2+s2RAUg2NblzXg/iBSmr3NaY5NrBzFJOGUmAAArPWxERU4CZ5ZHDk8U7k0wNdci2pteuIsZa0XMiOJTu2sXUYSdVi4lrhw52SmAoTNOSx0X5CcY8KO9AiEYuY5tID3+VrVQZuYspPGZcsgZhAhUBMDHlkcOTxHiwXxVpS83NsWjZ7pDW2LTH6Tr7IPcV0U7WY8ieMKG3EtHciv1AoqMFt9MYO7Jrgi2CCkpiK6URTvP3ZzKy69O4kJjZI5KtU4tLssgPAP5jKMcSxFSCP15kdfail45hY1WYYluEr3MoUKfd8S2ViKr/GNNYR25xMK88zkJjkKzsea0xKnowbqT2amNLitV7g4hmWEGIClbGmxBSdxe/ci62xptbeqVnSgfrpW7ZvC/vwayqXv5Yd7WtjM7qKxBTbtmeIf4KWebbd+VO5YqZ3W0x+KkfJjuxpbuqaKGWvoXwqN5dLqZ/KLYx2xGLN+0ay1/K5qaE9X2Uxhpiy/ZtjW55I5efYUIypMNacOJadnculj+xpYVM/iAlUyNoRU8VWIqRmgiOPd6CYO5ZoNZ5jUtaYZtUnlTIvMd2kWVTAqZz6HNOYMTTTRzfGc0yx+MadydG33SZyHPfnmArTA2JRbMP2xMjFVLIp1vaSPGN+gguoqZclVZ66at07kj2TjMfaRq6LhAAEY+2IqWIrEVIzwZHH1xXLyk4w+GdqNjCuAZFjjYipSqRmgiOPrytViGm5WFoILwXPkRQAqwHExHD7I15vVumv/KoQEwC3CRCTZCY48kgAQNjUUEy//v077EHGAQCAOyGLSdOQd5DHAACAlXDEpBknaJC5AAAAJwQxaZapOMjsAAANT1Vi0sxSfZD5AgAam8rFpDnFHmQ6K1oaxyCTAgAalUrEpHlECyJNWbSjtCATAQAaksBi0gyiBpEoKFomZpDRAIDGIxwxieiK0XIzg4wGADQYwcSkiUMEGVkdWp5mkNH1Yn5+Xv7cpZWwvpscAOCHqsQkd4eHlj8FGVEXBgcH5V/B2ejs7PT5m1QAgOqpSkz/9J3foSAjQ0I7BQUZUWNoTCQlZKOvr2/Xrl1RcVMhl+pr73L79m4A1gSVi0lYKXQxEepZRJARtWSG/yKeIyf5D53XyE3K136XYyE7eoB/6WXM8pVyGj4zDHBeAOpOhWKijYYSEyUw3ZTJhPnFar4FkR9p519EeWEiATGBtU4lYhIbtRMTYSrJDDKiZpQVEyHcRHvK/pwn7/YDqSNdG5sMiTj8YDf/9m4DwzWl7+TdsK2jP22qo1iQPybAjnIRky3DC/3NsS1J4wdx8yfa2e8WXHc8LwARIrCY5Msai4lQrSSCjKgNfsREmG7yntMxMTXFN97fPzqVzlwvuv1gd3GhkH2xLdY2lF2Qv62UfbbZ+BWDfPbYnuZYc/K89g2THmKyZ8h/ZWBbf5Y8yH/Cu/VF9itS9vMCECkgJomHmHp6eg4q0CbtpPTySCeYmDZzHXA8frDbMqViP0mi/owS/1UV+cvgJl5iIvQ52o10cjOln2XKE4bi6MkAiBLBxCT/z6m1mAhNTBRkRA3wEJMj5cWkdHv2kycuP9htSZkm51h+eHLlYklhBgHFxM8Wb4rHY8290yXlQUwgykRaTMSaEJPXD3arKdlr7TdL2O+aVCumleXswJdjsR1DpV/ghJhAtIGYJDUfMbn8YLclJRsxqTO5lZXpXrZcXZ2Y2Jr35ubmJsskEWICUeY2ExMFGRE2NRWTxw92s5RtI3IsE9Yak5khsTDR1RTvGs+zHwdWyqAnAyBKRF1MxBoQk8cPdhfGu8gzQ28X8nwEZftUbkNiSh1BETYxzaWS301MGKMqa4bF1N54bPtQbplN6Pq3xZoPZUR22nkBiBQQk6S2YiLcfrC7mB24nz3OLZacaNvlOSYTm5jeHmiONfdflFtqhsV0cosSxVbBzU39vABEiNtATEQd3BSumAAA1QAxSSAmAKIDxCSBmACIDiGL6bev9Jj7zVA4+i0ZXSl1EJPH1544gq+OA6B2hCmm5V9fM3dq4f3euz9+5yeOQR5cjjq4yeOL4jQopTwGAFADwhTTx7mfmDv9B3KWPN6TOoiJoHEQzdG8wVgJgFoTvpjmH49/MLHfZ6DEdMit934us3CnPmICAESB8MW00P9lue0DSkyH0IFy2x2ICYDGAWICAEQOiAkAEDkgJgBA5ICYAACRA2ICAEQOiAkAEDkgJgBA5AhTTOJPUn71vd9b+Lsv+wyUmA6hA2UW7kBMADQOYYqJcPwjXu9Ah8iDPYGYAGgcQhZTjYCVAGgoICYAQOSAmAAAkQNiAgBEjttATLASAI0GxAQAiBxRF5NmJQoyAgCwdrnNxCT3AgDWNBATACByRFpMmpUoyAgAwJommJhUNdRaTKqPRJARAIC1DsQEAIgcgcVkCqKmYjJlZAYZAQBoACoRk9BE7cRknkUNMg4A0ADcHmKSEQCAxqBCMVGokZjUU4ggIwAADUPlYqqFMrT8RZBxAICGoSoxiSAjq0bLVgQZBwBoJEIQEwUZXylabmaQ0QCABiOYmOg/zR1qEImComViBhkNAGg8AouJ0AyiBZGmLNpRWpCJAAANSSViIjSP2INM54SW0h5kOgBAo1KhmASaUKoPMl8AQGNTlZgIzSzVBJkjAKDhqVZMAk0xQYPMBQAAOOGIyUQzjneQxwAAgJWQxWSiOUgNMgUAALhQKzEBAEDFQEwAgMgBMQEAIgfEBACIHBATACByQEwAgMgBMQEAIgfEBACIHBATACByQEwAgMgBMQEAIgfEBACIHBATACByQEwAgMgBMQEAIgfEBACIHBATACByQEwAgMgBMQEAIgfEBACIHBATACByQEwAgMgBMQEAIgfEBACIHBATACByQEwAgMgBMQEAIgfEBACIHBATACByQEwAgMgBMQEAIkcAMa2s/H+snAZlnDKKDwAAAABJRU5ErkJggg==)\n",
    "\n",
    "2) Examina de qué tipo arreglo es y su dimensión.\n",
    "\n",
    "3) De la primera columna, usa toda las funciones de agregación vistas en clase: sum, min, cumsum, etc.\n",
    "\n",
    "Tip: Para seleccionar el primer arreglo de un arreglo 2D , se usa: A[:,0], donde \":\" significa tomar todos los elementos del arreglo y el segundo parámetro significa que sea del primer arreglo. Recordando que el conteo siempre inicia desde 0, por lo tanto 0 es el primer elemento y 1 es el segundo, y así sucesivamente.\n",
    "\n",
    "¡Cuidado! Revisa como se usa correctamente la función de mediana [ejemplo](https://numpy.org/doc/stable/reference/generated/numpy.median.html)"
   ]
  },
  {
   "cell_type": "markdown",
   "metadata": {
    "id": "yr6ywp_x7Lt-"
   },
   "source": []
  },
  {
   "cell_type": "code",
   "execution_count": 1,
   "metadata": {
    "ExecuteTime": {
     "end_time": "2024-12-19T04:10:31.667561Z",
     "start_time": "2024-12-19T04:10:31.662654Z"
    },
    "id": "EHDglZwc-xCB"
   },
   "outputs": [],
   "source": [
    "# importa la librería de Numpy"
   ]
  },
  {
   "cell_type": "code",
   "execution_count": null,
   "metadata": {
    "id": "Q2gyqGwMBtkB"
   },
   "outputs": [],
   "source": [
    "# 1)\n",
    "arr1 = np.genfromtxt(\"reto1.txt\",delimiter=\"\")"
   ]
  },
  {
   "cell_type": "code",
   "execution_count": null,
   "metadata": {
    "colab": {
     "base_uri": "https://localhost:8080/"
    },
    "id": "xC85AC26CAtI",
    "outputId": "69a7e6f7-a463-48ed-cd34-392d8f265dc0"
   },
   "outputs": [
    {
     "name": "stdout",
     "output_type": "stream",
     "text": [
      "<class 'numpy.ndarray'>\n",
      "54\n"
     ]
    }
   ],
   "source": [
    "#2) Imprime la clase de arr1 y las dimensiones\n",
    "print(type(___))\n",
    "print(arr1.___)"
   ]
  },
  {
   "cell_type": "code",
   "execution_count": null,
   "metadata": {
    "id": "Oe16Wgc-C2SQ"
   },
   "outputs": [],
   "source": [
    "#3) Obten el mínimo, el máximo y la mediana.\n",
    "# Tip: observa cómo están realizandos los demás...\n",
    "a = arr1[:,0].sum()\n",
    "print(a)\n",
    "\n",
    "b = _____\n",
    "print(b)\n",
    "\n",
    "c = _____\n",
    "print(c)\n",
    "\n",
    "d = arr1[:,0].cumsum()\n",
    "print(d)\n",
    "\n",
    "e = arr1[:,0].mean()\n",
    "print(e)\n",
    "#\n",
    "f = np.median(_____)\n",
    "print(f)\n",
    "\n",
    "g = arr1[:,0].std()\n",
    "print(g)"
   ]
  },
  {
   "cell_type": "markdown",
   "metadata": {
    "id": "BYf5EHImGxzN"
   },
   "source": [
    "## Reto Número 2.\n",
    "\n",
    "1) Utiliza el arreglo de numpy para crear el dataframe por medio de un diccionario (La primer columna se nombrara \"A\", la segunda \"B\" y la tercera \"C\")\n",
    "\n",
    "2) Utiliza los mismos métodos utilizados de numpy pero en pandas para la columna A y observa si dieron los mismos resultados."
   ]
  },
  {
   "cell_type": "code",
   "execution_count": null,
   "metadata": {
    "id": "NGWEsoo1IZke"
   },
   "outputs": [],
   "source": [
    "# 1\n",
    "import pandas as pd\n",
    "\n",
    "dic ={\"A\": _____,\n",
    "     \"B\": ____,\n",
    "     \"C\": ____}\n",
    "\n",
    "df = pd.DataFrame(dic)\n",
    "\n",
    "df.head()"
   ]
  },
  {
   "cell_type": "code",
   "execution_count": null,
   "metadata": {
    "id": "xDaSM5fHI6Fc"
   },
   "outputs": [],
   "source": [
    "#2)\n",
    "#Suma\n",
    "a = ____\n",
    "print(a)\n",
    "\n",
    "#Mínimo\n",
    "b = ____\n",
    "print(b)\n",
    "\n",
    "#Máximo\n",
    "c = ____\n",
    "print(c)\n",
    "\n",
    "d = df.A.cumsum()\n",
    "print(d)\n",
    "\n",
    "e = df.A.mean()\n",
    "print(e)\n",
    "\n",
    "#Mediana\n",
    "f = ____\n",
    "print(f)\n",
    "\n",
    "#Desviación Estándar\n",
    "g = ____\n",
    "print(g)"
   ]
  },
  {
   "cell_type": "markdown",
   "metadata": {
    "id": "rbwt-Mv_ZZhx"
   },
   "source": [
    "# Reto Alto Nivel (Opcional)\n",
    "\n",
    "El usa el siguiente archivo para complementar lo siguiente [titanic.csv](https://github.com/asalber/asalber.github.io/blob/master/docencia/python/ejercicios/soluciones/pandas/titanic.csv)\n",
    "\n",
    "1. Crea un DataFrame con los datos prorcionados.\n",
    "2. Muestra las dimensiones del DataFrame.\n",
    "3. Muestra los datos que contiene.\n",
    "4. Muestra los nombres de sus columnas y filas.\n",
    "5. Muestra las primeras 10 filas y las 10 últimas filas.\n",
    "6. Muestra las filas pares del DataFrame.\n",
    "7. Muestra los nombres de las personas que iban en segunda clase ordenadas alfabéticamente.\n",
    "8. Muestra el porcentaje de personas que sobrevivieron y murieron.\n",
    "9. Muestra el porcentaje de personas que sobrevivieron en cada clase.\n",
    "10. Elimina del DataFrame los pasajeros con edad desconocida.\n",
    "11. Muestra la edad media de las mujeres que viajaban en cada clase.\n",
    "12. Muestra por pantalla el porcentaje de menores y mayores de edad que sobrevivieron en cada clase."
   ]
  },
  {
   "cell_type": "markdown",
   "metadata": {
    "id": "AyFWj1Yd7ObX"
   },
   "source": [
    "Eso es todo por ahora, no olvides socializar tus respuestas en el *canal general * y consultar a tu coach cualquier duda que tengas.\n",
    "¡Que tengas mucho éxito!\n"
   ]
  }
 ],
 "metadata": {
  "colab": {
   "provenance": []
  },
  "kernelspec": {
   "display_name": "Python 3 (ipykernel)",
   "language": "python",
   "name": "python3"
  },
  "language_info": {
   "codemirror_mode": {
    "name": "ipython",
    "version": 3
   },
   "file_extension": ".py",
   "mimetype": "text/x-python",
   "name": "python",
   "nbconvert_exporter": "python",
   "pygments_lexer": "ipython3",
   "version": "3.12.8"
  }
 },
 "nbformat": 4,
 "nbformat_minor": 4
}
