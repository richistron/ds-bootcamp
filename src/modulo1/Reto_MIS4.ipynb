{
 "nbformat": 4,
 "nbformat_minor": 0,
 "metadata": {
  "colab": {
   "provenance": []
  },
  "kernelspec": {
   "name": "python3",
   "display_name": "Python 3 (ipykernel)",
   "language": "python"
  },
  "language_info": {
   "name": "python"
  }
 },
 "cells": [
  {
   "cell_type": "markdown",
   "source": [
    "# Reto 1 MIS4 Fundamentos Ciencia de Datos.\n",
    "\n",
    "Hola te doy la bienvenida a tu reto, recuerda que:\n",
    "\n",
    "1.\tDebes realizar una copia de este Colab en tu Drive personal.\n",
    "2.\tResuelve el reto en la copia que realizaste.\n",
    "3.\tEnvía la liga pública de tu reto resuelto a través del canal general.\n",
    "\n",
    "\n",
    "Realiza lo siguiente:\n",
    "\n",
    "1) Vamos a crear una clase donde el cliente apertura una cuenta nueva en un banco.\n",
    "\n",
    "2) Cada vez que un cliente nuevo, aperture una cuenta nueva, debe comenzar con un saldo de $0.\n",
    "\n",
    "3) Además de lo anterior, debe existir un método que genere ingresos de depósitos y egresos.\n",
    "\n",
    "Nota: No debe existir saldo menor a 0. Genera una alerta sobre este tipo de operaciones."
   ],
   "metadata": {
    "id": "X1HlXkmFLx47"
   }
  },
  {
   "cell_type": "code",
   "metadata": {
    "id": "VqqfSFCVLwga",
    "ExecuteTime": {
     "end_time": "2024-12-27T04:36:26.748139Z",
     "start_time": "2024-12-27T04:36:26.741352Z"
    }
   },
   "source": [
    "# 1) Rellenar los espacios ____\n",
    "class Cuenta:\n",
    "    saldo = 0\n",
    "\n",
    "    def __init__(self):\n",
    "        print(f\"Tu saldo es: {self.saldo}\")\n",
    "\n",
    "    def ingreso(self, ingreso):\n",
    "        self.saldo = self.saldo + ingreso\n",
    "        print(f\"Tu saldo es: {self.saldo}\")\n",
    "\n",
    "    def egreso(self, egreso):\n",
    "        if egreso > self.saldo:\n",
    "            print(\"No se tiene saldo suficiente\")\n",
    "        else:\n",
    "            self.saldo = self.saldo - egreso\n",
    "            print(f\"Tu saldo es: {self.saldo}\")"
   ],
   "outputs": [],
   "execution_count": 1
  },
  {
   "cell_type": "code",
   "source": [
    "Alex = Cuenta()"
   ],
   "metadata": {
    "colab": {
     "base_uri": "https://localhost:8080/"
    },
    "id": "DZMmMZUbOO_a",
    "outputId": "465956ff-4730-47d5-9667-f6391449b3d0",
    "ExecuteTime": {
     "end_time": "2024-12-27T04:36:35.080861Z",
     "start_time": "2024-12-27T04:36:35.076182Z"
    }
   },
   "outputs": [
    {
     "name": "stdout",
     "output_type": "stream",
     "text": [
      "Tu saldo es: 0\n"
     ]
    }
   ],
   "execution_count": 2
  },
  {
   "cell_type": "code",
   "source": [
    "Alex.ingreso(100)"
   ],
   "metadata": {
    "colab": {
     "base_uri": "https://localhost:8080/"
    },
    "id": "r7HYL_wdOVFm",
    "outputId": "653f08c7-5904-4a4e-c8d6-4b75b21c34cb",
    "ExecuteTime": {
     "end_time": "2024-12-27T04:36:40.341588Z",
     "start_time": "2024-12-27T04:36:40.336554Z"
    }
   },
   "outputs": [
    {
     "name": "stdout",
     "output_type": "stream",
     "text": [
      "Tu saldo es: 100\n"
     ]
    }
   ],
   "execution_count": 3
  },
  {
   "cell_type": "code",
   "source": [
    "Alex.egreso(150)"
   ],
   "metadata": {
    "colab": {
     "base_uri": "https://localhost:8080/"
    },
    "id": "k4SMfFK5Ofje",
    "outputId": "eb6858af-86b1-4850-f6a0-bed94f87a9a9",
    "ExecuteTime": {
     "end_time": "2024-12-27T04:36:44.235813Z",
     "start_time": "2024-12-27T04:36:44.231226Z"
    }
   },
   "outputs": [
    {
     "name": "stdout",
     "output_type": "stream",
     "text": [
      "No se tiene saldo suficiente\n"
     ]
    }
   ],
   "execution_count": 4
  },
  {
   "cell_type": "code",
   "source": [
    "Alex.egreso(50)"
   ],
   "metadata": {
    "colab": {
     "base_uri": "https://localhost:8080/"
    },
    "id": "-5NbnD4nO165",
    "outputId": "b0028e09-31dc-46f6-8fd7-e0ad53b5f66e",
    "ExecuteTime": {
     "end_time": "2024-12-27T04:36:48.898313Z",
     "start_time": "2024-12-27T04:36:48.893809Z"
    }
   },
   "outputs": [
    {
     "name": "stdout",
     "output_type": "stream",
     "text": [
      "Tu saldo es: 50\n"
     ]
    }
   ],
   "execution_count": 5
  },
  {
   "cell_type": "markdown",
   "source": [
    "# Reto alto Nivel (opcional)\n",
    "En un cajero hay clientes que pueden hacer depósitos y retiros de dinero. Además al final del día, se calcula  la cantidad de dinero que se ha depositado.\n",
    "\n",
    "Se deberán crear dos clases: La clase cliente y la clase cajero.\n",
    "\n",
    "La clase cliente tendrá los atributos nombre, cantidad y los métodos __init__, depositar, retirar, mostrar_todo.\n",
    "\n",
    "La clase  cajero tendrá como atributos 3 objetos de la clase cliente y los métodos __init__, operar y deposito_total.\n",
    "\n",
    "Puedes consultar en tu sesión de dudas si resolviste bien este reto."
   ],
   "metadata": {
    "id": "HTcl7hknelUv"
   }
  },
  {
   "cell_type": "markdown",
   "source": [
    "Eso es todo por ahora, no olvides socializar tus respuestas en el *canal general * y consultar a tu coach cualquier duda que tengas.\n",
    "¡Que tengas mucho éxito!\n",
    "\n"
   ],
   "metadata": {
    "id": "iY5R7JP67Xb8"
   }
  },
  {
   "metadata": {
    "ExecuteTime": {
     "end_time": "2024-12-27T05:30:03.831820Z",
     "start_time": "2024-12-27T05:30:03.827275Z"
    }
   },
   "cell_type": "code",
   "source": [
    "# error classes\n",
    "class SaldoError(ValueError):\n",
    "    def __init__(self, message=\"Saldo no puede ser menor a 0\"):\n",
    "        self.message = message\n",
    "        super().__init__(self.message)\n",
    "\n",
    "\n",
    "class ClienteError(ValueError):\n",
    "    def __init__(self, cliente):\n",
    "        self.message = f'Cliente \"{cliente}\" no encontrado'\n",
    "        super().__init__(self.message)"
   ],
   "outputs": [],
   "execution_count": 6
  },
  {
   "metadata": {},
   "cell_type": "markdown",
   "source": "## Clase Cliente"
  },
  {
   "metadata": {
    "ExecuteTime": {
     "end_time": "2024-12-27T05:31:46.052371Z",
     "start_time": "2024-12-27T05:31:46.047269Z"
    }
   },
   "cell_type": "code",
   "source": [
    "class Cliente:\n",
    "    transacciones = []\n",
    "\n",
    "    def __init__(self, nombre: str, saldo: int):\n",
    "        self.nombre = nombre\n",
    "        if saldo < 0:\n",
    "            raise SaldoError()\n",
    "        self.saldo = saldo\n",
    "\n",
    "    def retirar(self, cantidad: int):\n",
    "        if cantidad > self.saldo:\n",
    "            raise SaldoErroValueErrorr(\"No se tiene saldo suficiente\")\n",
    "        self.saldo -= cantidad\n",
    "\n",
    "    def depositar(self, cantidad):\n",
    "        self.saldo += cantidad\n",
    "\n",
    "    def mostrar_todo(self):\n",
    "        print(self)\n",
    "\n",
    "    def __str__(self):\n",
    "        return f\"Cliente: {self.nombre}, Saldo: {self.saldo}\""
   ],
   "outputs": [],
   "execution_count": 7
  },
  {
   "metadata": {},
   "cell_type": "markdown",
   "source": "## Clase Cajero"
  },
  {
   "metadata": {
    "ExecuteTime": {
     "end_time": "2024-12-27T05:32:25.755290Z",
     "start_time": "2024-12-27T05:32:25.749620Z"
    }
   },
   "cell_type": "code",
   "source": [
    "class Cajero:\n",
    "    total = 0\n",
    "\n",
    "    def __init__(self, *argv: Cliente):\n",
    "        for cliente in argv:\n",
    "            self.total += cliente.saldo\n",
    "        self.clientes = argv\n",
    "\n",
    "    def operar(self, nombre_cliente, cantidad: int):\n",
    "        cliente = self.__get_cliente(nombre_cliente)\n",
    "        if cliente is None:\n",
    "            raise ClienteError(nombre_cliente)\n",
    "        if cantidad < 0:\n",
    "            cliente.retirar(cantidad * -1)\n",
    "        else:\n",
    "            cliente.depositar(cantidad)\n",
    "\n",
    "    def deposito_total(self):\n",
    "        return sum(cliente.saldo for cliente in self.clientes)\n",
    "\n",
    "    def __get_cliente(self, nombre_cliente):\n",
    "        return next(\n",
    "            (cliente for cliente in self.clientes if cliente.nombre == nombre_cliente),\n",
    "            None,\n",
    "        )\n",
    "\n",
    "    def __str__(self):\n",
    "        return \"\\n\".join(str(cliente) for cliente in self.clientes)"
   ],
   "outputs": [],
   "execution_count": 8
  },
  {
   "metadata": {},
   "cell_type": "markdown",
   "source": "## Creamos clientes"
  },
  {
   "metadata": {
    "ExecuteTime": {
     "end_time": "2024-12-27T05:38:29.465220Z",
     "start_time": "2024-12-27T05:38:29.461323Z"
    }
   },
   "cell_type": "code",
   "source": [
    "ricardo = Cliente(\"Ricardo\", 100)\n",
    "panchito = Cliente(\"Panchito\", 50)\n",
    "filomeno = Cliente(\"Filomeno\", 500)\n",
    "cajero = Cajero(ricardo, panchito, filomeno)"
   ],
   "outputs": [],
   "execution_count": 14
  },
  {
   "metadata": {},
   "cell_type": "markdown",
   "source": "## Operamos con el cajero"
  },
  {
   "metadata": {
    "ExecuteTime": {
     "end_time": "2024-12-27T05:41:28.753875Z",
     "start_time": "2024-12-27T05:41:28.748100Z"
    }
   },
   "cell_type": "code",
   "source": [
    "ricardo = Cliente(\"Ricardo\", 100)\n",
    "panchito = Cliente(\"Panchito\", 50)\n",
    "filomeno = Cliente(\"Filomeno\", 500)\n",
    "cajero = Cajero(ricardo, panchito, filomeno)\n",
    "print(cajero)\n",
    "assert cajero.deposito_total() == 650\n",
    "print(f\"Total inical: {cajero.deposito_total()}\")\n",
    "assert cajero.total == 650\n",
    "cajero.operar(\"Ricardo\", -50)\n",
    "cajero.operar(\"Panchito\", 50)\n",
    "cajero.operar(\"Filomeno\", -400)\n",
    "assert cajero.deposito_total() == 250\n",
    "print(f\"Total final: {cajero.deposito_total()}\")\n",
    "print(cajero)"
   ],
   "outputs": [
    {
     "name": "stdout",
     "output_type": "stream",
     "text": [
      "Cliente: Ricardo, Saldo: 100\n",
      "Cliente: Panchito, Saldo: 50\n",
      "Cliente: Filomeno, Saldo: 500\n",
      "Total inical: 650\n",
      "Total final: 250\n",
      "Cliente: Ricardo, Saldo: 50\n",
      "Cliente: Panchito, Saldo: 100\n",
      "Cliente: Filomeno, Saldo: 100\n"
     ]
    }
   ],
   "execution_count": 19
  }
 ]
}
